{
 "cells": [
  {
   "cell_type": "code",
   "execution_count": 42,
   "metadata": {},
   "outputs": [],
   "source": [
    "#Bibliotecas\n",
    "import pandas as pd\n",
    "import numpy as np\n",
    "import matplotlib.pyplot as plt\n",
    "import seaborn as sns\n",
    "from sklearn.model_selection import train_test_split\n",
    "from sklearn.preprocessing import MinMaxScaler\n",
    "from sklearn.tree import DecisionTreeClassifier\n",
    "from sklearn.linear_model import LogisticRegression\n",
    "from sklearn.ensemble import RandomForestClassifier, GradientBoostingClassifier"
   ]
  },
  {
   "cell_type": "code",
   "execution_count": 43,
   "metadata": {},
   "outputs": [],
   "source": [
    "#Importando os dados\n",
    "media_classificacao_time = pd.read_csv('media_final.csv')"
   ]
  },
  {
   "cell_type": "code",
   "execution_count": 44,
   "metadata": {},
   "outputs": [
    {
     "data": {
      "text/html": [
       "<div>\n",
       "<style scoped>\n",
       "    .dataframe tbody tr th:only-of-type {\n",
       "        vertical-align: middle;\n",
       "    }\n",
       "\n",
       "    .dataframe tbody tr th {\n",
       "        vertical-align: top;\n",
       "    }\n",
       "\n",
       "    .dataframe thead th {\n",
       "        text-align: right;\n",
       "    }\n",
       "</style>\n",
       "<table border=\"1\" class=\"dataframe\">\n",
       "  <thead>\n",
       "    <tr style=\"text-align: right;\">\n",
       "      <th></th>\n",
       "      <th>ano</th>\n",
       "      <th>classificacao_time2</th>\n",
       "      <th>idade</th>\n",
       "      <th>altura_jogador</th>\n",
       "      <th>peso_jogador</th>\n",
       "      <th>qtd_jogadores</th>\n",
       "      <th>media_jogadores</th>\n",
       "      <th>pct_estrangeiro</th>\n",
       "    </tr>\n",
       "  </thead>\n",
       "  <tbody>\n",
       "    <tr>\n",
       "      <th>0</th>\n",
       "      <td>2003</td>\n",
       "      <td>0</td>\n",
       "      <td>40.976190</td>\n",
       "      <td>1.818743</td>\n",
       "      <td>76.018072</td>\n",
       "      <td>168</td>\n",
       "      <td>33.600000</td>\n",
       "      <td>63.095238</td>\n",
       "    </tr>\n",
       "    <tr>\n",
       "      <th>1</th>\n",
       "      <td>2003</td>\n",
       "      <td>2</td>\n",
       "      <td>42.301370</td>\n",
       "      <td>1.812329</td>\n",
       "      <td>76.712329</td>\n",
       "      <td>73</td>\n",
       "      <td>24.333333</td>\n",
       "      <td>54.810496</td>\n",
       "    </tr>\n",
       "    <tr>\n",
       "      <th>2</th>\n",
       "      <td>2004</td>\n",
       "      <td>2</td>\n",
       "      <td>41.602410</td>\n",
       "      <td>1.820952</td>\n",
       "      <td>76.904762</td>\n",
       "      <td>84</td>\n",
       "      <td>28.000000</td>\n",
       "      <td>47.945205</td>\n",
       "    </tr>\n",
       "    <tr>\n",
       "      <th>3</th>\n",
       "      <td>2005</td>\n",
       "      <td>0</td>\n",
       "      <td>39.031250</td>\n",
       "      <td>1.827250</td>\n",
       "      <td>76.925000</td>\n",
       "      <td>160</td>\n",
       "      <td>32.000000</td>\n",
       "      <td>65.662651</td>\n",
       "    </tr>\n",
       "    <tr>\n",
       "      <th>4</th>\n",
       "      <td>2005</td>\n",
       "      <td>2</td>\n",
       "      <td>39.295775</td>\n",
       "      <td>1.824366</td>\n",
       "      <td>77.070423</td>\n",
       "      <td>71</td>\n",
       "      <td>23.666667</td>\n",
       "      <td>56.176471</td>\n",
       "    </tr>\n",
       "  </tbody>\n",
       "</table>\n",
       "</div>"
      ],
      "text/plain": [
       "    ano  classificacao_time2      idade  altura_jogador  peso_jogador  \\\n",
       "0  2003                    0  40.976190        1.818743     76.018072   \n",
       "1  2003                    2  42.301370        1.812329     76.712329   \n",
       "2  2004                    2  41.602410        1.820952     76.904762   \n",
       "3  2005                    0  39.031250        1.827250     76.925000   \n",
       "4  2005                    2  39.295775        1.824366     77.070423   \n",
       "\n",
       "   qtd_jogadores  media_jogadores  pct_estrangeiro  \n",
       "0            168        33.600000        63.095238  \n",
       "1             73        24.333333        54.810496  \n",
       "2             84        28.000000        47.945205  \n",
       "3            160        32.000000        65.662651  \n",
       "4             71        23.666667        56.176471  "
      ]
     },
     "execution_count": 44,
     "metadata": {},
     "output_type": "execute_result"
    }
   ],
   "source": [
    "media_classificacao_time.head()"
   ]
  },
  {
   "cell_type": "markdown",
   "metadata": {},
   "source": [
    "# Modelagem"
   ]
  },
  {
   "cell_type": "code",
   "execution_count": 45,
   "metadata": {},
   "outputs": [],
   "source": [
    "#Dividindo os dados em treino e teste\n",
    "X = media_classificacao_time.drop(columns=['ano','classificacao_time2','qtd_jogadores'])\n",
    "y = media_classificacao_time['classificacao_time2']\n",
    "\n",
    "X_treino, X_teste, y_treino, y_teste = train_test_split(X, y, test_size=0.3, random_state=42)\n",
    "\n"
   ]
  },
  {
   "cell_type": "code",
   "execution_count": 46,
   "metadata": {},
   "outputs": [
    {
     "name": "stdout",
     "output_type": "stream",
     "text": [
      "QTD LINHAS: 20\n"
     ]
    },
    {
     "data": {
      "text/html": [
       "<div>\n",
       "<style scoped>\n",
       "    .dataframe tbody tr th:only-of-type {\n",
       "        vertical-align: middle;\n",
       "    }\n",
       "\n",
       "    .dataframe tbody tr th {\n",
       "        vertical-align: top;\n",
       "    }\n",
       "\n",
       "    .dataframe thead th {\n",
       "        text-align: right;\n",
       "    }\n",
       "</style>\n",
       "<table border=\"1\" class=\"dataframe\">\n",
       "  <thead>\n",
       "    <tr style=\"text-align: right;\">\n",
       "      <th></th>\n",
       "      <th>idade</th>\n",
       "      <th>altura_jogador</th>\n",
       "      <th>peso_jogador</th>\n",
       "      <th>media_jogadores</th>\n",
       "      <th>pct_estrangeiro</th>\n",
       "    </tr>\n",
       "  </thead>\n",
       "  <tbody>\n",
       "    <tr>\n",
       "      <th>13</th>\n",
       "      <td>34.510870</td>\n",
       "      <td>1.832717</td>\n",
       "      <td>77.456522</td>\n",
       "      <td>30.666667</td>\n",
       "      <td>60.638298</td>\n",
       "    </tr>\n",
       "    <tr>\n",
       "      <th>15</th>\n",
       "      <td>32.707602</td>\n",
       "      <td>1.827778</td>\n",
       "      <td>76.198830</td>\n",
       "      <td>34.200000</td>\n",
       "      <td>65.402844</td>\n",
       "    </tr>\n",
       "    <tr>\n",
       "      <th>11</th>\n",
       "      <td>35.877049</td>\n",
       "      <td>1.822479</td>\n",
       "      <td>75.851240</td>\n",
       "      <td>42.333333</td>\n",
       "      <td>45.161290</td>\n",
       "    </tr>\n",
       "    <tr>\n",
       "      <th>17</th>\n",
       "      <td>31.957983</td>\n",
       "      <td>1.824774</td>\n",
       "      <td>76.178470</td>\n",
       "      <td>29.750000</td>\n",
       "      <td>54.347826</td>\n",
       "    </tr>\n",
       "    <tr>\n",
       "      <th>1</th>\n",
       "      <td>42.301370</td>\n",
       "      <td>1.812329</td>\n",
       "      <td>76.712329</td>\n",
       "      <td>24.333333</td>\n",
       "      <td>54.810496</td>\n",
       "    </tr>\n",
       "  </tbody>\n",
       "</table>\n",
       "</div>"
      ],
      "text/plain": [
       "        idade  altura_jogador  peso_jogador  media_jogadores  pct_estrangeiro\n",
       "13  34.510870        1.832717     77.456522        30.666667        60.638298\n",
       "15  32.707602        1.827778     76.198830        34.200000        65.402844\n",
       "11  35.877049        1.822479     75.851240        42.333333        45.161290\n",
       "17  31.957983        1.824774     76.178470        29.750000        54.347826\n",
       "1   42.301370        1.812329     76.712329        24.333333        54.810496"
      ]
     },
     "execution_count": 46,
     "metadata": {},
     "output_type": "execute_result"
    }
   ],
   "source": [
    "print(\"QTD LINHAS:\", len(X_treino))\n",
    "X_treino.head()"
   ]
  },
  {
   "cell_type": "code",
   "execution_count": 47,
   "metadata": {},
   "outputs": [
    {
     "name": "stdout",
     "output_type": "stream",
     "text": [
      "QTD LINHAS: 20\n"
     ]
    },
    {
     "data": {
      "text/plain": [
       "13    2\n",
       "15    0\n",
       "11    2\n",
       "17    1\n",
       "1     2\n",
       "Name: classificacao_time2, dtype: int64"
      ]
     },
     "execution_count": 47,
     "metadata": {},
     "output_type": "execute_result"
    }
   ],
   "source": [
    "print(\"QTD LINHAS:\", len(y_treino))\n",
    "y_treino.head()"
   ]
  },
  {
   "cell_type": "code",
   "execution_count": 48,
   "metadata": {},
   "outputs": [
    {
     "name": "stdout",
     "output_type": "stream",
     "text": [
      "QTD LINHAS: 9\n"
     ]
    },
    {
     "data": {
      "text/html": [
       "<div>\n",
       "<style scoped>\n",
       "    .dataframe tbody tr th:only-of-type {\n",
       "        vertical-align: middle;\n",
       "    }\n",
       "\n",
       "    .dataframe tbody tr th {\n",
       "        vertical-align: top;\n",
       "    }\n",
       "\n",
       "    .dataframe thead th {\n",
       "        text-align: right;\n",
       "    }\n",
       "</style>\n",
       "<table border=\"1\" class=\"dataframe\">\n",
       "  <thead>\n",
       "    <tr style=\"text-align: right;\">\n",
       "      <th></th>\n",
       "      <th>idade</th>\n",
       "      <th>altura_jogador</th>\n",
       "      <th>peso_jogador</th>\n",
       "      <th>media_jogadores</th>\n",
       "      <th>pct_estrangeiro</th>\n",
       "    </tr>\n",
       "  </thead>\n",
       "  <tbody>\n",
       "    <tr>\n",
       "      <th>27</th>\n",
       "      <td>25.537975</td>\n",
       "      <td>1.829627</td>\n",
       "      <td>75.852713</td>\n",
       "      <td>31.600000</td>\n",
       "      <td>62.576687</td>\n",
       "    </tr>\n",
       "    <tr>\n",
       "      <th>16</th>\n",
       "      <td>33.132743</td>\n",
       "      <td>1.820088</td>\n",
       "      <td>75.477876</td>\n",
       "      <td>37.666667</td>\n",
       "      <td>58.139535</td>\n",
       "    </tr>\n",
       "    <tr>\n",
       "      <th>12</th>\n",
       "      <td>34.022599</td>\n",
       "      <td>1.819659</td>\n",
       "      <td>75.880682</td>\n",
       "      <td>35.400000</td>\n",
       "      <td>66.257669</td>\n",
       "    </tr>\n",
       "    <tr>\n",
       "      <th>22</th>\n",
       "      <td>30.306818</td>\n",
       "      <td>1.839318</td>\n",
       "      <td>78.395349</td>\n",
       "      <td>29.333333</td>\n",
       "      <td>58.474576</td>\n",
       "    </tr>\n",
       "    <tr>\n",
       "      <th>8</th>\n",
       "      <td>36.282609</td>\n",
       "      <td>1.831848</td>\n",
       "      <td>75.619565</td>\n",
       "      <td>30.666667</td>\n",
       "      <td>43.661972</td>\n",
       "    </tr>\n",
       "  </tbody>\n",
       "</table>\n",
       "</div>"
      ],
      "text/plain": [
       "        idade  altura_jogador  peso_jogador  media_jogadores  pct_estrangeiro\n",
       "27  25.537975        1.829627     75.852713        31.600000        62.576687\n",
       "16  33.132743        1.820088     75.477876        37.666667        58.139535\n",
       "12  34.022599        1.819659     75.880682        35.400000        66.257669\n",
       "22  30.306818        1.839318     78.395349        29.333333        58.474576\n",
       "8   36.282609        1.831848     75.619565        30.666667        43.661972"
      ]
     },
     "execution_count": 48,
     "metadata": {},
     "output_type": "execute_result"
    }
   ],
   "source": [
    "print(\"QTD LINHAS:\", len(X_teste))\n",
    "X_teste.head()"
   ]
  },
  {
   "cell_type": "code",
   "execution_count": 49,
   "metadata": {},
   "outputs": [],
   "source": [
    "#Normalizando os dados\n",
    "scaler = MinMaxScaler()\n",
    "X_treino = scaler.fit_transform(X_treino)\n",
    "X_teste = scaler.transform(X_teste)\n"
   ]
  },
  {
   "cell_type": "code",
   "execution_count": 50,
   "metadata": {},
   "outputs": [
    {
     "data": {
      "text/plain": [
       "44.44444444444444"
      ]
     },
     "execution_count": 50,
     "metadata": {},
     "output_type": "execute_result"
    }
   ],
   "source": [
    "#Treinando o modelo de regressão logística\n",
    "#Treinando o modelo\n",
    "modelo_LR = LogisticRegression(random_state=0)\n",
    "modelo_LR.fit(X_treino, y_treino)\n",
    "#Avaliando o modelo\n",
    "modelo_LR.score(X_teste, y_teste)*100"
   ]
  },
  {
   "cell_type": "code",
   "execution_count": 51,
   "metadata": {},
   "outputs": [
    {
     "data": {
      "text/plain": [
       "66.66666666666666"
      ]
     },
     "execution_count": 51,
     "metadata": {},
     "output_type": "execute_result"
    }
   ],
   "source": [
    "#Treinando o modelo\n",
    "modelo_DT = DecisionTreeClassifier(random_state=0)\n",
    "modelo_DT.fit(X_treino, y_treino)\n",
    "\n",
    "#Avaliando o modelo\n",
    "modelo_DT.score(X_teste, y_teste)*100\n"
   ]
  },
  {
   "cell_type": "code",
   "execution_count": 52,
   "metadata": {},
   "outputs": [
    {
     "data": {
      "text/plain": [
       "0.7777777777777778"
      ]
     },
     "execution_count": 52,
     "metadata": {},
     "output_type": "execute_result"
    }
   ],
   "source": [
    "#Treinando o modelo\n",
    "modelo_RF = RandomForestClassifier()\n",
    "modelo_RF.fit(X_treino, y_treino)\n",
    "\n",
    "#Avaliando o modelo\n",
    "modelo_RF.score(X_teste, y_teste)"
   ]
  },
  {
   "cell_type": "code",
   "execution_count": 53,
   "metadata": {},
   "outputs": [
    {
     "data": {
      "text/plain": [
       "0.6666666666666666"
      ]
     },
     "execution_count": 53,
     "metadata": {},
     "output_type": "execute_result"
    }
   ],
   "source": [
    "#Treinando o modelo\n",
    "modelo_GB = GradientBoostingClassifier()\n",
    "modelo_GB.fit(X_treino, y_treino)\n",
    "\n",
    "#Avaliando o modelo\n",
    "modelo_GB.score(X_teste, y_teste)\n"
   ]
  },
  {
   "cell_type": "markdown",
   "metadata": {},
   "source": [
    "Avaliando as variaveis mais importantes para o modelo\n",
    "\n",
    "\n",
    "### Feature Importance"
   ]
  },
  {
   "cell_type": "code",
   "execution_count": 54,
   "metadata": {},
   "outputs": [
    {
     "name": "stdout",
     "output_type": "stream",
     "text": [
      "('idade', 0.14639639639639643)\n",
      "('altura_jogador', 0.0)\n",
      "('peso_jogador', 0.2837837837837839)\n",
      "('media_jogadores', 0.0)\n",
      "('pct_estrangeiro', 0.5698198198198197)\n"
     ]
    }
   ],
   "source": [
    "#Avliando a importância das variáveis com a arvore de decisão\n",
    "for i in zip(X.columns, modelo_DT.feature_importances_):\n",
    " print(i)"
   ]
  },
  {
   "cell_type": "code",
   "execution_count": 55,
   "metadata": {},
   "outputs": [
    {
     "name": "stdout",
     "output_type": "stream",
     "text": [
      "('idade', 0.1845992234403687)\n",
      "('altura_jogador', 0.1125895221449672)\n",
      "('peso_jogador', 0.13114275747356807)\n",
      "('media_jogadores', 0.2404565231130774)\n",
      "('pct_estrangeiro', 0.3312119738280187)\n"
     ]
    }
   ],
   "source": [
    "#Avaliando a importância das variáveis com o random forest\n",
    "for i in zip(X.columns, modelo_RF.feature_importances_):\n",
    " print(i)"
   ]
  },
  {
   "cell_type": "code",
   "execution_count": 56,
   "metadata": {},
   "outputs": [
    {
     "name": "stdout",
     "output_type": "stream",
     "text": [
      "('idade', 0.14502822473040566)\n",
      "('altura_jogador', 0.06200936279391901)\n",
      "('peso_jogador', 0.23773320936557954)\n",
      "('media_jogadores', 0.05285170107422273)\n",
      "('pct_estrangeiro', 0.5023775020358731)\n"
     ]
    }
   ],
   "source": [
    "#Avaliando a importância das variáveis com o gradient boosting\n",
    "for i in zip(X.columns, modelo_GB.feature_importances_):\n",
    " print(i)"
   ]
  },
  {
   "cell_type": "code",
   "execution_count": 57,
   "metadata": {},
   "outputs": [
    {
     "name": "stdout",
     "output_type": "stream",
     "text": [
      "('idade', -0.029749934367553528)\n",
      "('altura_jogador', -0.18045886656817925)\n",
      "('peso_jogador', -0.16390721920665935)\n",
      "('media_jogadores', 0.5412721668378137)\n",
      "('pct_estrangeiro', 1.1247827610831287)\n"
     ]
    }
   ],
   "source": [
    "#Avaliando a importância das variáveis com a regressão logística\n",
    "for i in zip(X.columns, modelo_LR.coef_[0]):\n",
    " print(i)"
   ]
  },
  {
   "cell_type": "markdown",
   "metadata": {},
   "source": [
    "### Prever os modelos\n",
    "#### Avaliar os modelos com outras métricas "
   ]
  },
  {
   "cell_type": "code",
   "execution_count": 62,
   "metadata": {},
   "outputs": [],
   "source": [
    "#Importanto as bibliotecas para avaliação dos modelos\n",
    "from sklearn.metrics import classification_report, confusion_matrix, f1_score, accuracy_score, ConfusionMatrixDisplay\n"
   ]
  },
  {
   "cell_type": "code",
   "execution_count": 63,
   "metadata": {},
   "outputs": [
    {
     "data": {
      "text/plain": [
       "array([2, 2, 0, 2, 2, 2, 2, 2, 2], dtype=int64)"
      ]
     },
     "execution_count": 63,
     "metadata": {},
     "output_type": "execute_result"
    }
   ],
   "source": [
    "#Prever o modelo de regressão logística\n",
    "y_pred_LR = modelo_LR.predict(X_teste) \n",
    "y_pred_LR\n"
   ]
  },
  {
   "cell_type": "code",
   "execution_count": 64,
   "metadata": {},
   "outputs": [
    {
     "name": "stdout",
     "output_type": "stream",
     "text": [
      "              precision    recall  f1-score   support\n",
      "\n",
      "           0       1.00      0.20      0.33         5\n",
      "           1       0.00      0.00      0.00         1\n",
      "           2       0.38      1.00      0.55         3\n",
      "\n",
      "    accuracy                           0.44         9\n",
      "   macro avg       0.46      0.40      0.29         9\n",
      "weighted avg       0.68      0.44      0.37         9\n",
      "\n"
     ]
    },
    {
     "name": "stderr",
     "output_type": "stream",
     "text": [
      "c:\\Users\\Elvis\\AppData\\Local\\Programs\\Python\\Python312\\Lib\\site-packages\\sklearn\\metrics\\_classification.py:1471: UndefinedMetricWarning: Precision and F-score are ill-defined and being set to 0.0 in labels with no predicted samples. Use `zero_division` parameter to control this behavior.\n",
      "  _, _, f, _ = precision_recall_fscore_support(\n",
      "c:\\Users\\Elvis\\AppData\\Local\\Programs\\Python\\Python312\\Lib\\site-packages\\sklearn\\metrics\\_classification.py:1471: UndefinedMetricWarning: Precision and F-score are ill-defined and being set to 0.0 in labels with no predicted samples. Use `zero_division` parameter to control this behavior.\n",
      "  _, _, f, _ = precision_recall_fscore_support(\n",
      "c:\\Users\\Elvis\\AppData\\Local\\Programs\\Python\\Python312\\Lib\\site-packages\\sklearn\\metrics\\_classification.py:1471: UndefinedMetricWarning: Precision and F-score are ill-defined and being set to 0.0 in labels with no predicted samples. Use `zero_division` parameter to control this behavior.\n",
      "  _, _, f, _ = precision_recall_fscore_support(\n"
     ]
    }
   ],
   "source": [
    "#Avaliar o modelo de regressão logística com Classification Report \n",
    "print(classification_report(y_teste, y_pred_LR))\n",
    "\n",
    "#print(classification_report(y_teste, y_pred))\n"
   ]
  },
  {
   "cell_type": "markdown",
   "metadata": {},
   "source": [
    "print(confusion_matrix(y_teste, y_pred))\n",
    "print(accuracy_score(y_teste, y_pred))\n",
    "cm = confusion_matrix(y_teste, y_pred)\n",
    "disp = ConfusionMatrixDisplay(confusion_matrix=cm, display_labels=modelo_LR.classes_)\n",
    "disp.plot()"
   ]
  },
  {
   "cell_type": "code",
   "execution_count": 67,
   "metadata": {},
   "outputs": [
    {
     "data": {
      "text/plain": [
       "array([[1, 0, 4],\n",
       "       [0, 0, 1],\n",
       "       [0, 0, 3]], dtype=int64)"
      ]
     },
     "execution_count": 67,
     "metadata": {},
     "output_type": "execute_result"
    }
   ],
   "source": [
    "#Avaliar o modelo de regressão logística com Matriz de Confusão\n",
    "confusion_matrix(y_teste, y_pred_LR)\n"
   ]
  },
  {
   "cell_type": "code",
   "execution_count": 70,
   "metadata": {},
   "outputs": [
    {
     "data": {
      "text/plain": [
       "<sklearn.metrics._plot.confusion_matrix.ConfusionMatrixDisplay at 0x26678949850>"
      ]
     },
     "execution_count": 70,
     "metadata": {},
     "output_type": "execute_result"
    },
    {
     "data": {
      "image/png": "[encoded data removed]",
      "text/plain": [
       "<Figure size 640x480 with 2 Axes>"
      ]
     },
     "metadata": {},
     "output_type": "display_data"
    }
   ],
   "source": [
    "#Plot da matriz de confusão\n",
    "cm = confusion_matrix(y_teste, y_pred_LR)\n",
    "disp = ConfusionMatrixDisplay(confusion_matrix=cm, display_labels=modelo_LR.classes_)\n",
    "disp.plot()"
   ]
  },
  {
   "cell_type": "code",
   "execution_count": null,
   "metadata": {},
   "outputs": [],
   "source": [
    "import joblib as jb"
   ]
  },
  {
   "cell_type": "code",
   "execution_count": 75,
   "metadata": {},
   "outputs": [
    {
     "data": {
      "text/plain": [
       "{'model': LogisticRegression(),\n",
       " 'mdetadata': {'description': \"Modelo de Regressão Logistica. Foram utilizados os seguintes dados:idade','altura_jogador','peso_jogador','media_jogadores','pct_estrangeiro\",\n",
       "  'author': 'AEE',\n",
       "  'date': '02/06/2024',\n",
       "  'source_code_version': '0.1',\n",
       "  'metrics': 'acc: 0.77 e f1score:0.54462'}}"
      ]
     },
     "execution_count": 75,
     "metadata": {},
     "output_type": "execute_result"
    }
   ],
   "source": [
    "\n",
    "\n",
    "modelo_LR=y_pred_LR\n",
    "\n",
    "description='Modelo de Regressão Logistica. Foram utilizados os seguintes dados:' + \"','\".join(X.columns)\n",
    "date='02/06/2024'\n",
    "version='0.1'\n",
    "name_modelo='media_final_RL'\n",
    "metrics= 'acc: 0.77 e f1score:0.54462'\n",
    "\n",
    "dic_save_model = dict({\n",
    "'model': modelo,\n",
    "'mdetadata':{\n",
    "\t'description': description,\n",
    "\t'author': 'AEE',\n",
    "\t'date': date,\n",
    "\t'source_code_version':version,\n",
    "\t'metrics':metrics\n",
    "}\n",
    "})\n",
    "dic_save_model\n"
   ]
  },
  {
   "cell_type": "markdown",
   "metadata": {},
   "source": [
    "Avaliando a ÁRVORE DE DECISÃO"
   ]
  },
  {
   "cell_type": "code",
   "execution_count": 76,
   "metadata": {},
   "outputs": [
    {
     "data": {
      "text/plain": [
       "array([0, 2, 0, 1, 2, 2, 0, 0, 2], dtype=int64)"
      ]
     },
     "execution_count": 76,
     "metadata": {},
     "output_type": "execute_result"
    }
   ],
   "source": [
    "#Prever o modelo de arvore de decisão\n",
    "y_pred_DT = modelo_DT.predict(X_teste)\n",
    "y_pred_DT\n"
   ]
  },
  {
   "cell_type": "code",
   "execution_count": 77,
   "metadata": {},
   "outputs": [
    {
     "name": "stdout",
     "output_type": "stream",
     "text": [
      "              precision    recall  f1-score   support\n",
      "\n",
      "           0       1.00      0.80      0.89         5\n",
      "           1       0.00      0.00      0.00         1\n",
      "           2       0.50      0.67      0.57         3\n",
      "\n",
      "    accuracy                           0.67         9\n",
      "   macro avg       0.50      0.49      0.49         9\n",
      "weighted avg       0.72      0.67      0.68         9\n",
      "\n"
     ]
    }
   ],
   "source": [
    "#Avaliar o modelo de regressão logística com Classification Report \n",
    "print(classification_report(y_teste, y_pred_DT))\n"
   ]
  }
 ],
 "metadata": {
  "kernelspec": {
   "display_name": "Python 3",
   "language": "python",
   "name": "python3"
  },
  "language_info": {
   "codemirror_mode": {
    "name": "ipython",
    "version": 3
   },
   "file_extension": ".py",
   "mimetype": "text/x-python",
   "name": "python",
   "nbconvert_exporter": "python",
   "pygments_lexer": "ipython3",
   "version": "3.12.0"
  }
 },
 "nbformat": 4,
 "nbformat_minor": 2
}
