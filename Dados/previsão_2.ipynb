{
 "cells": [
  {
   "cell_type": "code",
   "execution_count": 1005,
   "metadata": {},
   "outputs": [],
   "source": [
    "#Bibliotecas\n",
    "import pandas as pd\n",
    "import numpy as np\n",
    "import matplotlib.pyplot as plt\n",
    "import seaborn as sns\n",
    "from sklearn.model_selection import train_test_split\n",
    "from sklearn.preprocessing import MinMaxScaler\n",
    "from sklearn.tree import DecisionTreeClassifier\n",
    "from sklearn.linear_model import LogisticRegression\n",
    "from sklearn.ensemble import RandomForestClassifier, GradientBoostingClassifier"
   ]
  },
  {
   "cell_type": "code",
   "execution_count": 1006,
   "metadata": {},
   "outputs": [],
   "source": [
    "#Importando os dados\n",
    "media_classificacao_time = pd.read_csv('media_final.csv')"
   ]
  },
  {
   "cell_type": "code",
   "execution_count": 1007,
   "metadata": {},
   "outputs": [
    {
     "data": {
      "text/html": [
       "<div>\n",
       "<style scoped>\n",
       "    .dataframe tbody tr th:only-of-type {\n",
       "        vertical-align: middle;\n",
       "    }\n",
       "\n",
       "    .dataframe tbody tr th {\n",
       "        vertical-align: top;\n",
       "    }\n",
       "\n",
       "    .dataframe thead th {\n",
       "        text-align: right;\n",
       "    }\n",
       "</style>\n",
       "<table border=\"1\" class=\"dataframe\">\n",
       "  <thead>\n",
       "    <tr style=\"text-align: right;\">\n",
       "      <th></th>\n",
       "      <th>ano</th>\n",
       "      <th>classificacao_time2</th>\n",
       "      <th>idade</th>\n",
       "      <th>altura_jogador</th>\n",
       "      <th>peso_jogador</th>\n",
       "      <th>qtd_jogadores</th>\n",
       "      <th>media_jogadores</th>\n",
       "      <th>pct_estrangeiro</th>\n",
       "    </tr>\n",
       "  </thead>\n",
       "  <tbody>\n",
       "    <tr>\n",
       "      <th>0</th>\n",
       "      <td>2003</td>\n",
       "      <td>0</td>\n",
       "      <td>40.976190</td>\n",
       "      <td>1.818743</td>\n",
       "      <td>76.018072</td>\n",
       "      <td>168</td>\n",
       "      <td>33.600000</td>\n",
       "      <td>63.095238</td>\n",
       "    </tr>\n",
       "    <tr>\n",
       "      <th>1</th>\n",
       "      <td>2003</td>\n",
       "      <td>2</td>\n",
       "      <td>42.301370</td>\n",
       "      <td>1.812329</td>\n",
       "      <td>76.712329</td>\n",
       "      <td>73</td>\n",
       "      <td>24.333333</td>\n",
       "      <td>54.810496</td>\n",
       "    </tr>\n",
       "    <tr>\n",
       "      <th>2</th>\n",
       "      <td>2004</td>\n",
       "      <td>2</td>\n",
       "      <td>41.602410</td>\n",
       "      <td>1.820952</td>\n",
       "      <td>76.904762</td>\n",
       "      <td>84</td>\n",
       "      <td>28.000000</td>\n",
       "      <td>47.945205</td>\n",
       "    </tr>\n",
       "    <tr>\n",
       "      <th>3</th>\n",
       "      <td>2005</td>\n",
       "      <td>0</td>\n",
       "      <td>39.031250</td>\n",
       "      <td>1.827250</td>\n",
       "      <td>76.925000</td>\n",
       "      <td>160</td>\n",
       "      <td>32.000000</td>\n",
       "      <td>65.662651</td>\n",
       "    </tr>\n",
       "    <tr>\n",
       "      <th>4</th>\n",
       "      <td>2005</td>\n",
       "      <td>2</td>\n",
       "      <td>39.295775</td>\n",
       "      <td>1.824366</td>\n",
       "      <td>77.070423</td>\n",
       "      <td>71</td>\n",
       "      <td>23.666667</td>\n",
       "      <td>56.176471</td>\n",
       "    </tr>\n",
       "  </tbody>\n",
       "</table>\n",
       "</div>"
      ],
      "text/plain": [
       "    ano  classificacao_time2      idade  altura_jogador  peso_jogador  \\\n",
       "0  2003                    0  40.976190        1.818743     76.018072   \n",
       "1  2003                    2  42.301370        1.812329     76.712329   \n",
       "2  2004                    2  41.602410        1.820952     76.904762   \n",
       "3  2005                    0  39.031250        1.827250     76.925000   \n",
       "4  2005                    2  39.295775        1.824366     77.070423   \n",
       "\n",
       "   qtd_jogadores  media_jogadores  pct_estrangeiro  \n",
       "0            168        33.600000        63.095238  \n",
       "1             73        24.333333        54.810496  \n",
       "2             84        28.000000        47.945205  \n",
       "3            160        32.000000        65.662651  \n",
       "4             71        23.666667        56.176471  "
      ]
     },
     "execution_count": 1007,
     "metadata": {},
     "output_type": "execute_result"
    }
   ],
   "source": [
    "media_classificacao_time.head()"
   ]
  },
  {
   "cell_type": "markdown",
   "metadata": {},
   "source": [
    "# Modelagem"
   ]
  },
  {
   "cell_type": "code",
   "execution_count": 1008,
   "metadata": {},
   "outputs": [],
   "source": [
    "#Dividindo os dados em treino e teste\n",
    "X = media_classificacao_time.drop(columns=['ano','classificacao_time2','qtd_jogadores'])\n",
    "y = media_classificacao_time['classificacao_time2']\n",
    "\n",
    "X_treino, X_teste, y_treino, y_teste = train_test_split(X, y, test_size=0.3, random_state=42)\n",
    "\n"
   ]
  },
  {
   "cell_type": "code",
   "execution_count": 1009,
   "metadata": {},
   "outputs": [
    {
     "name": "stdout",
     "output_type": "stream",
     "text": [
      "QTD LINHAS: 20\n"
     ]
    },
    {
     "data": {
      "text/html": [
       "<div>\n",
       "<style scoped>\n",
       "    .dataframe tbody tr th:only-of-type {\n",
       "        vertical-align: middle;\n",
       "    }\n",
       "\n",
       "    .dataframe tbody tr th {\n",
       "        vertical-align: top;\n",
       "    }\n",
       "\n",
       "    .dataframe thead th {\n",
       "        text-align: right;\n",
       "    }\n",
       "</style>\n",
       "<table border=\"1\" class=\"dataframe\">\n",
       "  <thead>\n",
       "    <tr style=\"text-align: right;\">\n",
       "      <th></th>\n",
       "      <th>idade</th>\n",
       "      <th>altura_jogador</th>\n",
       "      <th>peso_jogador</th>\n",
       "      <th>media_jogadores</th>\n",
       "      <th>pct_estrangeiro</th>\n",
       "    </tr>\n",
       "  </thead>\n",
       "  <tbody>\n",
       "    <tr>\n",
       "      <th>13</th>\n",
       "      <td>34.510870</td>\n",
       "      <td>1.832717</td>\n",
       "      <td>77.456522</td>\n",
       "      <td>30.666667</td>\n",
       "      <td>60.638298</td>\n",
       "    </tr>\n",
       "    <tr>\n",
       "      <th>15</th>\n",
       "      <td>32.707602</td>\n",
       "      <td>1.827778</td>\n",
       "      <td>76.198830</td>\n",
       "      <td>34.200000</td>\n",
       "      <td>65.402844</td>\n",
       "    </tr>\n",
       "    <tr>\n",
       "      <th>11</th>\n",
       "      <td>35.877049</td>\n",
       "      <td>1.822479</td>\n",
       "      <td>75.851240</td>\n",
       "      <td>42.333333</td>\n",
       "      <td>45.161290</td>\n",
       "    </tr>\n",
       "    <tr>\n",
       "      <th>17</th>\n",
       "      <td>31.957983</td>\n",
       "      <td>1.824774</td>\n",
       "      <td>76.178470</td>\n",
       "      <td>29.750000</td>\n",
       "      <td>54.347826</td>\n",
       "    </tr>\n",
       "    <tr>\n",
       "      <th>1</th>\n",
       "      <td>42.301370</td>\n",
       "      <td>1.812329</td>\n",
       "      <td>76.712329</td>\n",
       "      <td>24.333333</td>\n",
       "      <td>54.810496</td>\n",
       "    </tr>\n",
       "  </tbody>\n",
       "</table>\n",
       "</div>"
      ],
      "text/plain": [
       "        idade  altura_jogador  peso_jogador  media_jogadores  pct_estrangeiro\n",
       "13  34.510870        1.832717     77.456522        30.666667        60.638298\n",
       "15  32.707602        1.827778     76.198830        34.200000        65.402844\n",
       "11  35.877049        1.822479     75.851240        42.333333        45.161290\n",
       "17  31.957983        1.824774     76.178470        29.750000        54.347826\n",
       "1   42.301370        1.812329     76.712329        24.333333        54.810496"
      ]
     },
     "execution_count": 1009,
     "metadata": {},
     "output_type": "execute_result"
    }
   ],
   "source": [
    "print(\"QTD LINHAS:\", len(X_treino))\n",
    "X_treino.head()"
   ]
  },
  {
   "cell_type": "code",
   "execution_count": 1010,
   "metadata": {},
   "outputs": [
    {
     "name": "stdout",
     "output_type": "stream",
     "text": [
      "QTD LINHAS: 20\n"
     ]
    },
    {
     "data": {
      "text/plain": [
       "13    2\n",
       "15    0\n",
       "11    2\n",
       "17    1\n",
       "1     2\n",
       "Name: classificacao_time2, dtype: int64"
      ]
     },
     "execution_count": 1010,
     "metadata": {},
     "output_type": "execute_result"
    }
   ],
   "source": [
    "print(\"QTD LINHAS:\", len(y_treino))\n",
    "y_treino.head()"
   ]
  },
  {
   "cell_type": "code",
   "execution_count": 1011,
   "metadata": {},
   "outputs": [
    {
     "name": "stdout",
     "output_type": "stream",
     "text": [
      "QTD LINHAS: 9\n"
     ]
    },
    {
     "data": {
      "text/html": [
       "<div>\n",
       "<style scoped>\n",
       "    .dataframe tbody tr th:only-of-type {\n",
       "        vertical-align: middle;\n",
       "    }\n",
       "\n",
       "    .dataframe tbody tr th {\n",
       "        vertical-align: top;\n",
       "    }\n",
       "\n",
       "    .dataframe thead th {\n",
       "        text-align: right;\n",
       "    }\n",
       "</style>\n",
       "<table border=\"1\" class=\"dataframe\">\n",
       "  <thead>\n",
       "    <tr style=\"text-align: right;\">\n",
       "      <th></th>\n",
       "      <th>idade</th>\n",
       "      <th>altura_jogador</th>\n",
       "      <th>peso_jogador</th>\n",
       "      <th>media_jogadores</th>\n",
       "      <th>pct_estrangeiro</th>\n",
       "    </tr>\n",
       "  </thead>\n",
       "  <tbody>\n",
       "    <tr>\n",
       "      <th>27</th>\n",
       "      <td>25.537975</td>\n",
       "      <td>1.829627</td>\n",
       "      <td>75.852713</td>\n",
       "      <td>31.600000</td>\n",
       "      <td>62.576687</td>\n",
       "    </tr>\n",
       "    <tr>\n",
       "      <th>16</th>\n",
       "      <td>33.132743</td>\n",
       "      <td>1.820088</td>\n",
       "      <td>75.477876</td>\n",
       "      <td>37.666667</td>\n",
       "      <td>58.139535</td>\n",
       "    </tr>\n",
       "    <tr>\n",
       "      <th>12</th>\n",
       "      <td>34.022599</td>\n",
       "      <td>1.819659</td>\n",
       "      <td>75.880682</td>\n",
       "      <td>35.400000</td>\n",
       "      <td>66.257669</td>\n",
       "    </tr>\n",
       "    <tr>\n",
       "      <th>22</th>\n",
       "      <td>30.306818</td>\n",
       "      <td>1.839318</td>\n",
       "      <td>78.395349</td>\n",
       "      <td>29.333333</td>\n",
       "      <td>58.474576</td>\n",
       "    </tr>\n",
       "    <tr>\n",
       "      <th>8</th>\n",
       "      <td>36.282609</td>\n",
       "      <td>1.831848</td>\n",
       "      <td>75.619565</td>\n",
       "      <td>30.666667</td>\n",
       "      <td>43.661972</td>\n",
       "    </tr>\n",
       "  </tbody>\n",
       "</table>\n",
       "</div>"
      ],
      "text/plain": [
       "        idade  altura_jogador  peso_jogador  media_jogadores  pct_estrangeiro\n",
       "27  25.537975        1.829627     75.852713        31.600000        62.576687\n",
       "16  33.132743        1.820088     75.477876        37.666667        58.139535\n",
       "12  34.022599        1.819659     75.880682        35.400000        66.257669\n",
       "22  30.306818        1.839318     78.395349        29.333333        58.474576\n",
       "8   36.282609        1.831848     75.619565        30.666667        43.661972"
      ]
     },
     "execution_count": 1011,
     "metadata": {},
     "output_type": "execute_result"
    }
   ],
   "source": [
    "print(\"QTD LINHAS:\", len(X_teste))\n",
    "X_teste.head()"
   ]
  },
  {
   "cell_type": "code",
   "execution_count": 1012,
   "metadata": {},
   "outputs": [],
   "source": [
    "#Normalizando os dados\n",
    "scaler = MinMaxScaler()\n",
    "X_treino = scaler.fit_transform(X_treino)\n",
    "X_teste = scaler.transform(X_teste)\n"
   ]
  },
  {
   "cell_type": "code",
   "execution_count": 1013,
   "metadata": {},
   "outputs": [
    {
     "data": {
      "text/plain": [
       "44.44444444444444"
      ]
     },
     "execution_count": 1013,
     "metadata": {},
     "output_type": "execute_result"
    }
   ],
   "source": [
    "#Treinando o modelo de regressão logística\n",
    "#Treinando o modelo\n",
    "modelo_LR = LogisticRegression(random_state=0)\n",
    "modelo_LR.fit(X_treino, y_treino)\n",
    "#Avaliando o modelo\n",
    "modelo_LR.score(X_teste, y_teste)*100"
   ]
  },
  {
   "cell_type": "code",
   "execution_count": 1014,
   "metadata": {},
   "outputs": [
    {
     "data": {
      "text/plain": [
       "66.66666666666666"
      ]
     },
     "execution_count": 1014,
     "metadata": {},
     "output_type": "execute_result"
    }
   ],
   "source": [
    "#Treinando o modelo\n",
    "modelo_DT = DecisionTreeClassifier(random_state=0)\n",
    "modelo_DT.fit(X_treino, y_treino)\n",
    "\n",
    "#Avaliando o modelo\n",
    "modelo_DT.score(X_teste, y_teste)*100\n"
   ]
  },
  {
   "cell_type": "code",
   "execution_count": 1015,
   "metadata": {},
   "outputs": [
    {
     "data": {
      "text/plain": [
       "0.7777777777777778"
      ]
     },
     "execution_count": 1015,
     "metadata": {},
     "output_type": "execute_result"
    }
   ],
   "source": [
    "#Treinando o modelo\n",
    "modelo_RF = RandomForestClassifier(random_state=0)\n",
    "modelo_RF.fit(X_treino, y_treino)\n",
    "\n",
    "#Avaliando o modelo\n",
    "modelo_RF.score(X_teste, y_teste)"
   ]
  },
  {
   "cell_type": "code",
   "execution_count": 1016,
   "metadata": {},
   "outputs": [
    {
     "data": {
      "text/html": [
       "<style>#sk-container-id-27 {color: black;}#sk-container-id-27 pre{padding: 0;}#sk-container-id-27 div.sk-toggleable {background-color: white;}#sk-container-id-27 label.sk-toggleable__label {cursor: pointer;display: block;width: 100%;margin-bottom: 0;padding: 0.3em;box-sizing: border-box;text-align: center;}#sk-container-id-27 label.sk-toggleable__label-arrow:before {content: \"▸\";float: left;margin-right: 0.25em;color: #696969;}#sk-container-id-27 label.sk-toggleable__label-arrow:hover:before {color: black;}#sk-container-id-27 div.sk-estimator:hover label.sk-toggleable__label-arrow:before {color: black;}#sk-container-id-27 div.sk-toggleable__content {max-height: 0;max-width: 0;overflow: hidden;text-align: left;background-color: #f0f8ff;}#sk-container-id-27 div.sk-toggleable__content pre {margin: 0.2em;color: black;border-radius: 0.25em;background-color: #f0f8ff;}#sk-container-id-27 input.sk-toggleable__control:checked~div.sk-toggleable__content {max-height: 200px;max-width: 100%;overflow: auto;}#sk-container-id-27 input.sk-toggleable__control:checked~label.sk-toggleable__label-arrow:before {content: \"▾\";}#sk-container-id-27 div.sk-estimator input.sk-toggleable__control:checked~label.sk-toggleable__label {background-color: #d4ebff;}#sk-container-id-27 div.sk-label input.sk-toggleable__control:checked~label.sk-toggleable__label {background-color: #d4ebff;}#sk-container-id-27 input.sk-hidden--visually {border: 0;clip: rect(1px 1px 1px 1px);clip: rect(1px, 1px, 1px, 1px);height: 1px;margin: -1px;overflow: hidden;padding: 0;position: absolute;width: 1px;}#sk-container-id-27 div.sk-estimator {font-family: monospace;background-color: #f0f8ff;border: 1px dotted black;border-radius: 0.25em;box-sizing: border-box;margin-bottom: 0.5em;}#sk-container-id-27 div.sk-estimator:hover {background-color: #d4ebff;}#sk-container-id-27 div.sk-parallel-item::after {content: \"\";width: 100%;border-bottom: 1px solid gray;flex-grow: 1;}#sk-container-id-27 div.sk-label:hover label.sk-toggleable__label {background-color: #d4ebff;}#sk-container-id-27 div.sk-serial::before {content: \"\";position: absolute;border-left: 1px solid gray;box-sizing: border-box;top: 0;bottom: 0;left: 50%;z-index: 0;}#sk-container-id-27 div.sk-serial {display: flex;flex-direction: column;align-items: center;background-color: white;padding-right: 0.2em;padding-left: 0.2em;position: relative;}#sk-container-id-27 div.sk-item {position: relative;z-index: 1;}#sk-container-id-27 div.sk-parallel {display: flex;align-items: stretch;justify-content: center;background-color: white;position: relative;}#sk-container-id-27 div.sk-item::before, #sk-container-id-27 div.sk-parallel-item::before {content: \"\";position: absolute;border-left: 1px solid gray;box-sizing: border-box;top: 0;bottom: 0;left: 50%;z-index: -1;}#sk-container-id-27 div.sk-parallel-item {display: flex;flex-direction: column;z-index: 1;position: relative;background-color: white;}#sk-container-id-27 div.sk-parallel-item:first-child::after {align-self: flex-end;width: 50%;}#sk-container-id-27 div.sk-parallel-item:last-child::after {align-self: flex-start;width: 50%;}#sk-container-id-27 div.sk-parallel-item:only-child::after {width: 0;}#sk-container-id-27 div.sk-dashed-wrapped {border: 1px dashed gray;margin: 0 0.4em 0.5em 0.4em;box-sizing: border-box;padding-bottom: 0.4em;background-color: white;}#sk-container-id-27 div.sk-label label {font-family: monospace;font-weight: bold;display: inline-block;line-height: 1.2em;}#sk-container-id-27 div.sk-label-container {text-align: center;}#sk-container-id-27 div.sk-container {/* jupyter's `normalize.less` sets `[hidden] { display: none; }` but bootstrap.min.css set `[hidden] { display: none !important; }` so we also need the `!important` here to be able to override the default hidden behavior on the sphinx rendered scikit-learn.org. See: https://github.com/scikit-learn/scikit-learn/issues/21755 */display: inline-block !important;position: relative;}#sk-container-id-27 div.sk-text-repr-fallback {display: none;}</style><div id=\"sk-container-id-27\" class=\"sk-top-container\"><div class=\"sk-text-repr-fallback\"><pre>RandomForestClassifier(random_state=0)</pre><b>In a Jupyter environment, please rerun this cell to show the HTML representation or trust the notebook. <br />On GitHub, the HTML representation is unable to render, please try loading this page with nbviewer.org.</b></div><div class=\"sk-container\" hidden><div class=\"sk-item\"><div class=\"sk-estimator sk-toggleable\"><input class=\"sk-toggleable__control sk-hidden--visually\" id=\"sk-estimator-id-27\" type=\"checkbox\" checked><label for=\"sk-estimator-id-27\" class=\"sk-toggleable__label sk-toggleable__label-arrow\">RandomForestClassifier</label><div class=\"sk-toggleable__content\"><pre>RandomForestClassifier(random_state=0)</pre></div></div></div></div></div>"
      ],
      "text/plain": [
       "RandomForestClassifier(random_state=0)"
      ]
     },
     "execution_count": 1016,
     "metadata": {},
     "output_type": "execute_result"
    }
   ],
   "source": [
    "modelo_RF\n"
   ]
  },
  {
   "cell_type": "code",
   "execution_count": 1017,
   "metadata": {},
   "outputs": [
    {
     "data": {
      "text/plain": [
       "0.6666666666666666"
      ]
     },
     "execution_count": 1017,
     "metadata": {},
     "output_type": "execute_result"
    }
   ],
   "source": [
    "#Treinando o modelo\n",
    "modelo_GB = GradientBoostingClassifier()\n",
    "modelo_GB.fit(X_treino, y_treino)\n",
    "\n",
    "#Avaliando o modelo\n",
    "modelo_GB.score(X_teste, y_teste)\n"
   ]
  },
  {
   "cell_type": "markdown",
   "metadata": {},
   "source": [
    "Avaliando as variaveis mais importantes para o modelo\n",
    "\n",
    "\n",
    "### Feature Importance"
   ]
  },
  {
   "cell_type": "code",
   "execution_count": 1018,
   "metadata": {},
   "outputs": [
    {
     "name": "stdout",
     "output_type": "stream",
     "text": [
      "('idade', 0.14639639639639643)\n",
      "('altura_jogador', 0.0)\n",
      "('peso_jogador', 0.2837837837837839)\n",
      "('media_jogadores', 0.0)\n",
      "('pct_estrangeiro', 0.5698198198198197)\n"
     ]
    }
   ],
   "source": [
    "#Avliando a importância das variáveis com a arvore de decisão\n",
    "for i in zip(X.columns, modelo_DT.feature_importances_):\n",
    " print(i)"
   ]
  },
  {
   "cell_type": "code",
   "execution_count": 1019,
   "metadata": {},
   "outputs": [
    {
     "name": "stdout",
     "output_type": "stream",
     "text": [
      "('idade', 0.11783091112725995)\n",
      "('altura_jogador', 0.12374062379128045)\n",
      "('peso_jogador', 0.14766142043092004)\n",
      "('media_jogadores', 0.229940571085111)\n",
      "('pct_estrangeiro', 0.3808264735654287)\n"
     ]
    }
   ],
   "source": [
    "#Avaliando a importância das variáveis com o random forest\n",
    "for i in zip(X.columns, modelo_RF.feature_importances_):\n",
    " print(i)"
   ]
  },
  {
   "cell_type": "code",
   "execution_count": 1020,
   "metadata": {},
   "outputs": [
    {
     "name": "stdout",
     "output_type": "stream",
     "text": [
      "('idade', 0.13544975204611817)\n",
      "('altura_jogador', 0.03475878802706112)\n",
      "('peso_jogador', 0.2677354267008283)\n",
      "('media_jogadores', 0.0604013857611901)\n",
      "('pct_estrangeiro', 0.5016546474648024)\n"
     ]
    }
   ],
   "source": [
    "#Avaliando a importância das variáveis com o gradient boosting\n",
    "for i in zip(X.columns, modelo_GB.feature_importances_):\n",
    " print(i)"
   ]
  },
  {
   "cell_type": "code",
   "execution_count": 1021,
   "metadata": {},
   "outputs": [
    {
     "name": "stdout",
     "output_type": "stream",
     "text": [
      "('idade', -0.029749934367553528)\n",
      "('altura_jogador', -0.18045886656817925)\n",
      "('peso_jogador', -0.16390721920665935)\n",
      "('media_jogadores', 0.5412721668378137)\n",
      "('pct_estrangeiro', 1.1247827610831287)\n"
     ]
    }
   ],
   "source": [
    "#Avaliando a importância das variáveis com a regressão logística\n",
    "for i in zip(X.columns, modelo_LR.coef_[0]):\n",
    " print(i)"
   ]
  },
  {
   "cell_type": "markdown",
   "metadata": {},
   "source": [
    "### Prever os modelos\n",
    "#### Avaliar os modelos com outras métricas "
   ]
  },
  {
   "cell_type": "code",
   "execution_count": 1022,
   "metadata": {},
   "outputs": [],
   "source": [
    "#Importanto as bibliotecas para avaliação dos modelos\n",
    "from sklearn.metrics import classification_report, confusion_matrix, f1_score, accuracy_score, ConfusionMatrixDisplay\n"
   ]
  },
  {
   "cell_type": "code",
   "execution_count": 1023,
   "metadata": {},
   "outputs": [
    {
     "data": {
      "text/plain": [
       "array([2, 2, 0, 2, 2, 2, 2, 2, 2], dtype=int64)"
      ]
     },
     "execution_count": 1023,
     "metadata": {},
     "output_type": "execute_result"
    }
   ],
   "source": [
    "#Prever o modelo de regressão logística\n",
    "y_pred_LR = modelo_LR.predict(X_teste) \n",
    "y_pred_LR\n"
   ]
  },
  {
   "cell_type": "code",
   "execution_count": 1024,
   "metadata": {},
   "outputs": [
    {
     "name": "stdout",
     "output_type": "stream",
     "text": [
      "              precision    recall  f1-score   support\n",
      "\n",
      "           0       1.00      0.20      0.33         5\n",
      "           1       0.00      0.00      0.00         1\n",
      "           2       0.38      1.00      0.55         3\n",
      "\n",
      "    accuracy                           0.44         9\n",
      "   macro avg       0.46      0.40      0.29         9\n",
      "weighted avg       0.68      0.44      0.37         9\n",
      "\n"
     ]
    },
    {
     "name": "stderr",
     "output_type": "stream",
     "text": [
      "c:\\Users\\Elvis\\AppData\\Local\\Programs\\Python\\Python312\\Lib\\site-packages\\sklearn\\metrics\\_classification.py:1471: UndefinedMetricWarning: Precision and F-score are ill-defined and being set to 0.0 in labels with no predicted samples. Use `zero_division` parameter to control this behavior.\n",
      "  _, _, f, _ = precision_recall_fscore_support(\n",
      "c:\\Users\\Elvis\\AppData\\Local\\Programs\\Python\\Python312\\Lib\\site-packages\\sklearn\\metrics\\_classification.py:1471: UndefinedMetricWarning: Precision and F-score are ill-defined and being set to 0.0 in labels with no predicted samples. Use `zero_division` parameter to control this behavior.\n",
      "  _, _, f, _ = precision_recall_fscore_support(\n",
      "c:\\Users\\Elvis\\AppData\\Local\\Programs\\Python\\Python312\\Lib\\site-packages\\sklearn\\metrics\\_classification.py:1471: UndefinedMetricWarning: Precision and F-score are ill-defined and being set to 0.0 in labels with no predicted samples. Use `zero_division` parameter to control this behavior.\n",
      "  _, _, f, _ = precision_recall_fscore_support(\n"
     ]
    }
   ],
   "source": [
    "#Avaliar o modelo de regressão logística com Classification Report \n",
    "print(classification_report(y_teste, y_pred_LR))\n",
    "\n",
    "#print(classification_report(y_teste, y_pred))\n"
   ]
  },
  {
   "cell_type": "markdown",
   "metadata": {},
   "source": [
    "print(confusion_matrix(y_teste, y_pred))\n",
    "print(accuracy_score(y_teste, y_pred))\n",
    "cm = confusion_matrix(y_teste, y_pred)\n",
    "disp = ConfusionMatrixDisplay(confusion_matrix=cm, display_labels=modelo_LR.classes_)\n",
    "disp.plot()"
   ]
  },
  {
   "cell_type": "code",
   "execution_count": 1025,
   "metadata": {},
   "outputs": [
    {
     "data": {
      "text/plain": [
       "array([[1, 0, 4],\n",
       "       [0, 0, 1],\n",
       "       [0, 0, 3]], dtype=int64)"
      ]
     },
     "execution_count": 1025,
     "metadata": {},
     "output_type": "execute_result"
    }
   ],
   "source": [
    "#Avaliar o modelo de regressão logística com Matriz de Confusão\n",
    "confusion_matrix(y_teste, y_pred_LR)\n"
   ]
  },
  {
   "cell_type": "code",
   "execution_count": 1026,
   "metadata": {},
   "outputs": [
    {
     "data": {
      "text/plain": [
       "<sklearn.metrics._plot.confusion_matrix.ConfusionMatrixDisplay at 0x26609bd42f0>"
      ]
     },
     "execution_count": 1026,
     "metadata": {},
     "output_type": "execute_result"
    },
    {
     "data": {
      "image/png": "[encoded data removed]",
      "text/plain": [
       "<Figure size 640x480 with 2 Axes>"
      ]
     },
     "metadata": {},
     "output_type": "display_data"
    }
   ],
   "source": [
    "#Plot da matriz de confusão\n",
    "cm_LR = confusion_matrix(y_teste, y_pred_LR)\n",
    "disp = ConfusionMatrixDisplay(confusion_matrix=cm_LR, display_labels=modelo_LR.classes_)\n",
    "disp.plot()"
   ]
  },
  {
   "cell_type": "code",
   "execution_count": 1027,
   "metadata": {},
   "outputs": [],
   "source": [
    "import joblib as jb"
   ]
  },
  {
   "cell_type": "code",
   "execution_count": 1028,
   "metadata": {},
   "outputs": [
    {
     "data": {
      "text/plain": [
       "{'model': LogisticRegression(random_state=0),\n",
       " 'mdetadata': {'description': \"Modelo de Regressão Logistica. Foram utilizados os seguintes dados:idade','altura_jogador','peso_jogador','media_jogadores','pct_estrangeiro\",\n",
       "  'author': 'AEE',\n",
       "  'date': '02/06/2024',\n",
       "  'source_code_version': '0.1',\n",
       "  'metrics': 'acc: 0.77 e f1score:0.54462'}}"
      ]
     },
     "execution_count": 1028,
     "metadata": {},
     "output_type": "execute_result"
    }
   ],
   "source": [
    "description='Modelo de Regressão Logistica. Foram utilizados os seguintes dados:' + \"','\".join(X.columns)\n",
    "date='02/06/2024'\n",
    "version='0.1'\n",
    "name_modelo='Modelo de Regressão Logistica'\n",
    "metrics= 'acc: 0.77 e f1score:0.54462'\n",
    "\n",
    "dic_save_model = dict({\n",
    "'model': modelo_LR,\n",
    "'mdetadata':{\n",
    "\t'description': description,\n",
    "\t'author': 'AEE',\n",
    "\t'date': date,\n",
    "\t'source_code_version':version,\n",
    "\t'metrics':metrics\n",
    "}\n",
    "})\n",
    "dic_save_model\n"
   ]
  },
  {
   "cell_type": "markdown",
   "metadata": {},
   "source": [
    "Avaliando a ÁRVORE DE DECISÃO"
   ]
  },
  {
   "cell_type": "code",
   "execution_count": 1029,
   "metadata": {},
   "outputs": [
    {
     "data": {
      "text/plain": [
       "array([0, 2, 0, 1, 2, 2, 0, 0, 2], dtype=int64)"
      ]
     },
     "execution_count": 1029,
     "metadata": {},
     "output_type": "execute_result"
    }
   ],
   "source": [
    "#Prever o modelo de arvore de decisão\n",
    "y_pred_DT = modelo_DT.predict(X_teste)\n",
    "y_pred_DT\n"
   ]
  },
  {
   "cell_type": "code",
   "execution_count": 1030,
   "metadata": {},
   "outputs": [
    {
     "name": "stdout",
     "output_type": "stream",
     "text": [
      "              precision    recall  f1-score   support\n",
      "\n",
      "           0       1.00      0.80      0.89         5\n",
      "           1       0.00      0.00      0.00         1\n",
      "           2       0.50      0.67      0.57         3\n",
      "\n",
      "    accuracy                           0.67         9\n",
      "   macro avg       0.50      0.49      0.49         9\n",
      "weighted avg       0.72      0.67      0.68         9\n",
      "\n"
     ]
    }
   ],
   "source": [
    "#Avaliar o modelo de regressão logística com Classification Report \n",
    "print(classification_report(y_teste, y_pred_DT))\n"
   ]
  },
  {
   "cell_type": "code",
   "execution_count": 1031,
   "metadata": {},
   "outputs": [
    {
     "data": {
      "text/plain": [
       "<sklearn.metrics._plot.confusion_matrix.ConfusionMatrixDisplay at 0x26609eb4ad0>"
      ]
     },
     "execution_count": 1031,
     "metadata": {},
     "output_type": "execute_result"
    },
    {
     "data": {
      "image/png": "[encoded data removed]",
      "text/plain": [
       "<Figure size 640x480 with 2 Axes>"
      ]
     },
     "metadata": {},
     "output_type": "display_data"
    }
   ],
   "source": [
    "#Matriz de confusão\n",
    "confusion_matrix(y_teste, y_pred_DT)\n",
    "\n",
    "\n",
    "#Plot da matriz de confusão\n",
    "cm_DT = confusion_matrix(y_teste, y_pred_DT)\n",
    "disp = ConfusionMatrixDisplay(confusion_matrix=cm_DT, display_labels=modelo_DT.classes_)\n",
    "disp.plot()\n",
    "\n",
    "\n",
    "\n"
   ]
  },
  {
   "cell_type": "code",
   "execution_count": 1032,
   "metadata": {},
   "outputs": [
    {
     "data": {
      "text/plain": [
       "{'model': DecisionTreeClassifier(random_state=0),\n",
       " 'mdetadata': {'description': \"Modelo de Arvore de Decisão. Foram utilizados os seguintes dados:idade','altura_jogador','peso_jogador','media_jogadores','pct_estrangeiro\",\n",
       "  'author': 'AEE',\n",
       "  'date': '03/06/2024',\n",
       "  'source_code_version': '0.1',\n",
       "  'metrics': 'acc: 0.67 e f1score:0.68'}}"
      ]
     },
     "execution_count": 1032,
     "metadata": {},
     "output_type": "execute_result"
    }
   ],
   "source": [
    "description='Modelo de Arvore de Decisão. Foram utilizados os seguintes dados:' + \"','\".join(X.columns)\n",
    "date='03/06/2024'\n",
    "version='0.1'\n",
    "name_modelo='Modelo de Arvore de Decisão'\n",
    "metrics= 'acc: 0.67 e f1score:0.68'\n",
    "\n",
    "dic_save_model = dict({\n",
    "'model': modelo_DT,\n",
    "'mdetadata':{\n",
    "    'description': description,\n",
    "    'author': 'AEE',\n",
    "    'date': date,\n",
    "    'source_code_version':version,\n",
    "    'metrics':metrics\n",
    "}\n",
    "})\n",
    "dic_save_model"
   ]
  },
  {
   "cell_type": "markdown",
   "metadata": {},
   "source": [
    "Prever e Avaliando o modelo Random Forest"
   ]
  },
  {
   "cell_type": "code",
   "execution_count": 1033,
   "metadata": {},
   "outputs": [
    {
     "name": "stdout",
     "output_type": "stream",
     "text": [
      "[[-0.01679187  0.86218388  0.3506738   0.425       0.84947518]\n",
      " [ 0.44387251  0.43683838  0.25076658  0.75        0.63304309]\n",
      " [ 0.49784713  0.4176899   0.35812842  0.62857143  1.02902335]\n",
      " [ 0.27246464  1.29434972  1.02837531  0.30357143  0.64938549]\n",
      " [ 0.63492912  0.96122339  0.2885317   0.375      -0.07313263]\n",
      " [ 0.51809296  0.47820059  0.43839182  0.74642857  0.80986897]\n",
      " [ 0.17453573  0.66213831  0.29163429  0.26428571  0.82333688]\n",
      " [ 0.9196206   0.37681693  0.3947478   0.53214286  0.87476868]\n",
      " [-0.01691787  0.67787888  0.23393213  0.47321429  0.60715022]]\n"
     ]
    }
   ],
   "source": [
    "print(X_teste)"
   ]
  },
  {
   "cell_type": "code",
   "execution_count": 1034,
   "metadata": {},
   "outputs": [
    {
     "data": {
      "text/plain": [
       "array([0, 2, 0, 2, 2, 0, 2, 0, 2], dtype=int64)"
      ]
     },
     "execution_count": 1034,
     "metadata": {},
     "output_type": "execute_result"
    }
   ],
   "source": [
    "#Prever o modelo de random forest\n",
    "y_pred_RF = modelo_RF.predict(X_teste)\n",
    "y_pred_RF"
   ]
  },
  {
   "cell_type": "code",
   "execution_count": 1035,
   "metadata": {},
   "outputs": [
    {
     "name": "stdout",
     "output_type": "stream",
     "text": [
      "              precision    recall  f1-score   support\n",
      "\n",
      "           0       1.00      0.80      0.89         5\n",
      "           1       0.00      0.00      0.00         1\n",
      "           2       0.60      1.00      0.75         3\n",
      "\n",
      "    accuracy                           0.78         9\n",
      "   macro avg       0.53      0.60      0.55         9\n",
      "weighted avg       0.76      0.78      0.74         9\n",
      "\n"
     ]
    },
    {
     "name": "stderr",
     "output_type": "stream",
     "text": [
      "c:\\Users\\Elvis\\AppData\\Local\\Programs\\Python\\Python312\\Lib\\site-packages\\sklearn\\metrics\\_classification.py:1471: UndefinedMetricWarning: Precision and F-score are ill-defined and being set to 0.0 in labels with no predicted samples. Use `zero_division` parameter to control this behavior.\n",
      "  _, _, f, _ = precision_recall_fscore_support(\n",
      "c:\\Users\\Elvis\\AppData\\Local\\Programs\\Python\\Python312\\Lib\\site-packages\\sklearn\\metrics\\_classification.py:1471: UndefinedMetricWarning: Precision and F-score are ill-defined and being set to 0.0 in labels with no predicted samples. Use `zero_division` parameter to control this behavior.\n",
      "  _, _, f, _ = precision_recall_fscore_support(\n",
      "c:\\Users\\Elvis\\AppData\\Local\\Programs\\Python\\Python312\\Lib\\site-packages\\sklearn\\metrics\\_classification.py:1471: UndefinedMetricWarning: Precision and F-score are ill-defined and being set to 0.0 in labels with no predicted samples. Use `zero_division` parameter to control this behavior.\n",
      "  _, _, f, _ = precision_recall_fscore_support(\n"
     ]
    }
   ],
   "source": [
    "#Avaliar o modelo de Random Forest com Classification Report\n",
    "print(classification_report(y_teste, y_pred_RF))"
   ]
  },
  {
   "cell_type": "code",
   "execution_count": 1036,
   "metadata": {},
   "outputs": [
    {
     "data": {
      "text/plain": [
       "<sklearn.metrics._plot.confusion_matrix.ConfusionMatrixDisplay at 0x2660b653bf0>"
      ]
     },
     "execution_count": 1036,
     "metadata": {},
     "output_type": "execute_result"
    },
    {
     "data": {
      "image/png": "[encoded data removed]",
      "text/plain": [
       "<Figure size 640x480 with 2 Axes>"
      ]
     },
     "metadata": {},
     "output_type": "display_data"
    }
   ],
   "source": [
    "#Matriz de confusão\n",
    "confusion_matrix(y_teste, y_pred_RF)\n",
    "\n",
    "\n",
    "#Plot da matriz de confusão\n",
    "cm_RF = confusion_matrix(y_teste, y_pred_RF)\n",
    "disp = ConfusionMatrixDisplay(confusion_matrix=cm_RF, display_labels=modelo_RF.classes_)\n",
    "disp.plot()\n",
    "\n"
   ]
  },
  {
   "cell_type": "code",
   "execution_count": 1037,
   "metadata": {},
   "outputs": [
    {
     "data": {
      "text/plain": [
       "['modelo_treinado_RF.joblib']"
      ]
     },
     "execution_count": 1037,
     "metadata": {},
     "output_type": "execute_result"
    }
   ],
   "source": [
    "#Salva o modelo de random forest\n",
    "jb.dump(modelo_RF, 'modelo_treinado_RF.joblib')"
   ]
  },
  {
   "cell_type": "code",
   "execution_count": 1038,
   "metadata": {},
   "outputs": [
    {
     "data": {
      "text/plain": [
       "{'model': RandomForestClassifier(random_state=0),\n",
       " 'metadados': {'description': \"Modelo de Random Forest. Foram utilizados os seguintes dados:idade','altura_jogador','peso_jogador','media_jogadores','pct_estrangeiro\",\n",
       "  'author': 'AEE',\n",
       "  'date': '03/06/2024',\n",
       "  'source_code_version': '0.1',\n",
       "  'metrics': 'acc: 0.67 e f1score:0.68'}}"
      ]
     },
     "execution_count": 1038,
     "metadata": {},
     "output_type": "execute_result"
    }
   ],
   "source": [
    "description='Modelo de Random Forest. Foram utilizados os seguintes dados:' + \"','\".join(X.columns)\n",
    "date='03/06/2024'\n",
    "version='0.1'\n",
    "name_modelo='Modelo_Random_Forest'\n",
    "metrics= 'acc: 0.67 e f1score:0.68'\n",
    "modelo= modelo_RF\n",
    "\n",
    "dic_save_model = dict({\n",
    "'model': modelo,\n",
    "#'model': 'Modelo_Random_Forest',\n",
    "'metadados':{\n",
    "    'description': description,\n",
    "    'author': 'AEE',\n",
    "    'date': date,\n",
    "    'source_code_version':version,\n",
    "    'metrics':metrics\n",
    "}\n",
    "})\n",
    "dic_save_model\n"
   ]
  },
  {
   "cell_type": "markdown",
   "metadata": {},
   "source": [
    "# O modelo com o melhor desempenho foi Random Forest\n"
   ]
  },
  {
   "cell_type": "code",
   "execution_count": 1039,
   "metadata": {},
   "outputs": [
    {
     "data": {
      "text/plain": [
       "['Modelo_Random_Forest.joblib']"
      ]
     },
     "execution_count": 1039,
     "metadata": {},
     "output_type": "execute_result"
    }
   ],
   "source": [
    "jb.dump(dic_save_model, name_modelo+ '.joblib') "
   ]
  },
  {
   "cell_type": "markdown",
   "metadata": {},
   "source": [
    "Prever e avaliar o modelo de gradient boosting"
   ]
  },
  {
   "cell_type": "code",
   "execution_count": 1040,
   "metadata": {},
   "outputs": [
    {
     "data": {
      "text/plain": [
       "array([0, 2, 0, 1, 2, 2, 0, 0, 2], dtype=int64)"
      ]
     },
     "execution_count": 1040,
     "metadata": {},
     "output_type": "execute_result"
    }
   ],
   "source": [
    "#Prever o modelo de gradient boosting\n",
    "y_pred_GB = modelo_GB.predict(X_teste)\n",
    "y_pred_GB"
   ]
  },
  {
   "cell_type": "code",
   "execution_count": 1041,
   "metadata": {},
   "outputs": [
    {
     "name": "stdout",
     "output_type": "stream",
     "text": [
      "              precision    recall  f1-score   support\n",
      "\n",
      "           0       1.00      0.80      0.89         5\n",
      "           1       0.00      0.00      0.00         1\n",
      "           2       0.50      0.67      0.57         3\n",
      "\n",
      "    accuracy                           0.67         9\n",
      "   macro avg       0.50      0.49      0.49         9\n",
      "weighted avg       0.72      0.67      0.68         9\n",
      "\n"
     ]
    }
   ],
   "source": [
    "\n",
    "#Avaliar o modelo de Gradient Boosting com Classification Report\n",
    "print(classification_report(y_teste, y_pred_GB))"
   ]
  },
  {
   "cell_type": "code",
   "execution_count": 1042,
   "metadata": {},
   "outputs": [
    {
     "data": {
      "text/plain": [
       "<sklearn.metrics._plot.confusion_matrix.ConfusionMatrixDisplay at 0x2660b4bd460>"
      ]
     },
     "execution_count": 1042,
     "metadata": {},
     "output_type": "execute_result"
    },
    {
     "data": {
      "image/png": "[encoded data removed]",
      "text/plain": [
       "<Figure size 640x480 with 2 Axes>"
      ]
     },
     "metadata": {},
     "output_type": "display_data"
    }
   ],
   "source": [
    "#Matriz de confusão\n",
    "confusion_matrix(y_teste, y_pred_GB)\n",
    "\n",
    "\n",
    "#Plot da matriz de confusão\n",
    "cm_GB = confusion_matrix(y_teste, y_pred_GB)\n",
    "disp = ConfusionMatrixDisplay(confusion_matrix=cm_GB, display_labels=modelo_GB.classes_)\n",
    "disp.plot()\n"
   ]
  }
 ],
 "metadata": {
  "kernelspec": {
   "display_name": "Python 3",
   "language": "python",
   "name": "python3"
  },
  "language_info": {
   "codemirror_mode": {
    "name": "ipython",
    "version": 3
   },
   "file_extension": ".py",
   "mimetype": "text/x-python",
   "name": "python",
   "nbconvert_exporter": "python",
   "pygments_lexer": "ipython3",
   "version": "3.12.0"
  }
 },
 "nbformat": 4,
 "nbformat_minor": 2
}
