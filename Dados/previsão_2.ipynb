{
 "cells": [
  {
   "cell_type": "code",
   "execution_count": 2,
   "metadata": {},
   "outputs": [],
   "source": [
    "#Bibliotecas\n",
    "import pandas as pd\n",
    "import numpy as np\n",
    "import matplotlib.pyplot as plt\n",
    "import seaborn as sns\n",
    "from sklearn.model_selection import train_test_split\n",
    "from sklearn.preprocessing import MinMaxScaler\n",
    "from sklearn.tree import DecisionTreeClassifier\n",
    "from sklearn.linear_model import LogisticRegression\n",
    "from sklearn.ensemble import RandomForestClassifier, GradientBoostingClassifier"
   ]
  },
  {
   "cell_type": "code",
   "execution_count": 3,
   "metadata": {},
   "outputs": [],
   "source": [
    "#Importando os dados\n",
    "media_classificacao_time = pd.read_csv('media_final.csv')"
   ]
  },
  {
   "cell_type": "code",
   "execution_count": 4,
   "metadata": {},
   "outputs": [
    {
     "data": {
      "text/html": [
       "<div>\n",
       "<style scoped>\n",
       "    .dataframe tbody tr th:only-of-type {\n",
       "        vertical-align: middle;\n",
       "    }\n",
       "\n",
       "    .dataframe tbody tr th {\n",
       "        vertical-align: top;\n",
       "    }\n",
       "\n",
       "    .dataframe thead th {\n",
       "        text-align: right;\n",
       "    }\n",
       "</style>\n",
       "<table border=\"1\" class=\"dataframe\">\n",
       "  <thead>\n",
       "    <tr style=\"text-align: right;\">\n",
       "      <th></th>\n",
       "      <th>ano</th>\n",
       "      <th>classificacao_time2</th>\n",
       "      <th>idade</th>\n",
       "      <th>altura_jogador</th>\n",
       "      <th>peso_jogador</th>\n",
       "      <th>qtd_jogadores</th>\n",
       "      <th>pct_estrangeiro</th>\n",
       "    </tr>\n",
       "  </thead>\n",
       "  <tbody>\n",
       "    <tr>\n",
       "      <th>0</th>\n",
       "      <td>2003</td>\n",
       "      <td>0</td>\n",
       "      <td>40.976190</td>\n",
       "      <td>1.818743</td>\n",
       "      <td>76.018072</td>\n",
       "      <td>168</td>\n",
       "      <td>63.095238</td>\n",
       "    </tr>\n",
       "    <tr>\n",
       "      <th>1</th>\n",
       "      <td>2003</td>\n",
       "      <td>2</td>\n",
       "      <td>42.301370</td>\n",
       "      <td>1.812329</td>\n",
       "      <td>76.712329</td>\n",
       "      <td>73</td>\n",
       "      <td>54.810496</td>\n",
       "    </tr>\n",
       "    <tr>\n",
       "      <th>2</th>\n",
       "      <td>2004</td>\n",
       "      <td>2</td>\n",
       "      <td>41.602410</td>\n",
       "      <td>1.820952</td>\n",
       "      <td>76.904762</td>\n",
       "      <td>84</td>\n",
       "      <td>47.945205</td>\n",
       "    </tr>\n",
       "    <tr>\n",
       "      <th>3</th>\n",
       "      <td>2005</td>\n",
       "      <td>0</td>\n",
       "      <td>39.031250</td>\n",
       "      <td>1.827250</td>\n",
       "      <td>76.925000</td>\n",
       "      <td>160</td>\n",
       "      <td>65.662651</td>\n",
       "    </tr>\n",
       "    <tr>\n",
       "      <th>4</th>\n",
       "      <td>2005</td>\n",
       "      <td>2</td>\n",
       "      <td>39.295775</td>\n",
       "      <td>1.824366</td>\n",
       "      <td>77.070423</td>\n",
       "      <td>71</td>\n",
       "      <td>56.176471</td>\n",
       "    </tr>\n",
       "  </tbody>\n",
       "</table>\n",
       "</div>"
      ],
      "text/plain": [
       "    ano  classificacao_time2      idade  altura_jogador  peso_jogador  \\\n",
       "0  2003                    0  40.976190        1.818743     76.018072   \n",
       "1  2003                    2  42.301370        1.812329     76.712329   \n",
       "2  2004                    2  41.602410        1.820952     76.904762   \n",
       "3  2005                    0  39.031250        1.827250     76.925000   \n",
       "4  2005                    2  39.295775        1.824366     77.070423   \n",
       "\n",
       "   qtd_jogadores  pct_estrangeiro  \n",
       "0            168        63.095238  \n",
       "1             73        54.810496  \n",
       "2             84        47.945205  \n",
       "3            160        65.662651  \n",
       "4             71        56.176471  "
      ]
     },
     "execution_count": 4,
     "metadata": {},
     "output_type": "execute_result"
    }
   ],
   "source": [
    "media_classificacao_time.head()"
   ]
  },
  {
   "cell_type": "markdown",
   "metadata": {},
   "source": [
    "# Modelagem"
   ]
  },
  {
   "cell_type": "code",
   "execution_count": 5,
   "metadata": {},
   "outputs": [],
   "source": [
    "#Dividindo os dados em treino e teste\n",
    "X = media_classificacao_time.drop(columns=['ano','classificacao_time2'])\n",
    "y = media_classificacao_time['classificacao_time2']\n",
    "\n",
    "x_train, x_test, y_train, y_test = train_test_split(X, y, test_size=0.3, random_state=42)\n",
    "\n"
   ]
  }
 ],
 "metadata": {
  "kernelspec": {
   "display_name": "Python 3",
   "language": "python",
   "name": "python3"
  },
  "language_info": {
   "codemirror_mode": {
    "name": "ipython",
    "version": 3
   },
   "file_extension": ".py",
   "mimetype": "text/x-python",
   "name": "python",
   "nbconvert_exporter": "python",
   "pygments_lexer": "ipython3",
   "version": "3.12.0"
  }
 },
 "nbformat": 4,
 "nbformat_minor": 2
}
