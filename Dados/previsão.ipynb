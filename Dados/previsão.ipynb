{
 "cells": [
  {
   "cell_type": "markdown",
   "metadata": {},
   "source": [
    "# Entendimento "
   ]
  },
  {
   "cell_type": "code",
   "execution_count": 83,
   "metadata": {},
   "outputs": [],
   "source": [
    "#Bibliotecas\n",
    "import pandas as pd\n",
    "import numpy as np\n",
    "import matplotlib.pyplot as plt\n",
    "import seaborn as sns\n",
    "from sklearn.model_selection import train_test_split\n",
    "from sklearn.preprocessing import MinMaxScaler\n",
    "from sklearn.tree import DecisionTreeClassifier\n",
    "from sklearn.linear_model import LogisticRegression\n",
    "from sklearn.ensemble import RandomForestClassifier, GradientBoostingClassifier"
   ]
  },
  {
   "cell_type": "code",
   "execution_count": 84,
   "metadata": {},
   "outputs": [],
   "source": [
    "#Carregando os dados\n",
    "dados_classificacao = pd.read_csv('ingles_classificacao.csv')\n",
    "dados_elenco = pd.read_csv('ingles_elencos.csv')"
   ]
  },
  {
   "cell_type": "code",
   "execution_count": 85,
   "metadata": {},
   "outputs": [
    {
     "name": "stdout",
     "output_type": "stream",
     "text": [
      "<class 'pandas.core.frame.DataFrame'>\n",
      "RangeIndex: 380 entries, 0 to 379\n",
      "Data columns (total 14 columns):\n",
      " #   Column           Non-Null Count  Dtype  \n",
      "---  ------           --------------  -----  \n",
      " 0   posicao          380 non-null    int64  \n",
      " 1   link             380 non-null    object \n",
      " 2   time             380 non-null    object \n",
      " 3   jogos            380 non-null    int64  \n",
      " 4   vitorias         380 non-null    int64  \n",
      " 5   empates          380 non-null    int64  \n",
      " 6   derrotas         380 non-null    int64  \n",
      " 7   golsFavor        380 non-null    int64  \n",
      " 8   golsContra       380 non-null    int64  \n",
      " 9   diferencaGols    380 non-null    int64  \n",
      " 10  pts              380 non-null    int64  \n",
      " 11  ano              380 non-null    int64  \n",
      " 12  mediaGolsFavor   380 non-null    float64\n",
      " 13  mediaGolsContra  380 non-null    float64\n",
      "dtypes: float64(2), int64(10), object(2)\n",
      "memory usage: 41.7+ KB\n"
     ]
    }
   ],
   "source": [
    "#Entendendo os dados\n",
    "dados_classificacao.info()"
   ]
  },
  {
   "cell_type": "code",
   "execution_count": 86,
   "metadata": {},
   "outputs": [
    {
     "data": {
      "text/html": [
       "<div>\n",
       "<style scoped>\n",
       "    .dataframe tbody tr th:only-of-type {\n",
       "        vertical-align: middle;\n",
       "    }\n",
       "\n",
       "    .dataframe tbody tr th {\n",
       "        vertical-align: top;\n",
       "    }\n",
       "\n",
       "    .dataframe thead th {\n",
       "        text-align: right;\n",
       "    }\n",
       "</style>\n",
       "<table border=\"1\" class=\"dataframe\">\n",
       "  <thead>\n",
       "    <tr style=\"text-align: right;\">\n",
       "      <th></th>\n",
       "      <th>posicao</th>\n",
       "      <th>jogos</th>\n",
       "      <th>vitorias</th>\n",
       "      <th>empates</th>\n",
       "      <th>derrotas</th>\n",
       "      <th>golsFavor</th>\n",
       "      <th>golsContra</th>\n",
       "      <th>diferencaGols</th>\n",
       "      <th>pts</th>\n",
       "      <th>ano</th>\n",
       "      <th>mediaGolsFavor</th>\n",
       "      <th>mediaGolsContra</th>\n",
       "    </tr>\n",
       "  </thead>\n",
       "  <tbody>\n",
       "    <tr>\n",
       "      <th>count</th>\n",
       "      <td>380.000000</td>\n",
       "      <td>380.000000</td>\n",
       "      <td>380.000000</td>\n",
       "      <td>380.000000</td>\n",
       "      <td>380.000000</td>\n",
       "      <td>380.000000</td>\n",
       "      <td>380.000000</td>\n",
       "      <td>380.000000</td>\n",
       "      <td>380.000000</td>\n",
       "      <td>380.000000</td>\n",
       "      <td>380.000000</td>\n",
       "      <td>380.000000</td>\n",
       "    </tr>\n",
       "    <tr>\n",
       "      <th>mean</th>\n",
       "      <td>10.500000</td>\n",
       "      <td>37.284211</td>\n",
       "      <td>13.984211</td>\n",
       "      <td>9.315789</td>\n",
       "      <td>13.984211</td>\n",
       "      <td>49.992105</td>\n",
       "      <td>49.992105</td>\n",
       "      <td>0.000000</td>\n",
       "      <td>51.244737</td>\n",
       "      <td>2012.000000</td>\n",
       "      <td>1.341459</td>\n",
       "      <td>1.342135</td>\n",
       "    </tr>\n",
       "    <tr>\n",
       "      <th>std</th>\n",
       "      <td>5.773884</td>\n",
       "      <td>3.052446</td>\n",
       "      <td>6.122303</td>\n",
       "      <td>2.957083</td>\n",
       "      <td>5.654033</td>\n",
       "      <td>16.064265</td>\n",
       "      <td>13.597976</td>\n",
       "      <td>25.954598</td>\n",
       "      <td>17.642614</td>\n",
       "      <td>5.484447</td>\n",
       "      <td>0.418924</td>\n",
       "      <td>0.352713</td>\n",
       "    </tr>\n",
       "    <tr>\n",
       "      <th>min</th>\n",
       "      <td>1.000000</td>\n",
       "      <td>22.000000</td>\n",
       "      <td>1.000000</td>\n",
       "      <td>2.000000</td>\n",
       "      <td>0.000000</td>\n",
       "      <td>15.000000</td>\n",
       "      <td>15.000000</td>\n",
       "      <td>-69.000000</td>\n",
       "      <td>11.000000</td>\n",
       "      <td>2003.000000</td>\n",
       "      <td>0.526316</td>\n",
       "      <td>0.394737</td>\n",
       "    </tr>\n",
       "    <tr>\n",
       "      <th>25%</th>\n",
       "      <td>5.750000</td>\n",
       "      <td>38.000000</td>\n",
       "      <td>10.000000</td>\n",
       "      <td>7.000000</td>\n",
       "      <td>10.000000</td>\n",
       "      <td>39.000000</td>\n",
       "      <td>41.000000</td>\n",
       "      <td>-19.000000</td>\n",
       "      <td>39.000000</td>\n",
       "      <td>2007.000000</td>\n",
       "      <td>1.052632</td>\n",
       "      <td>1.098684</td>\n",
       "    </tr>\n",
       "    <tr>\n",
       "      <th>50%</th>\n",
       "      <td>10.500000</td>\n",
       "      <td>38.000000</td>\n",
       "      <td>12.000000</td>\n",
       "      <td>9.000000</td>\n",
       "      <td>15.000000</td>\n",
       "      <td>47.000000</td>\n",
       "      <td>51.000000</td>\n",
       "      <td>-6.000000</td>\n",
       "      <td>47.000000</td>\n",
       "      <td>2012.000000</td>\n",
       "      <td>1.236842</td>\n",
       "      <td>1.342105</td>\n",
       "    </tr>\n",
       "    <tr>\n",
       "      <th>75%</th>\n",
       "      <td>15.250000</td>\n",
       "      <td>38.000000</td>\n",
       "      <td>18.000000</td>\n",
       "      <td>11.000000</td>\n",
       "      <td>18.000000</td>\n",
       "      <td>59.000000</td>\n",
       "      <td>59.000000</td>\n",
       "      <td>16.000000</td>\n",
       "      <td>63.000000</td>\n",
       "      <td>2017.000000</td>\n",
       "      <td>1.578947</td>\n",
       "      <td>1.559211</td>\n",
       "    </tr>\n",
       "    <tr>\n",
       "      <th>max</th>\n",
       "      <td>20.000000</td>\n",
       "      <td>38.000000</td>\n",
       "      <td>32.000000</td>\n",
       "      <td>17.000000</td>\n",
       "      <td>29.000000</td>\n",
       "      <td>106.000000</td>\n",
       "      <td>89.000000</td>\n",
       "      <td>79.000000</td>\n",
       "      <td>100.000000</td>\n",
       "      <td>2021.000000</td>\n",
       "      <td>2.789474</td>\n",
       "      <td>2.342105</td>\n",
       "    </tr>\n",
       "  </tbody>\n",
       "</table>\n",
       "</div>"
      ],
      "text/plain": [
       "          posicao       jogos    vitorias     empates    derrotas   golsFavor  \\\n",
       "count  380.000000  380.000000  380.000000  380.000000  380.000000  380.000000   \n",
       "mean    10.500000   37.284211   13.984211    9.315789   13.984211   49.992105   \n",
       "std      5.773884    3.052446    6.122303    2.957083    5.654033   16.064265   \n",
       "min      1.000000   22.000000    1.000000    2.000000    0.000000   15.000000   \n",
       "25%      5.750000   38.000000   10.000000    7.000000   10.000000   39.000000   \n",
       "50%     10.500000   38.000000   12.000000    9.000000   15.000000   47.000000   \n",
       "75%     15.250000   38.000000   18.000000   11.000000   18.000000   59.000000   \n",
       "max     20.000000   38.000000   32.000000   17.000000   29.000000  106.000000   \n",
       "\n",
       "       golsContra  diferencaGols         pts          ano  mediaGolsFavor  \\\n",
       "count  380.000000     380.000000  380.000000   380.000000      380.000000   \n",
       "mean    49.992105       0.000000   51.244737  2012.000000        1.341459   \n",
       "std     13.597976      25.954598   17.642614     5.484447        0.418924   \n",
       "min     15.000000     -69.000000   11.000000  2003.000000        0.526316   \n",
       "25%     41.000000     -19.000000   39.000000  2007.000000        1.052632   \n",
       "50%     51.000000      -6.000000   47.000000  2012.000000        1.236842   \n",
       "75%     59.000000      16.000000   63.000000  2017.000000        1.578947   \n",
       "max     89.000000      79.000000  100.000000  2021.000000        2.789474   \n",
       "\n",
       "       mediaGolsContra  \n",
       "count       380.000000  \n",
       "mean          1.342135  \n",
       "std           0.352713  \n",
       "min           0.394737  \n",
       "25%           1.098684  \n",
       "50%           1.342105  \n",
       "75%           1.559211  \n",
       "max           2.342105  "
      ]
     },
     "execution_count": 86,
     "metadata": {},
     "output_type": "execute_result"
    }
   ],
   "source": [
    "dados_classificacao.describe()"
   ]
  },
  {
   "cell_type": "code",
   "execution_count": 87,
   "metadata": {},
   "outputs": [
    {
     "data": {
      "text/html": [
       "<div>\n",
       "<style scoped>\n",
       "    .dataframe tbody tr th:only-of-type {\n",
       "        vertical-align: middle;\n",
       "    }\n",
       "\n",
       "    .dataframe tbody tr th {\n",
       "        vertical-align: top;\n",
       "    }\n",
       "\n",
       "    .dataframe thead th {\n",
       "        text-align: right;\n",
       "    }\n",
       "</style>\n",
       "<table border=\"1\" class=\"dataframe\">\n",
       "  <thead>\n",
       "    <tr style=\"text-align: right;\">\n",
       "      <th></th>\n",
       "      <th>posicao</th>\n",
       "      <th>link</th>\n",
       "      <th>time</th>\n",
       "      <th>jogos</th>\n",
       "      <th>vitorias</th>\n",
       "      <th>empates</th>\n",
       "      <th>derrotas</th>\n",
       "      <th>golsFavor</th>\n",
       "      <th>golsContra</th>\n",
       "      <th>diferencaGols</th>\n",
       "      <th>pts</th>\n",
       "      <th>ano</th>\n",
       "      <th>mediaGolsFavor</th>\n",
       "      <th>mediaGolsContra</th>\n",
       "    </tr>\n",
       "  </thead>\n",
       "  <tbody>\n",
       "    <tr>\n",
       "      <th>375</th>\n",
       "      <td>16</td>\n",
       "      <td>/futebol/time/_/id/368/everton</td>\n",
       "      <td>EVERTON</td>\n",
       "      <td>23</td>\n",
       "      <td>6</td>\n",
       "      <td>4</td>\n",
       "      <td>13</td>\n",
       "      <td>28</td>\n",
       "      <td>40</td>\n",
       "      <td>-12</td>\n",
       "      <td>22</td>\n",
       "      <td>2021</td>\n",
       "      <td>1.217391</td>\n",
       "      <td>1.739130</td>\n",
       "    </tr>\n",
       "    <tr>\n",
       "      <th>376</th>\n",
       "      <td>17</td>\n",
       "      <td>/futebol/time/_/id/361/newcastle-united</td>\n",
       "      <td>NEWCASTLE UNITED</td>\n",
       "      <td>24</td>\n",
       "      <td>4</td>\n",
       "      <td>10</td>\n",
       "      <td>10</td>\n",
       "      <td>26</td>\n",
       "      <td>45</td>\n",
       "      <td>-19</td>\n",
       "      <td>22</td>\n",
       "      <td>2021</td>\n",
       "      <td>1.083333</td>\n",
       "      <td>1.875000</td>\n",
       "    </tr>\n",
       "    <tr>\n",
       "      <th>377</th>\n",
       "      <td>18</td>\n",
       "      <td>/futebol/time/_/id/395/watford</td>\n",
       "      <td>WATFORD</td>\n",
       "      <td>24</td>\n",
       "      <td>5</td>\n",
       "      <td>3</td>\n",
       "      <td>16</td>\n",
       "      <td>24</td>\n",
       "      <td>43</td>\n",
       "      <td>-19</td>\n",
       "      <td>18</td>\n",
       "      <td>2021</td>\n",
       "      <td>1.000000</td>\n",
       "      <td>1.791667</td>\n",
       "    </tr>\n",
       "    <tr>\n",
       "      <th>378</th>\n",
       "      <td>19</td>\n",
       "      <td>/futebol/time/_/id/379/burnley</td>\n",
       "      <td>BURNLEY</td>\n",
       "      <td>22</td>\n",
       "      <td>2</td>\n",
       "      <td>11</td>\n",
       "      <td>9</td>\n",
       "      <td>20</td>\n",
       "      <td>29</td>\n",
       "      <td>-9</td>\n",
       "      <td>17</td>\n",
       "      <td>2021</td>\n",
       "      <td>0.909091</td>\n",
       "      <td>1.318182</td>\n",
       "    </tr>\n",
       "    <tr>\n",
       "      <th>379</th>\n",
       "      <td>20</td>\n",
       "      <td>/futebol/time/_/id/381/norwich-city</td>\n",
       "      <td>NORWICH CITY</td>\n",
       "      <td>25</td>\n",
       "      <td>4</td>\n",
       "      <td>5</td>\n",
       "      <td>16</td>\n",
       "      <td>15</td>\n",
       "      <td>53</td>\n",
       "      <td>-38</td>\n",
       "      <td>17</td>\n",
       "      <td>2021</td>\n",
       "      <td>0.600000</td>\n",
       "      <td>2.120000</td>\n",
       "    </tr>\n",
       "  </tbody>\n",
       "</table>\n",
       "</div>"
      ],
      "text/plain": [
       "     posicao                                     link              time  \\\n",
       "375       16           /futebol/time/_/id/368/everton           EVERTON   \n",
       "376       17  /futebol/time/_/id/361/newcastle-united  NEWCASTLE UNITED   \n",
       "377       18           /futebol/time/_/id/395/watford           WATFORD   \n",
       "378       19           /futebol/time/_/id/379/burnley           BURNLEY   \n",
       "379       20      /futebol/time/_/id/381/norwich-city      NORWICH CITY   \n",
       "\n",
       "     jogos  vitorias  empates  derrotas  golsFavor  golsContra  diferencaGols  \\\n",
       "375     23         6        4        13         28          40            -12   \n",
       "376     24         4       10        10         26          45            -19   \n",
       "377     24         5        3        16         24          43            -19   \n",
       "378     22         2       11         9         20          29             -9   \n",
       "379     25         4        5        16         15          53            -38   \n",
       "\n",
       "     pts   ano  mediaGolsFavor  mediaGolsContra  \n",
       "375   22  2021        1.217391         1.739130  \n",
       "376   22  2021        1.083333         1.875000  \n",
       "377   18  2021        1.000000         1.791667  \n",
       "378   17  2021        0.909091         1.318182  \n",
       "379   17  2021        0.600000         2.120000  "
      ]
     },
     "execution_count": 87,
     "metadata": {},
     "output_type": "execute_result"
    }
   ],
   "source": [
    "dados_classificacao.tail()"
   ]
  },
  {
   "cell_type": "code",
   "execution_count": 88,
   "metadata": {},
   "outputs": [
    {
     "name": "stdout",
     "output_type": "stream",
     "text": [
      "<class 'pandas.core.frame.DataFrame'>\n",
      "RangeIndex: 380 entries, 0 to 379\n",
      "Data columns (total 14 columns):\n",
      " #   Column           Non-Null Count  Dtype  \n",
      "---  ------           --------------  -----  \n",
      " 0   posicao          380 non-null    int64  \n",
      " 1   link             380 non-null    object \n",
      " 2   time             380 non-null    object \n",
      " 3   jogos            380 non-null    int64  \n",
      " 4   vitorias         380 non-null    int64  \n",
      " 5   empates          380 non-null    int64  \n",
      " 6   derrotas         380 non-null    int64  \n",
      " 7   golsFavor        380 non-null    int64  \n",
      " 8   golsContra       380 non-null    int64  \n",
      " 9   diferencaGols    380 non-null    int64  \n",
      " 10  pts              380 non-null    int64  \n",
      " 11  ano              380 non-null    int64  \n",
      " 12  mediaGolsFavor   380 non-null    float64\n",
      " 13  mediaGolsContra  380 non-null    float64\n",
      "dtypes: float64(2), int64(10), object(2)\n",
      "memory usage: 41.7+ KB\n"
     ]
    }
   ],
   "source": [
    "dados_classificacao.info()"
   ]
  },
  {
   "cell_type": "code",
   "execution_count": 89,
   "metadata": {},
   "outputs": [
    {
     "data": {
      "text/html": [
       "<div>\n",
       "<style scoped>\n",
       "    .dataframe tbody tr th:only-of-type {\n",
       "        vertical-align: middle;\n",
       "    }\n",
       "\n",
       "    .dataframe tbody tr th {\n",
       "        vertical-align: top;\n",
       "    }\n",
       "\n",
       "    .dataframe thead th {\n",
       "        text-align: right;\n",
       "    }\n",
       "</style>\n",
       "<table border=\"1\" class=\"dataframe\">\n",
       "  <thead>\n",
       "    <tr style=\"text-align: right;\">\n",
       "      <th></th>\n",
       "      <th>ANO</th>\n",
       "    </tr>\n",
       "  </thead>\n",
       "  <tbody>\n",
       "    <tr>\n",
       "      <th>count</th>\n",
       "      <td>12047.000000</td>\n",
       "    </tr>\n",
       "    <tr>\n",
       "      <th>mean</th>\n",
       "      <td>2012.024902</td>\n",
       "    </tr>\n",
       "    <tr>\n",
       "      <th>std</th>\n",
       "      <td>5.389283</td>\n",
       "    </tr>\n",
       "    <tr>\n",
       "      <th>min</th>\n",
       "      <td>2003.000000</td>\n",
       "    </tr>\n",
       "    <tr>\n",
       "      <th>25%</th>\n",
       "      <td>2008.000000</td>\n",
       "    </tr>\n",
       "    <tr>\n",
       "      <th>50%</th>\n",
       "      <td>2012.000000</td>\n",
       "    </tr>\n",
       "    <tr>\n",
       "      <th>75%</th>\n",
       "      <td>2017.000000</td>\n",
       "    </tr>\n",
       "    <tr>\n",
       "      <th>max</th>\n",
       "      <td>2021.000000</td>\n",
       "    </tr>\n",
       "  </tbody>\n",
       "</table>\n",
       "</div>"
      ],
      "text/plain": [
       "                ANO\n",
       "count  12047.000000\n",
       "mean    2012.024902\n",
       "std        5.389283\n",
       "min     2003.000000\n",
       "25%     2008.000000\n",
       "50%     2012.000000\n",
       "75%     2017.000000\n",
       "max     2021.000000"
      ]
     },
     "execution_count": 89,
     "metadata": {},
     "output_type": "execute_result"
    }
   ],
   "source": [
    "dados_elenco.describe()"
   ]
  },
  {
   "cell_type": "code",
   "execution_count": 90,
   "metadata": {},
   "outputs": [
    {
     "data": {
      "text/html": [
       "<div>\n",
       "<style scoped>\n",
       "    .dataframe tbody tr th:only-of-type {\n",
       "        vertical-align: middle;\n",
       "    }\n",
       "\n",
       "    .dataframe tbody tr th {\n",
       "        vertical-align: top;\n",
       "    }\n",
       "\n",
       "    .dataframe thead th {\n",
       "        text-align: right;\n",
       "    }\n",
       "</style>\n",
       "<table border=\"1\" class=\"dataframe\">\n",
       "  <thead>\n",
       "    <tr style=\"text-align: right;\">\n",
       "      <th></th>\n",
       "      <th>NOME</th>\n",
       "      <th>POS</th>\n",
       "      <th>IDADE</th>\n",
       "      <th>ALT</th>\n",
       "      <th>POSICAO</th>\n",
       "      <th>NACIONALIDADE</th>\n",
       "      <th>JOGOS</th>\n",
       "      <th>SUBSTITUICAO</th>\n",
       "      <th>DEFESAS</th>\n",
       "      <th>GOLSOFRIDOS</th>\n",
       "      <th>ASSISTENCIAS</th>\n",
       "      <th>FALTASCOMETIDAS</th>\n",
       "      <th>FALTASOFRIDAS</th>\n",
       "      <th>CARTAOAMARELO</th>\n",
       "      <th>CARTAOVERMELHO</th>\n",
       "      <th>GOLS</th>\n",
       "      <th>TIME</th>\n",
       "      <th>ANO</th>\n",
       "      <th>FINALIZACOES</th>\n",
       "      <th>CHUTESGOL</th>\n",
       "    </tr>\n",
       "  </thead>\n",
       "  <tbody>\n",
       "    <tr>\n",
       "      <th>12042</th>\n",
       "      <td>Kenny McLean23</td>\n",
       "      <td>M</td>\n",
       "      <td>29</td>\n",
       "      <td>1.83 m</td>\n",
       "      <td>68 kg</td>\n",
       "      <td>Escócia</td>\n",
       "      <td>10</td>\n",
       "      <td>1</td>\n",
       "      <td>NaN</td>\n",
       "      <td>NaN</td>\n",
       "      <td>0</td>\n",
       "      <td>1</td>\n",
       "      <td>12</td>\n",
       "      <td>1</td>\n",
       "      <td>0</td>\n",
       "      <td>0</td>\n",
       "      <td>/futebol/time/_/id/381/norwich-city</td>\n",
       "      <td>2021</td>\n",
       "      <td>13</td>\n",
       "      <td>3</td>\n",
       "    </tr>\n",
       "    <tr>\n",
       "      <th>12043</th>\n",
       "      <td>Christos Tzolis18</td>\n",
       "      <td>A</td>\n",
       "      <td>19</td>\n",
       "      <td>--</td>\n",
       "      <td>--</td>\n",
       "      <td>Grécia</td>\n",
       "      <td>4</td>\n",
       "      <td>3</td>\n",
       "      <td>NaN</td>\n",
       "      <td>NaN</td>\n",
       "      <td>0</td>\n",
       "      <td>1</td>\n",
       "      <td>1</td>\n",
       "      <td>0</td>\n",
       "      <td>0</td>\n",
       "      <td>0</td>\n",
       "      <td>/futebol/time/_/id/381/norwich-city</td>\n",
       "      <td>2021</td>\n",
       "      <td>0</td>\n",
       "      <td>0</td>\n",
       "    </tr>\n",
       "    <tr>\n",
       "      <th>12044</th>\n",
       "      <td>Teemu Pukki22</td>\n",
       "      <td>A</td>\n",
       "      <td>31</td>\n",
       "      <td>1.8 m</td>\n",
       "      <td>73 kg</td>\n",
       "      <td>Finlândia</td>\n",
       "      <td>11</td>\n",
       "      <td>0</td>\n",
       "      <td>NaN</td>\n",
       "      <td>NaN</td>\n",
       "      <td>0</td>\n",
       "      <td>7</td>\n",
       "      <td>14</td>\n",
       "      <td>1</td>\n",
       "      <td>0</td>\n",
       "      <td>3</td>\n",
       "      <td>/futebol/time/_/id/381/norwich-city</td>\n",
       "      <td>2021</td>\n",
       "      <td>16</td>\n",
       "      <td>5</td>\n",
       "    </tr>\n",
       "    <tr>\n",
       "      <th>12045</th>\n",
       "      <td>Joshua Sargent24</td>\n",
       "      <td>A</td>\n",
       "      <td>21</td>\n",
       "      <td>1.85 m</td>\n",
       "      <td>78 kg</td>\n",
       "      <td>Estados Unidos</td>\n",
       "      <td>10</td>\n",
       "      <td>4</td>\n",
       "      <td>NaN</td>\n",
       "      <td>NaN</td>\n",
       "      <td>0</td>\n",
       "      <td>3</td>\n",
       "      <td>12</td>\n",
       "      <td>0</td>\n",
       "      <td>0</td>\n",
       "      <td>0</td>\n",
       "      <td>/futebol/time/_/id/381/norwich-city</td>\n",
       "      <td>2021</td>\n",
       "      <td>7</td>\n",
       "      <td>0</td>\n",
       "    </tr>\n",
       "    <tr>\n",
       "      <th>12046</th>\n",
       "      <td>Adam Idah35</td>\n",
       "      <td>A</td>\n",
       "      <td>20</td>\n",
       "      <td>1.91 m</td>\n",
       "      <td>83 kg</td>\n",
       "      <td>Irlanda</td>\n",
       "      <td>8</td>\n",
       "      <td>8</td>\n",
       "      <td>NaN</td>\n",
       "      <td>NaN</td>\n",
       "      <td>0</td>\n",
       "      <td>0</td>\n",
       "      <td>1</td>\n",
       "      <td>0</td>\n",
       "      <td>0</td>\n",
       "      <td>0</td>\n",
       "      <td>/futebol/time/_/id/381/norwich-city</td>\n",
       "      <td>2021</td>\n",
       "      <td>2</td>\n",
       "      <td>1</td>\n",
       "    </tr>\n",
       "  </tbody>\n",
       "</table>\n",
       "</div>"
      ],
      "text/plain": [
       "                    NOME POS IDADE     ALT POSICAO   NACIONALIDADE JOGOS  \\\n",
       "12042     Kenny McLean23   M    29  1.83 m   68 kg         Escócia    10   \n",
       "12043  Christos Tzolis18   A    19      --      --          Grécia     4   \n",
       "12044      Teemu Pukki22   A    31   1.8 m   73 kg       Finlândia    11   \n",
       "12045   Joshua Sargent24   A    21  1.85 m   78 kg  Estados Unidos    10   \n",
       "12046        Adam Idah35   A    20  1.91 m   83 kg         Irlanda     8   \n",
       "\n",
       "      SUBSTITUICAO DEFESAS GOLSOFRIDOS ASSISTENCIAS FALTASCOMETIDAS  \\\n",
       "12042            1     NaN         NaN            0               1   \n",
       "12043            3     NaN         NaN            0               1   \n",
       "12044            0     NaN         NaN            0               7   \n",
       "12045            4     NaN         NaN            0               3   \n",
       "12046            8     NaN         NaN            0               0   \n",
       "\n",
       "      FALTASOFRIDAS CARTAOAMARELO CARTAOVERMELHO GOLS  \\\n",
       "12042            12             1              0    0   \n",
       "12043             1             0              0    0   \n",
       "12044            14             1              0    3   \n",
       "12045            12             0              0    0   \n",
       "12046             1             0              0    0   \n",
       "\n",
       "                                      TIME   ANO FINALIZACOES CHUTESGOL  \n",
       "12042  /futebol/time/_/id/381/norwich-city  2021           13         3  \n",
       "12043  /futebol/time/_/id/381/norwich-city  2021            0         0  \n",
       "12044  /futebol/time/_/id/381/norwich-city  2021           16         5  \n",
       "12045  /futebol/time/_/id/381/norwich-city  2021            7         0  \n",
       "12046  /futebol/time/_/id/381/norwich-city  2021            2         1  "
      ]
     },
     "execution_count": 90,
     "metadata": {},
     "output_type": "execute_result"
    }
   ],
   "source": [
    "dados_elenco.tail()"
   ]
  },
  {
   "cell_type": "code",
   "execution_count": 91,
   "metadata": {},
   "outputs": [
    {
     "name": "stdout",
     "output_type": "stream",
     "text": [
      "<class 'pandas.core.frame.DataFrame'>\n",
      "RangeIndex: 12047 entries, 0 to 12046\n",
      "Data columns (total 20 columns):\n",
      " #   Column           Non-Null Count  Dtype \n",
      "---  ------           --------------  ----- \n",
      " 0   NOME             12047 non-null  object\n",
      " 1   POS              12047 non-null  object\n",
      " 2   IDADE            12047 non-null  object\n",
      " 3   ALT              12047 non-null  object\n",
      " 4   POSICAO          12047 non-null  object\n",
      " 5   NACIONALIDADE    12047 non-null  object\n",
      " 6   JOGOS            12047 non-null  object\n",
      " 7   SUBSTITUICAO     12047 non-null  object\n",
      " 8   DEFESAS          1364 non-null   object\n",
      " 9   GOLSOFRIDOS      1364 non-null   object\n",
      " 10  ASSISTENCIAS     12047 non-null  object\n",
      " 11  FALTASCOMETIDAS  12047 non-null  object\n",
      " 12  FALTASOFRIDAS    12047 non-null  object\n",
      " 13  CARTAOAMARELO    12047 non-null  object\n",
      " 14  CARTAOVERMELHO   12047 non-null  object\n",
      " 15  GOLS             10683 non-null  object\n",
      " 16  TIME             12047 non-null  object\n",
      " 17  ANO              12047 non-null  int64 \n",
      " 18  FINALIZACOES     10683 non-null  object\n",
      " 19  CHUTESGOL        10683 non-null  object\n",
      "dtypes: int64(1), object(19)\n",
      "memory usage: 1.8+ MB\n"
     ]
    }
   ],
   "source": [
    "dados_elenco.info()"
   ]
  },
  {
   "cell_type": "code",
   "execution_count": 92,
   "metadata": {},
   "outputs": [
    {
     "data": {
      "text/plain": [
       "array(['ARSENAL', 'CHELSEA', 'MANCHESTER UNITED', 'LIVERPOOL',\n",
       "       'NEWCASTLE UNITED', 'ASTON VILLA', 'CHARLTON ATHLETIC',\n",
       "       'BOLTON WANDERERS', 'FULHAM', 'BIRMINGHAM CITY', 'MIDDLESBROUGH',\n",
       "       'SOUTHAMPTON', 'PORTSMOUTH', 'TOTTENHAM HOTSPUR',\n",
       "       'BLACKBURN ROVERS', 'MANCHESTER CITY', 'EVERTON', 'LEICESTER CITY',\n",
       "       'LEEDS UNITED', 'WOLVERHAMPTON WANDERERS', 'WEST BROMWICH ALBION',\n",
       "       'CRYSTAL PALACE', 'NORWICH CITY', 'WEST HAM UNITED',\n",
       "       'WIGAN ATHLETIC', 'SUNDERLAND', 'READING', 'SHEFFIELD UNITED',\n",
       "       'WATFORD', 'DERBY COUNTY', 'STOKE CITY', 'HULL CITY', 'BURNLEY',\n",
       "       'BLACKPOOL', 'SWANSEA CITY', 'QUEENS PARK RANGERS', 'CARDIFF CITY',\n",
       "       'AFC BOURNEMOUTH', 'BRIGHTON & HOVE ALBION', 'HUDDERSFIELD TOWN',\n",
       "       'BRENTFORD'], dtype=object)"
      ]
     },
     "execution_count": 92,
     "metadata": {},
     "output_type": "execute_result"
    }
   ],
   "source": [
    "#Verificando os nomes das equipas\n",
    "dados_classificacao.time.unique()"
   ]
  },
  {
   "cell_type": "code",
   "execution_count": 93,
   "metadata": {},
   "outputs": [
    {
     "data": {
      "text/plain": [
       "array(['arsenal', 'chelsea', 'manchester united', 'liverpool',\n",
       "       'newcastle united', 'aston villa', 'charlton athletic',\n",
       "       'bolton wanderers', 'fulham', 'birmingham city', 'middlesbrough',\n",
       "       'southampton', 'portsmouth', 'tottenham hotspur',\n",
       "       'blackburn rovers', 'manchester city', 'everton', 'leicester city',\n",
       "       'leeds united', 'wolverhampton wanderers', 'west bromwich albion',\n",
       "       'crystal palace', 'norwich city', 'west ham united',\n",
       "       'wigan athletic', 'sunderland', 'reading', 'sheffield united',\n",
       "       'watford', 'derby county', 'stoke city', 'hull city', 'burnley',\n",
       "       'blackpool', 'swansea city', 'queens park rangers', 'cardiff city',\n",
       "       'afc bournemouth', 'brighton & hove albion', 'huddersfield town',\n",
       "       'brentford'], dtype=object)"
      ]
     },
     "execution_count": 93,
     "metadata": {},
     "output_type": "execute_result"
    }
   ],
   "source": [
    "#Padronizando os nomes das equipas para minuscula\n",
    "dados_classificacao['time'] = dados_classificacao['time'].str.lower() \n",
    "dados_classificacao.time.unique()  "
   ]
  },
  {
   "cell_type": "code",
   "execution_count": 94,
   "metadata": {},
   "outputs": [
    {
     "name": "stderr",
     "output_type": "stream",
     "text": [
      "<>:5: SyntaxWarning: invalid escape sequence '\\w'\n",
      "<>:5: SyntaxWarning: invalid escape sequence '\\w'\n",
      "C:\\Users\\Elvis\\AppData\\Local\\Temp\\ipykernel_39252\\1950647091.py:5: SyntaxWarning: invalid escape sequence '\\w'\n",
      "  dados_classificacao['time'] = dados_classificacao['time'].str.replace('[^\\w\\s]','',regex=True)\n"
     ]
    }
   ],
   "source": [
    "#Retirar acentos nos nomes das equipas\n",
    "#dados_classificacao['time'] = dados_classificacao['time'].str.normalize('NFKD').str.encode('ascii', errors='ignore').str.decode('utf-8')\n",
    "\n",
    "#Retirando qualquer pontuação nos nomes das equipas\n",
    "dados_classificacao['time'] = dados_classificacao['time'].str.replace('[^\\w\\s]','',regex=True)"
   ]
  },
  {
   "cell_type": "code",
   "execution_count": 95,
   "metadata": {},
   "outputs": [
    {
     "data": {
      "text/plain": [
       "array(['arsenal', 'chelsea', 'manchester united', 'liverpool',\n",
       "       'newcastle united', 'aston villa', 'charlton athletic',\n",
       "       'bolton wanderers', 'fulham', 'birmingham city', 'middlesbrough',\n",
       "       'southampton', 'portsmouth', 'tottenham hotspur',\n",
       "       'blackburn rovers', 'manchester city', 'everton', 'leicester city',\n",
       "       'leeds united', 'wolverhampton wanderers', 'west bromwich albion',\n",
       "       'crystal palace', 'norwich city', 'west ham united',\n",
       "       'wigan athletic', 'sunderland', 'reading', 'sheffield united',\n",
       "       'watford', 'derby county', 'stoke city', 'hull city', 'burnley',\n",
       "       'blackpool', 'swansea city', 'queens park rangers', 'cardiff city',\n",
       "       'afc bournemouth', 'brighton  hove albion', 'huddersfield town',\n",
       "       'brentford'], dtype=object)"
      ]
     },
     "execution_count": 95,
     "metadata": {},
     "output_type": "execute_result"
    }
   ],
   "source": [
    "dados_classificacao.time.unique()"
   ]
  },
  {
   "cell_type": "code",
   "execution_count": 96,
   "metadata": {},
   "outputs": [],
   "source": [
    "#Retirando os espaços em brancos duplicados\n",
    "#dados_classificacao['time'] = dados_classificacao['time'].str.replace(' ','',regex=True)\n",
    "\n",
    "dados_classificacao.time=dados_classificacao.time.replace(\"\\\\s+\",\" \",regex=True)"
   ]
  },
  {
   "cell_type": "code",
   "execution_count": 97,
   "metadata": {},
   "outputs": [
    {
     "data": {
      "text/plain": [
       "array(['arsenal', 'chelsea', 'manchester united', 'liverpool',\n",
       "       'newcastle united', 'aston villa', 'charlton athletic',\n",
       "       'bolton wanderers', 'fulham', 'birmingham city', 'middlesbrough',\n",
       "       'southampton', 'portsmouth', 'tottenham hotspur',\n",
       "       'blackburn rovers', 'manchester city', 'everton', 'leicester city',\n",
       "       'leeds united', 'wolverhampton wanderers', 'west bromwich albion',\n",
       "       'crystal palace', 'norwich city', 'west ham united',\n",
       "       'wigan athletic', 'sunderland', 'reading', 'sheffield united',\n",
       "       'watford', 'derby county', 'stoke city', 'hull city', 'burnley',\n",
       "       'blackpool', 'swansea city', 'queens park rangers', 'cardiff city',\n",
       "       'afc bournemouth', 'brighton hove albion', 'huddersfield town',\n",
       "       'brentford'], dtype=object)"
      ]
     },
     "execution_count": 97,
     "metadata": {},
     "output_type": "execute_result"
    }
   ],
   "source": [
    "dados_classificacao.time.unique()"
   ]
  },
  {
   "cell_type": "markdown",
   "metadata": {},
   "source": [
    "# Preparando o DataSet Elencos"
   ]
  },
  {
   "cell_type": "code",
   "execution_count": 98,
   "metadata": {},
   "outputs": [
    {
     "data": {
      "text/plain": [
       "array(['/futebol/time/_/id/359/arsenal', '/futebol/time/_/id/363/chelsea',\n",
       "       '/futebol/time/_/id/360/manchester-united',\n",
       "       '/futebol/time/_/id/364/liverpool',\n",
       "       '/futebol/time/_/id/361/newcastle-united',\n",
       "       '/futebol/time/_/id/362/aston-villa',\n",
       "       '/futebol/time/_/id/372/charlton-athletic',\n",
       "       '/futebol/time/_/id/358/bolton-wanderers',\n",
       "       '/futebol/time/_/id/370/fulham',\n",
       "       '/futebol/time/_/id/392/birmingham-city',\n",
       "       '/futebol/time/_/id/369/middlesbrough',\n",
       "       '/futebol/time/_/id/376/southampton',\n",
       "       '/futebol/time/_/id/385/portsmouth',\n",
       "       '/futebol/time/_/id/367/tottenham-hotspur',\n",
       "       '/futebol/time/_/id/365/blackburn-rovers',\n",
       "       '/futebol/time/_/id/382/manchester-city',\n",
       "       '/futebol/time/_/id/368/everton',\n",
       "       '/futebol/time/_/id/375/leicester-city',\n",
       "       '/futebol/time/_/id/357/leeds-united',\n",
       "       '/futebol/time/_/id/380/wolverhampton-wanderers',\n",
       "       '/futebol/time/_/id/383/west-bromwich-albion',\n",
       "       '/futebol/time/_/id/384/crystal-palace',\n",
       "       '/futebol/time/_/id/381/norwich-city',\n",
       "       '/futebol/time/_/id/371/west-ham-united',\n",
       "       '/futebol/time/_/id/350/wigan-athletic',\n",
       "       '/futebol/time/_/id/366/sunderland',\n",
       "       '/futebol/time/_/id/338/reading',\n",
       "       '/futebol/time/_/id/398/sheffield-united',\n",
       "       '/futebol/time/_/id/395/watford',\n",
       "       '/futebol/time/_/id/374/derby-county',\n",
       "       '/futebol/time/_/id/336/stoke-city',\n",
       "       '/futebol/time/_/id/306/hull-city',\n",
       "       '/futebol/time/_/id/379/burnley',\n",
       "       '/futebol/time/_/id/346/blackpool',\n",
       "       '/futebol/time/_/id/318/swansea-city',\n",
       "       '/futebol/time/_/id/334/queens-park-rangers',\n",
       "       '/futebol/time/_/id/347/cardiff-city',\n",
       "       '/futebol/time/_/id/349/afc-bournemouth',\n",
       "       '/futebol/time/_/id/331/brighton-hove-albion',\n",
       "       '/futebol/time/_/id/335/huddersfield-town',\n",
       "       '/futebol/time/_/id/337/brentford'], dtype=object)"
      ]
     },
     "execution_count": 98,
     "metadata": {},
     "output_type": "execute_result"
    }
   ],
   "source": [
    "#Dividindo o texto com base no /\n",
    "dados_elenco.TIME.unique()"
   ]
  },
  {
   "cell_type": "code",
   "execution_count": 99,
   "metadata": {},
   "outputs": [
    {
     "name": "stdout",
     "output_type": "stream",
     "text": [
      "['', 'futebol', 'time', '_', 'id', '363', 'chelsea']\n",
      "chelsea\n"
     ]
    }
   ],
   "source": [
    "#Dividindo o texto com base no /\n",
    "print(dados_elenco.TIME[45].split(\"/\"))\n",
    "print(dados_elenco.TIME[45].split(\"/\")[6])"
   ]
  },
  {
   "cell_type": "code",
   "execution_count": 100,
   "metadata": {},
   "outputs": [
    {
     "name": "stderr",
     "output_type": "stream",
     "text": [
      "<>:5: SyntaxWarning: invalid escape sequence '\\w'\n",
      "<>:5: SyntaxWarning: invalid escape sequence '\\w'\n",
      "C:\\Users\\Elvis\\AppData\\Local\\Temp\\ipykernel_39252\\1974098970.py:5: SyntaxWarning: invalid escape sequence '\\w'\n",
      "  dados_elenco.TIME = dados_elenco.TIME.replace('[^\\w\\s]',' ',regex=True)\n"
     ]
    },
    {
     "data": {
      "text/plain": [
       "array(['arsenal', 'chelsea', 'manchester united', 'liverpool',\n",
       "       'newcastle united', 'aston villa', 'charlton athletic',\n",
       "       'bolton wanderers', 'fulham', 'birmingham city', 'middlesbrough',\n",
       "       'southampton', 'portsmouth', 'tottenham hotspur',\n",
       "       'blackburn rovers', 'manchester city', 'everton', 'leicester city',\n",
       "       'leeds united', 'wolverhampton wanderers', 'west bromwich albion',\n",
       "       'crystal palace', 'norwich city', 'west ham united',\n",
       "       'wigan athletic', 'sunderland', 'reading', 'sheffield united',\n",
       "       'watford', 'derby county', 'stoke city', 'hull city', 'burnley',\n",
       "       'blackpool', 'swansea city', 'queens park rangers', 'cardiff city',\n",
       "       'afc bournemouth', 'brighton hove albion', 'huddersfield town',\n",
       "       'brentford'], dtype=object)"
      ]
     },
     "execution_count": 100,
     "metadata": {},
     "output_type": "execute_result"
    }
   ],
   "source": [
    "#Aplicando a divisão a todos os elementos\n",
    "dados_elenco.TIME = dados_elenco.TIME.apply(lambda x: x.split(\"/\")[6])\n",
    "\n",
    "#Retirando qualquer pontuação nos nomes das equipas\n",
    "dados_elenco.TIME = dados_elenco.TIME.replace('[^\\w\\s]',' ',regex=True)\n",
    "\n",
    "#Retirando espaços em branco duplicados\n",
    "dados_elenco.TIME = dados_elenco.TIME.replace(\"\\\\s+\",\" \",regex=True)\n",
    "\n",
    "dados_elenco.TIME.unique()"
   ]
  },
  {
   "cell_type": "code",
   "execution_count": 101,
   "metadata": {},
   "outputs": [
    {
     "name": "stdout",
     "output_type": "stream",
     "text": [
      "['44' '35' '51' '40' '38' '47' '36' '37' '45' '48' '43' '34' '52' '49'\n",
      " '53' '41' '46' '39' '42' '19' '50' '21' '28' '23' '54' '60' '25' '55'\n",
      " '26' '33' '30' '113' '--' '29' '32' '31' '27' '20' '24' '18' '22' '17']\n"
     ]
    },
    {
     "data": {
      "text/plain": [
       "0        44.0\n",
       "1        35.0\n",
       "2        51.0\n",
       "3        40.0\n",
       "4        38.0\n",
       "         ... \n",
       "12042    29.0\n",
       "12043    19.0\n",
       "12044    31.0\n",
       "12045    21.0\n",
       "12046    20.0\n",
       "Name: IDADE, Length: 12047, dtype: float64"
      ]
     },
     "execution_count": 101,
     "metadata": {},
     "output_type": "execute_result"
    }
   ],
   "source": [
    "print(dados_elenco.IDADE.unique())\n",
    "pd.to_numeric(dados_elenco.IDADE, errors='coerce')"
   ]
  },
  {
   "cell_type": "code",
   "execution_count": 102,
   "metadata": {},
   "outputs": [
    {
     "data": {
      "text/html": [
       "<div>\n",
       "<style scoped>\n",
       "    .dataframe tbody tr th:only-of-type {\n",
       "        vertical-align: middle;\n",
       "    }\n",
       "\n",
       "    .dataframe tbody tr th {\n",
       "        vertical-align: top;\n",
       "    }\n",
       "\n",
       "    .dataframe thead th {\n",
       "        text-align: right;\n",
       "    }\n",
       "</style>\n",
       "<table border=\"1\" class=\"dataframe\">\n",
       "  <thead>\n",
       "    <tr style=\"text-align: right;\">\n",
       "      <th></th>\n",
       "      <th>NOME</th>\n",
       "      <th>POS</th>\n",
       "      <th>IDADE</th>\n",
       "      <th>ALT</th>\n",
       "      <th>POSICAO</th>\n",
       "      <th>NACIONALIDADE</th>\n",
       "      <th>JOGOS</th>\n",
       "      <th>SUBSTITUICAO</th>\n",
       "      <th>DEFESAS</th>\n",
       "      <th>GOLSOFRIDOS</th>\n",
       "      <th>ASSISTENCIAS</th>\n",
       "      <th>FALTASCOMETIDAS</th>\n",
       "      <th>FALTASOFRIDAS</th>\n",
       "      <th>CARTAOAMARELO</th>\n",
       "      <th>CARTAOVERMELHO</th>\n",
       "      <th>GOLS</th>\n",
       "      <th>TIME</th>\n",
       "      <th>ANO</th>\n",
       "      <th>FINALIZACOES</th>\n",
       "      <th>CHUTESGOL</th>\n",
       "    </tr>\n",
       "  </thead>\n",
       "  <tbody>\n",
       "    <tr>\n",
       "      <th>0</th>\n",
       "      <td>Manuel Almunia</td>\n",
       "      <td>G</td>\n",
       "      <td>44</td>\n",
       "      <td>1.91</td>\n",
       "      <td>86</td>\n",
       "      <td>Espanha</td>\n",
       "      <td>--</td>\n",
       "      <td>--</td>\n",
       "      <td>--</td>\n",
       "      <td>--</td>\n",
       "      <td>--</td>\n",
       "      <td>--</td>\n",
       "      <td>--</td>\n",
       "      <td>--</td>\n",
       "      <td>--</td>\n",
       "      <td>NaN</td>\n",
       "      <td>arsenal</td>\n",
       "      <td>2003</td>\n",
       "      <td>NaN</td>\n",
       "      <td>NaN</td>\n",
       "    </tr>\n",
       "    <tr>\n",
       "      <th>1</th>\n",
       "      <td>Mark Howard</td>\n",
       "      <td>G</td>\n",
       "      <td>35</td>\n",
       "      <td>1.83</td>\n",
       "      <td>76</td>\n",
       "      <td>Inglaterra</td>\n",
       "      <td>--</td>\n",
       "      <td>--</td>\n",
       "      <td>--</td>\n",
       "      <td>--</td>\n",
       "      <td>--</td>\n",
       "      <td>--</td>\n",
       "      <td>--</td>\n",
       "      <td>--</td>\n",
       "      <td>--</td>\n",
       "      <td>NaN</td>\n",
       "      <td>arsenal</td>\n",
       "      <td>2003</td>\n",
       "      <td>NaN</td>\n",
       "      <td>NaN</td>\n",
       "    </tr>\n",
       "    <tr>\n",
       "      <th>2</th>\n",
       "      <td>Jens Lehmann1</td>\n",
       "      <td>G</td>\n",
       "      <td>51</td>\n",
       "      <td>1.91</td>\n",
       "      <td>87</td>\n",
       "      <td>Alemanha</td>\n",
       "      <td>38</td>\n",
       "      <td>0</td>\n",
       "      <td>224</td>\n",
       "      <td>0</td>\n",
       "      <td>0</td>\n",
       "      <td>2</td>\n",
       "      <td>16</td>\n",
       "      <td>2</td>\n",
       "      <td>0</td>\n",
       "      <td>NaN</td>\n",
       "      <td>arsenal</td>\n",
       "      <td>2003</td>\n",
       "      <td>NaN</td>\n",
       "      <td>NaN</td>\n",
       "    </tr>\n",
       "    <tr>\n",
       "      <th>3</th>\n",
       "      <td>Stuart Taylor13</td>\n",
       "      <td>G</td>\n",
       "      <td>40</td>\n",
       "      <td>1.96</td>\n",
       "      <td>79</td>\n",
       "      <td>Inglaterra</td>\n",
       "      <td>--</td>\n",
       "      <td>--</td>\n",
       "      <td>--</td>\n",
       "      <td>--</td>\n",
       "      <td>--</td>\n",
       "      <td>--</td>\n",
       "      <td>--</td>\n",
       "      <td>--</td>\n",
       "      <td>--</td>\n",
       "      <td>NaN</td>\n",
       "      <td>arsenal</td>\n",
       "      <td>2003</td>\n",
       "      <td>NaN</td>\n",
       "      <td>NaN</td>\n",
       "    </tr>\n",
       "    <tr>\n",
       "      <th>4</th>\n",
       "      <td>Ryan Garry</td>\n",
       "      <td>D</td>\n",
       "      <td>38</td>\n",
       "      <td>1.88</td>\n",
       "      <td>82</td>\n",
       "      <td>Inglaterra</td>\n",
       "      <td>--</td>\n",
       "      <td>--</td>\n",
       "      <td>NaN</td>\n",
       "      <td>NaN</td>\n",
       "      <td>--</td>\n",
       "      <td>--</td>\n",
       "      <td>--</td>\n",
       "      <td>--</td>\n",
       "      <td>--</td>\n",
       "      <td>--</td>\n",
       "      <td>arsenal</td>\n",
       "      <td>2003</td>\n",
       "      <td>--</td>\n",
       "      <td>--</td>\n",
       "    </tr>\n",
       "  </tbody>\n",
       "</table>\n",
       "</div>"
      ],
      "text/plain": [
       "              NOME POS IDADE    ALT POSICAO NACIONALIDADE JOGOS SUBSTITUICAO  \\\n",
       "0   Manuel Almunia   G    44  1.91      86        Espanha    --           --   \n",
       "1      Mark Howard   G    35  1.83      76     Inglaterra    --           --   \n",
       "2    Jens Lehmann1   G    51  1.91      87       Alemanha    38            0   \n",
       "3  Stuart Taylor13   G    40  1.96      79     Inglaterra    --           --   \n",
       "4       Ryan Garry   D    38  1.88      82     Inglaterra    --           --   \n",
       "\n",
       "  DEFESAS GOLSOFRIDOS ASSISTENCIAS FALTASCOMETIDAS FALTASOFRIDAS  \\\n",
       "0      --          --           --              --            --   \n",
       "1      --          --           --              --            --   \n",
       "2     224           0            0               2            16   \n",
       "3      --          --           --              --            --   \n",
       "4     NaN         NaN           --              --            --   \n",
       "\n",
       "  CARTAOAMARELO CARTAOVERMELHO GOLS     TIME   ANO FINALIZACOES CHUTESGOL  \n",
       "0            --             --  NaN  arsenal  2003          NaN       NaN  \n",
       "1            --             --  NaN  arsenal  2003          NaN       NaN  \n",
       "2             2              0  NaN  arsenal  2003          NaN       NaN  \n",
       "3            --             --  NaN  arsenal  2003          NaN       NaN  \n",
       "4            --             --   --  arsenal  2003           --        --  "
      ]
     },
     "execution_count": 102,
     "metadata": {},
     "output_type": "execute_result"
    }
   ],
   "source": [
    "dados_elenco.head()\n",
    "#Retirar a letra m no valor do atributo ALT\n",
    "dados_elenco.ALT = dados_elenco.ALT.str.replace('m','',regex=True)\n",
    "\n",
    "#Retirar a letra kg no valor do atributo PESO\n",
    "dados_elenco.POSICAO = dados_elenco.POSICAO.str.replace('kg','',regex=True)\n",
    "\n",
    "dados_elenco.head()"
   ]
  },
  {
   "cell_type": "code",
   "execution_count": 103,
   "metadata": {},
   "outputs": [
    {
     "name": "stdout",
     "output_type": "stream",
     "text": [
      "IDADE\n",
      "ALT\n",
      "POSICAO\n",
      "JOGOS\n",
      "SUBSTITUICAO\n",
      "DEFESAS\n",
      "GOLSOFRIDOS\n",
      "ASSISTENCIAS\n",
      "FALTASCOMETIDAS\n",
      "FALTASOFRIDAS\n",
      "CARTAOAMARELO\n",
      "CARTAOVERMELHO\n"
     ]
    },
    {
     "name": "stdout",
     "output_type": "stream",
     "text": [
      "GOLS\n",
      "FINALIZACOES\n",
      "CHUTESGOL\n"
     ]
    }
   ],
   "source": [
    "#Adicionar todas os atributos que seriam numericos numa lista\n",
    "colunas_numericas = [ 'IDADE','ALT', 'POSICAO', 'JOGOS',\n",
    "       'SUBSTITUICAO', 'DEFESAS', 'GOLSOFRIDOS', 'ASSISTENCIAS',\n",
    "       'FALTASCOMETIDAS', 'FALTASOFRIDAS', 'CARTAOAMARELO', 'CARTAOVERMELHO',\n",
    "       'GOLS','FINALIZACOES', 'CHUTESGOL']\n",
    "\n",
    "#Vamos transformar os dados em numericos da lista colunas_numericas\n",
    "\n",
    "for coluna in colunas_numericas:\n",
    "    print (coluna)\n",
    "    dados_elenco[coluna]= dados_elenco[coluna].str.replace(\"[a-zA-Z]\", \"\")\n",
    "    dados_elenco[coluna] = pd.to_numeric(dados_elenco[coluna], errors='coerce')\n",
    "\n"
   ]
  },
  {
   "cell_type": "code",
   "execution_count": 104,
   "metadata": {},
   "outputs": [
    {
     "data": {
      "text/html": [
       "<div>\n",
       "<style scoped>\n",
       "    .dataframe tbody tr th:only-of-type {\n",
       "        vertical-align: middle;\n",
       "    }\n",
       "\n",
       "    .dataframe tbody tr th {\n",
       "        vertical-align: top;\n",
       "    }\n",
       "\n",
       "    .dataframe thead th {\n",
       "        text-align: right;\n",
       "    }\n",
       "</style>\n",
       "<table border=\"1\" class=\"dataframe\">\n",
       "  <thead>\n",
       "    <tr style=\"text-align: right;\">\n",
       "      <th></th>\n",
       "      <th>NOME</th>\n",
       "      <th>POS</th>\n",
       "      <th>IDADE</th>\n",
       "      <th>ALT</th>\n",
       "      <th>POSICAO</th>\n",
       "      <th>NACIONALIDADE</th>\n",
       "      <th>JOGOS</th>\n",
       "      <th>SUBSTITUICAO</th>\n",
       "      <th>DEFESAS</th>\n",
       "      <th>GOLSOFRIDOS</th>\n",
       "      <th>ASSISTENCIAS</th>\n",
       "      <th>FALTASCOMETIDAS</th>\n",
       "      <th>FALTASOFRIDAS</th>\n",
       "      <th>CARTAOAMARELO</th>\n",
       "      <th>CARTAOVERMELHO</th>\n",
       "      <th>GOLS</th>\n",
       "      <th>TIME</th>\n",
       "      <th>ANO</th>\n",
       "      <th>FINALIZACOES</th>\n",
       "      <th>CHUTESGOL</th>\n",
       "    </tr>\n",
       "  </thead>\n",
       "  <tbody>\n",
       "    <tr>\n",
       "      <th>0</th>\n",
       "      <td>Manuel Almunia</td>\n",
       "      <td>G</td>\n",
       "      <td>44.0</td>\n",
       "      <td>1.91</td>\n",
       "      <td>86.0</td>\n",
       "      <td>Espanha</td>\n",
       "      <td>NaN</td>\n",
       "      <td>NaN</td>\n",
       "      <td>NaN</td>\n",
       "      <td>NaN</td>\n",
       "      <td>NaN</td>\n",
       "      <td>NaN</td>\n",
       "      <td>NaN</td>\n",
       "      <td>NaN</td>\n",
       "      <td>NaN</td>\n",
       "      <td>NaN</td>\n",
       "      <td>arsenal</td>\n",
       "      <td>2003</td>\n",
       "      <td>NaN</td>\n",
       "      <td>NaN</td>\n",
       "    </tr>\n",
       "    <tr>\n",
       "      <th>1</th>\n",
       "      <td>Mark Howard</td>\n",
       "      <td>G</td>\n",
       "      <td>35.0</td>\n",
       "      <td>1.83</td>\n",
       "      <td>76.0</td>\n",
       "      <td>Inglaterra</td>\n",
       "      <td>NaN</td>\n",
       "      <td>NaN</td>\n",
       "      <td>NaN</td>\n",
       "      <td>NaN</td>\n",
       "      <td>NaN</td>\n",
       "      <td>NaN</td>\n",
       "      <td>NaN</td>\n",
       "      <td>NaN</td>\n",
       "      <td>NaN</td>\n",
       "      <td>NaN</td>\n",
       "      <td>arsenal</td>\n",
       "      <td>2003</td>\n",
       "      <td>NaN</td>\n",
       "      <td>NaN</td>\n",
       "    </tr>\n",
       "    <tr>\n",
       "      <th>2</th>\n",
       "      <td>Jens Lehmann1</td>\n",
       "      <td>G</td>\n",
       "      <td>51.0</td>\n",
       "      <td>1.91</td>\n",
       "      <td>87.0</td>\n",
       "      <td>Alemanha</td>\n",
       "      <td>38.0</td>\n",
       "      <td>0.0</td>\n",
       "      <td>224.0</td>\n",
       "      <td>0.0</td>\n",
       "      <td>0.0</td>\n",
       "      <td>2.0</td>\n",
       "      <td>16.0</td>\n",
       "      <td>2.0</td>\n",
       "      <td>0.0</td>\n",
       "      <td>NaN</td>\n",
       "      <td>arsenal</td>\n",
       "      <td>2003</td>\n",
       "      <td>NaN</td>\n",
       "      <td>NaN</td>\n",
       "    </tr>\n",
       "    <tr>\n",
       "      <th>3</th>\n",
       "      <td>Stuart Taylor13</td>\n",
       "      <td>G</td>\n",
       "      <td>40.0</td>\n",
       "      <td>1.96</td>\n",
       "      <td>79.0</td>\n",
       "      <td>Inglaterra</td>\n",
       "      <td>NaN</td>\n",
       "      <td>NaN</td>\n",
       "      <td>NaN</td>\n",
       "      <td>NaN</td>\n",
       "      <td>NaN</td>\n",
       "      <td>NaN</td>\n",
       "      <td>NaN</td>\n",
       "      <td>NaN</td>\n",
       "      <td>NaN</td>\n",
       "      <td>NaN</td>\n",
       "      <td>arsenal</td>\n",
       "      <td>2003</td>\n",
       "      <td>NaN</td>\n",
       "      <td>NaN</td>\n",
       "    </tr>\n",
       "    <tr>\n",
       "      <th>4</th>\n",
       "      <td>Ryan Garry</td>\n",
       "      <td>D</td>\n",
       "      <td>38.0</td>\n",
       "      <td>1.88</td>\n",
       "      <td>82.0</td>\n",
       "      <td>Inglaterra</td>\n",
       "      <td>NaN</td>\n",
       "      <td>NaN</td>\n",
       "      <td>NaN</td>\n",
       "      <td>NaN</td>\n",
       "      <td>NaN</td>\n",
       "      <td>NaN</td>\n",
       "      <td>NaN</td>\n",
       "      <td>NaN</td>\n",
       "      <td>NaN</td>\n",
       "      <td>NaN</td>\n",
       "      <td>arsenal</td>\n",
       "      <td>2003</td>\n",
       "      <td>NaN</td>\n",
       "      <td>NaN</td>\n",
       "    </tr>\n",
       "  </tbody>\n",
       "</table>\n",
       "</div>"
      ],
      "text/plain": [
       "              NOME POS  IDADE   ALT  POSICAO NACIONALIDADE  JOGOS  \\\n",
       "0   Manuel Almunia   G   44.0  1.91     86.0       Espanha    NaN   \n",
       "1      Mark Howard   G   35.0  1.83     76.0    Inglaterra    NaN   \n",
       "2    Jens Lehmann1   G   51.0  1.91     87.0      Alemanha   38.0   \n",
       "3  Stuart Taylor13   G   40.0  1.96     79.0    Inglaterra    NaN   \n",
       "4       Ryan Garry   D   38.0  1.88     82.0    Inglaterra    NaN   \n",
       "\n",
       "   SUBSTITUICAO  DEFESAS  GOLSOFRIDOS  ASSISTENCIAS  FALTASCOMETIDAS  \\\n",
       "0           NaN      NaN          NaN           NaN              NaN   \n",
       "1           NaN      NaN          NaN           NaN              NaN   \n",
       "2           0.0    224.0          0.0           0.0              2.0   \n",
       "3           NaN      NaN          NaN           NaN              NaN   \n",
       "4           NaN      NaN          NaN           NaN              NaN   \n",
       "\n",
       "   FALTASOFRIDAS  CARTAOAMARELO  CARTAOVERMELHO  GOLS     TIME   ANO  \\\n",
       "0            NaN            NaN             NaN   NaN  arsenal  2003   \n",
       "1            NaN            NaN             NaN   NaN  arsenal  2003   \n",
       "2           16.0            2.0             0.0   NaN  arsenal  2003   \n",
       "3            NaN            NaN             NaN   NaN  arsenal  2003   \n",
       "4            NaN            NaN             NaN   NaN  arsenal  2003   \n",
       "\n",
       "   FINALIZACOES  CHUTESGOL  \n",
       "0           NaN        NaN  \n",
       "1           NaN        NaN  \n",
       "2           NaN        NaN  \n",
       "3           NaN        NaN  \n",
       "4           NaN        NaN  "
      ]
     },
     "execution_count": 104,
     "metadata": {},
     "output_type": "execute_result"
    }
   ],
   "source": [
    "dados_elenco.head()"
   ]
  },
  {
   "cell_type": "code",
   "execution_count": 105,
   "metadata": {},
   "outputs": [
    {
     "name": "stdout",
     "output_type": "stream",
     "text": [
      "<class 'pandas.core.frame.DataFrame'>\n",
      "RangeIndex: 12047 entries, 0 to 12046\n",
      "Data columns (total 20 columns):\n",
      " #   Column           Non-Null Count  Dtype  \n",
      "---  ------           --------------  -----  \n",
      " 0   NOME             12047 non-null  object \n",
      " 1   POS              12047 non-null  object \n",
      " 2   IDADE            12016 non-null  float64\n",
      " 3   ALT              11664 non-null  float64\n",
      " 4   POSICAO          11514 non-null  float64\n",
      " 5   NACIONALIDADE    12047 non-null  object \n",
      " 6   JOGOS            9943 non-null   float64\n",
      " 7   SUBSTITUICAO     9943 non-null   float64\n",
      " 8   DEFESAS          1090 non-null   float64\n",
      " 9   GOLSOFRIDOS      1090 non-null   float64\n",
      " 10  ASSISTENCIAS     9943 non-null   float64\n",
      " 11  FALTASCOMETIDAS  9943 non-null   float64\n",
      " 12  FALTASOFRIDAS    9943 non-null   float64\n",
      " 13  CARTAOAMARELO    9943 non-null   float64\n",
      " 14  CARTAOVERMELHO   9943 non-null   float64\n",
      " 15  GOLS             8853 non-null   float64\n",
      " 16  TIME             12047 non-null  object \n",
      " 17  ANO              12047 non-null  int64  \n",
      " 18  FINALIZACOES     8853 non-null   float64\n",
      " 19  CHUTESGOL        8853 non-null   float64\n",
      "dtypes: float64(15), int64(1), object(4)\n",
      "memory usage: 1.8+ MB\n"
     ]
    }
   ],
   "source": [
    "dados_elenco.info()"
   ]
  },
  {
   "cell_type": "code",
   "execution_count": null,
   "metadata": {},
   "outputs": [],
   "source": []
  },
  {
   "cell_type": "code",
   "execution_count": 106,
   "metadata": {},
   "outputs": [
    {
     "data": {
      "text/html": [
       "<div>\n",
       "<style scoped>\n",
       "    .dataframe tbody tr th:only-of-type {\n",
       "        vertical-align: middle;\n",
       "    }\n",
       "\n",
       "    .dataframe tbody tr th {\n",
       "        vertical-align: top;\n",
       "    }\n",
       "\n",
       "    .dataframe thead th {\n",
       "        text-align: right;\n",
       "    }\n",
       "</style>\n",
       "<table border=\"1\" class=\"dataframe\">\n",
       "  <thead>\n",
       "    <tr style=\"text-align: right;\">\n",
       "      <th></th>\n",
       "      <th>NOME</th>\n",
       "      <th>POS</th>\n",
       "      <th>IDADE</th>\n",
       "      <th>ALT</th>\n",
       "      <th>POSICAO</th>\n",
       "      <th>NACIONALIDADE</th>\n",
       "      <th>TIME</th>\n",
       "      <th>ANO</th>\n",
       "    </tr>\n",
       "  </thead>\n",
       "  <tbody>\n",
       "    <tr>\n",
       "      <th>0</th>\n",
       "      <td>Manuel Almunia</td>\n",
       "      <td>G</td>\n",
       "      <td>44.0</td>\n",
       "      <td>1.91</td>\n",
       "      <td>86.0</td>\n",
       "      <td>Espanha</td>\n",
       "      <td>arsenal</td>\n",
       "      <td>2003</td>\n",
       "    </tr>\n",
       "    <tr>\n",
       "      <th>1</th>\n",
       "      <td>Mark Howard</td>\n",
       "      <td>G</td>\n",
       "      <td>35.0</td>\n",
       "      <td>1.83</td>\n",
       "      <td>76.0</td>\n",
       "      <td>Inglaterra</td>\n",
       "      <td>arsenal</td>\n",
       "      <td>2003</td>\n",
       "    </tr>\n",
       "    <tr>\n",
       "      <th>2</th>\n",
       "      <td>Jens Lehmann1</td>\n",
       "      <td>G</td>\n",
       "      <td>51.0</td>\n",
       "      <td>1.91</td>\n",
       "      <td>87.0</td>\n",
       "      <td>Alemanha</td>\n",
       "      <td>arsenal</td>\n",
       "      <td>2003</td>\n",
       "    </tr>\n",
       "    <tr>\n",
       "      <th>3</th>\n",
       "      <td>Stuart Taylor13</td>\n",
       "      <td>G</td>\n",
       "      <td>40.0</td>\n",
       "      <td>1.96</td>\n",
       "      <td>79.0</td>\n",
       "      <td>Inglaterra</td>\n",
       "      <td>arsenal</td>\n",
       "      <td>2003</td>\n",
       "    </tr>\n",
       "    <tr>\n",
       "      <th>4</th>\n",
       "      <td>Ryan Garry</td>\n",
       "      <td>D</td>\n",
       "      <td>38.0</td>\n",
       "      <td>1.88</td>\n",
       "      <td>82.0</td>\n",
       "      <td>Inglaterra</td>\n",
       "      <td>arsenal</td>\n",
       "      <td>2003</td>\n",
       "    </tr>\n",
       "  </tbody>\n",
       "</table>\n",
       "</div>"
      ],
      "text/plain": [
       "              NOME POS  IDADE   ALT  POSICAO NACIONALIDADE     TIME   ANO\n",
       "0   Manuel Almunia   G   44.0  1.91     86.0       Espanha  arsenal  2003\n",
       "1      Mark Howard   G   35.0  1.83     76.0    Inglaterra  arsenal  2003\n",
       "2    Jens Lehmann1   G   51.0  1.91     87.0      Alemanha  arsenal  2003\n",
       "3  Stuart Taylor13   G   40.0  1.96     79.0    Inglaterra  arsenal  2003\n",
       "4       Ryan Garry   D   38.0  1.88     82.0    Inglaterra  arsenal  2003"
      ]
     },
     "execution_count": 106,
     "metadata": {},
     "output_type": "execute_result"
    }
   ],
   "source": [
    "#Selecionando atributos de interesse\n",
    "dados_elenco_select=dados_elenco[['NOME', 'POS', 'IDADE', 'ALT','POSICAO', 'NACIONALIDADE','TIME','ANO']]\n",
    "dados_elenco_select.head()"
   ]
  },
  {
   "cell_type": "markdown",
   "metadata": {},
   "source": [
    "Vamos dar um merge nos dados"
   ]
  },
  {
   "cell_type": "code",
   "execution_count": 107,
   "metadata": {},
   "outputs": [
    {
     "data": {
      "text/html": [
       "<div>\n",
       "<style scoped>\n",
       "    .dataframe tbody tr th:only-of-type {\n",
       "        vertical-align: middle;\n",
       "    }\n",
       "\n",
       "    .dataframe tbody tr th {\n",
       "        vertical-align: top;\n",
       "    }\n",
       "\n",
       "    .dataframe thead th {\n",
       "        text-align: right;\n",
       "    }\n",
       "</style>\n",
       "<table border=\"1\" class=\"dataframe\">\n",
       "  <thead>\n",
       "    <tr style=\"text-align: right;\">\n",
       "      <th></th>\n",
       "      <th>NOME</th>\n",
       "      <th>POS</th>\n",
       "      <th>IDADE</th>\n",
       "      <th>ALT</th>\n",
       "      <th>POSICAO</th>\n",
       "      <th>NACIONALIDADE</th>\n",
       "      <th>TIME</th>\n",
       "      <th>ANO</th>\n",
       "      <th>posicao</th>\n",
       "    </tr>\n",
       "  </thead>\n",
       "  <tbody>\n",
       "    <tr>\n",
       "      <th>12042</th>\n",
       "      <td>Kenny McLean23</td>\n",
       "      <td>M</td>\n",
       "      <td>29.0</td>\n",
       "      <td>1.83</td>\n",
       "      <td>68.0</td>\n",
       "      <td>Escócia</td>\n",
       "      <td>norwich city</td>\n",
       "      <td>2021</td>\n",
       "      <td>20</td>\n",
       "    </tr>\n",
       "    <tr>\n",
       "      <th>12043</th>\n",
       "      <td>Christos Tzolis18</td>\n",
       "      <td>A</td>\n",
       "      <td>19.0</td>\n",
       "      <td>NaN</td>\n",
       "      <td>NaN</td>\n",
       "      <td>Grécia</td>\n",
       "      <td>norwich city</td>\n",
       "      <td>2021</td>\n",
       "      <td>20</td>\n",
       "    </tr>\n",
       "    <tr>\n",
       "      <th>12044</th>\n",
       "      <td>Teemu Pukki22</td>\n",
       "      <td>A</td>\n",
       "      <td>31.0</td>\n",
       "      <td>1.80</td>\n",
       "      <td>73.0</td>\n",
       "      <td>Finlândia</td>\n",
       "      <td>norwich city</td>\n",
       "      <td>2021</td>\n",
       "      <td>20</td>\n",
       "    </tr>\n",
       "    <tr>\n",
       "      <th>12045</th>\n",
       "      <td>Joshua Sargent24</td>\n",
       "      <td>A</td>\n",
       "      <td>21.0</td>\n",
       "      <td>1.85</td>\n",
       "      <td>78.0</td>\n",
       "      <td>Estados Unidos</td>\n",
       "      <td>norwich city</td>\n",
       "      <td>2021</td>\n",
       "      <td>20</td>\n",
       "    </tr>\n",
       "    <tr>\n",
       "      <th>12046</th>\n",
       "      <td>Adam Idah35</td>\n",
       "      <td>A</td>\n",
       "      <td>20.0</td>\n",
       "      <td>1.91</td>\n",
       "      <td>83.0</td>\n",
       "      <td>Irlanda</td>\n",
       "      <td>norwich city</td>\n",
       "      <td>2021</td>\n",
       "      <td>20</td>\n",
       "    </tr>\n",
       "  </tbody>\n",
       "</table>\n",
       "</div>"
      ],
      "text/plain": [
       "                    NOME POS  IDADE   ALT  POSICAO   NACIONALIDADE  \\\n",
       "12042     Kenny McLean23   M   29.0  1.83     68.0         Escócia   \n",
       "12043  Christos Tzolis18   A   19.0   NaN      NaN          Grécia   \n",
       "12044      Teemu Pukki22   A   31.0  1.80     73.0       Finlândia   \n",
       "12045   Joshua Sargent24   A   21.0  1.85     78.0  Estados Unidos   \n",
       "12046        Adam Idah35   A   20.0  1.91     83.0         Irlanda   \n",
       "\n",
       "               TIME   ANO  posicao  \n",
       "12042  norwich city  2021       20  \n",
       "12043  norwich city  2021       20  \n",
       "12044  norwich city  2021       20  \n",
       "12045  norwich city  2021       20  \n",
       "12046  norwich city  2021       20  "
      ]
     },
     "execution_count": 107,
     "metadata": {},
     "output_type": "execute_result"
    }
   ],
   "source": [
    "#Vamos juntar as duas tabelas\n",
    "dados_elenco_merge= dados_elenco_select.merge(dados_classificacao[['time','posicao','ano']],\n",
    "                                              left_on=['TIME','ANO'], right_on=['time','ano'],\n",
    "                                              how='inner').drop(columns=['time','ano'])\n",
    "\n",
    "dados_elenco_merge.tail()\n"
   ]
  },
  {
   "cell_type": "code",
   "execution_count": 108,
   "metadata": {},
   "outputs": [],
   "source": [
    "dados_elenco_merge.rename(columns={'POS':\"posicao_jogador\", 'ALT':\"altura_jogador\", 'POSICAO':\"peso_jogador\", 'posicao':\"classificacao_time\"}, inplace=True)\n"
   ]
  },
  {
   "cell_type": "code",
   "execution_count": 109,
   "metadata": {},
   "outputs": [
    {
     "data": {
      "text/html": [
       "<div>\n",
       "<style scoped>\n",
       "    .dataframe tbody tr th:only-of-type {\n",
       "        vertical-align: middle;\n",
       "    }\n",
       "\n",
       "    .dataframe tbody tr th {\n",
       "        vertical-align: top;\n",
       "    }\n",
       "\n",
       "    .dataframe thead th {\n",
       "        text-align: right;\n",
       "    }\n",
       "</style>\n",
       "<table border=\"1\" class=\"dataframe\">\n",
       "  <thead>\n",
       "    <tr style=\"text-align: right;\">\n",
       "      <th></th>\n",
       "      <th>NOME</th>\n",
       "      <th>posicao_jogador</th>\n",
       "      <th>IDADE</th>\n",
       "      <th>altura_jogador</th>\n",
       "      <th>peso_jogador</th>\n",
       "      <th>NACIONALIDADE</th>\n",
       "      <th>TIME</th>\n",
       "      <th>ANO</th>\n",
       "      <th>classificacao_time</th>\n",
       "    </tr>\n",
       "  </thead>\n",
       "  <tbody>\n",
       "    <tr>\n",
       "      <th>0</th>\n",
       "      <td>Manuel Almunia</td>\n",
       "      <td>G</td>\n",
       "      <td>44.0</td>\n",
       "      <td>1.91</td>\n",
       "      <td>86.0</td>\n",
       "      <td>Espanha</td>\n",
       "      <td>arsenal</td>\n",
       "      <td>2003</td>\n",
       "      <td>1</td>\n",
       "    </tr>\n",
       "    <tr>\n",
       "      <th>1</th>\n",
       "      <td>Mark Howard</td>\n",
       "      <td>G</td>\n",
       "      <td>35.0</td>\n",
       "      <td>1.83</td>\n",
       "      <td>76.0</td>\n",
       "      <td>Inglaterra</td>\n",
       "      <td>arsenal</td>\n",
       "      <td>2003</td>\n",
       "      <td>1</td>\n",
       "    </tr>\n",
       "    <tr>\n",
       "      <th>2</th>\n",
       "      <td>Jens Lehmann1</td>\n",
       "      <td>G</td>\n",
       "      <td>51.0</td>\n",
       "      <td>1.91</td>\n",
       "      <td>87.0</td>\n",
       "      <td>Alemanha</td>\n",
       "      <td>arsenal</td>\n",
       "      <td>2003</td>\n",
       "      <td>1</td>\n",
       "    </tr>\n",
       "    <tr>\n",
       "      <th>3</th>\n",
       "      <td>Stuart Taylor13</td>\n",
       "      <td>G</td>\n",
       "      <td>40.0</td>\n",
       "      <td>1.96</td>\n",
       "      <td>79.0</td>\n",
       "      <td>Inglaterra</td>\n",
       "      <td>arsenal</td>\n",
       "      <td>2003</td>\n",
       "      <td>1</td>\n",
       "    </tr>\n",
       "    <tr>\n",
       "      <th>4</th>\n",
       "      <td>Ryan Garry</td>\n",
       "      <td>D</td>\n",
       "      <td>38.0</td>\n",
       "      <td>1.88</td>\n",
       "      <td>82.0</td>\n",
       "      <td>Inglaterra</td>\n",
       "      <td>arsenal</td>\n",
       "      <td>2003</td>\n",
       "      <td>1</td>\n",
       "    </tr>\n",
       "  </tbody>\n",
       "</table>\n",
       "</div>"
      ],
      "text/plain": [
       "              NOME posicao_jogador  IDADE  altura_jogador  peso_jogador  \\\n",
       "0   Manuel Almunia               G   44.0            1.91          86.0   \n",
       "1      Mark Howard               G   35.0            1.83          76.0   \n",
       "2    Jens Lehmann1               G   51.0            1.91          87.0   \n",
       "3  Stuart Taylor13               G   40.0            1.96          79.0   \n",
       "4       Ryan Garry               D   38.0            1.88          82.0   \n",
       "\n",
       "  NACIONALIDADE     TIME   ANO  classificacao_time  \n",
       "0       Espanha  arsenal  2003                   1  \n",
       "1    Inglaterra  arsenal  2003                   1  \n",
       "2      Alemanha  arsenal  2003                   1  \n",
       "3    Inglaterra  arsenal  2003                   1  \n",
       "4    Inglaterra  arsenal  2003                   1  "
      ]
     },
     "execution_count": 109,
     "metadata": {},
     "output_type": "execute_result"
    }
   ],
   "source": [
    "dados_elenco_merge.head()"
   ]
  },
  {
   "cell_type": "code",
   "execution_count": 110,
   "metadata": {},
   "outputs": [
    {
     "data": {
      "text/html": [
       "<div>\n",
       "<style scoped>\n",
       "    .dataframe tbody tr th:only-of-type {\n",
       "        vertical-align: middle;\n",
       "    }\n",
       "\n",
       "    .dataframe tbody tr th {\n",
       "        vertical-align: top;\n",
       "    }\n",
       "\n",
       "    .dataframe thead th {\n",
       "        text-align: right;\n",
       "    }\n",
       "</style>\n",
       "<table border=\"1\" class=\"dataframe\">\n",
       "  <thead>\n",
       "    <tr style=\"text-align: right;\">\n",
       "      <th></th>\n",
       "      <th>nome</th>\n",
       "      <th>posicao_jogador</th>\n",
       "      <th>idade</th>\n",
       "      <th>altura_jogador</th>\n",
       "      <th>peso_jogador</th>\n",
       "      <th>nacionalidade</th>\n",
       "      <th>time</th>\n",
       "      <th>ano</th>\n",
       "      <th>classificacao_time</th>\n",
       "    </tr>\n",
       "  </thead>\n",
       "  <tbody>\n",
       "    <tr>\n",
       "      <th>0</th>\n",
       "      <td>Manuel Almunia</td>\n",
       "      <td>G</td>\n",
       "      <td>44.0</td>\n",
       "      <td>1.91</td>\n",
       "      <td>86.0</td>\n",
       "      <td>Espanha</td>\n",
       "      <td>arsenal</td>\n",
       "      <td>2003</td>\n",
       "      <td>1</td>\n",
       "    </tr>\n",
       "    <tr>\n",
       "      <th>1</th>\n",
       "      <td>Mark Howard</td>\n",
       "      <td>G</td>\n",
       "      <td>35.0</td>\n",
       "      <td>1.83</td>\n",
       "      <td>76.0</td>\n",
       "      <td>Inglaterra</td>\n",
       "      <td>arsenal</td>\n",
       "      <td>2003</td>\n",
       "      <td>1</td>\n",
       "    </tr>\n",
       "    <tr>\n",
       "      <th>2</th>\n",
       "      <td>Jens Lehmann1</td>\n",
       "      <td>G</td>\n",
       "      <td>51.0</td>\n",
       "      <td>1.91</td>\n",
       "      <td>87.0</td>\n",
       "      <td>Alemanha</td>\n",
       "      <td>arsenal</td>\n",
       "      <td>2003</td>\n",
       "      <td>1</td>\n",
       "    </tr>\n",
       "    <tr>\n",
       "      <th>3</th>\n",
       "      <td>Stuart Taylor13</td>\n",
       "      <td>G</td>\n",
       "      <td>40.0</td>\n",
       "      <td>1.96</td>\n",
       "      <td>79.0</td>\n",
       "      <td>Inglaterra</td>\n",
       "      <td>arsenal</td>\n",
       "      <td>2003</td>\n",
       "      <td>1</td>\n",
       "    </tr>\n",
       "    <tr>\n",
       "      <th>4</th>\n",
       "      <td>Ryan Garry</td>\n",
       "      <td>D</td>\n",
       "      <td>38.0</td>\n",
       "      <td>1.88</td>\n",
       "      <td>82.0</td>\n",
       "      <td>Inglaterra</td>\n",
       "      <td>arsenal</td>\n",
       "      <td>2003</td>\n",
       "      <td>1</td>\n",
       "    </tr>\n",
       "  </tbody>\n",
       "</table>\n",
       "</div>"
      ],
      "text/plain": [
       "              nome posicao_jogador  idade  altura_jogador  peso_jogador  \\\n",
       "0   Manuel Almunia               G   44.0            1.91          86.0   \n",
       "1      Mark Howard               G   35.0            1.83          76.0   \n",
       "2    Jens Lehmann1               G   51.0            1.91          87.0   \n",
       "3  Stuart Taylor13               G   40.0            1.96          79.0   \n",
       "4       Ryan Garry               D   38.0            1.88          82.0   \n",
       "\n",
       "  nacionalidade     time   ano  classificacao_time  \n",
       "0       Espanha  arsenal  2003                   1  \n",
       "1    Inglaterra  arsenal  2003                   1  \n",
       "2      Alemanha  arsenal  2003                   1  \n",
       "3    Inglaterra  arsenal  2003                   1  \n",
       "4    Inglaterra  arsenal  2003                   1  "
      ]
     },
     "execution_count": 110,
     "metadata": {},
     "output_type": "execute_result"
    }
   ],
   "source": [
    "#Padronizando os nomes das colunas para minuscula\n",
    "dados_elenco_merge.columns = dados_elenco_merge.columns.str.lower()\n",
    "\n",
    "dados_elenco_merge.head()"
   ]
  },
  {
   "cell_type": "code",
   "execution_count": 111,
   "metadata": {},
   "outputs": [],
   "source": [
    "# Salavaando os dados finais\n",
    "dados_elenco_merge.to_csv('dados_elenco_merge.csv', index=False)"
   ]
  },
  {
   "cell_type": "markdown",
   "metadata": {},
   "source": [
    "# Feature Engineer"
   ]
  },
  {
   "cell_type": "code",
   "execution_count": 112,
   "metadata": {},
   "outputs": [
    {
     "data": {
      "text/html": [
       "<div>\n",
       "<style scoped>\n",
       "    .dataframe tbody tr th:only-of-type {\n",
       "        vertical-align: middle;\n",
       "    }\n",
       "\n",
       "    .dataframe tbody tr th {\n",
       "        vertical-align: top;\n",
       "    }\n",
       "\n",
       "    .dataframe thead th {\n",
       "        text-align: right;\n",
       "    }\n",
       "</style>\n",
       "<table border=\"1\" class=\"dataframe\">\n",
       "  <thead>\n",
       "    <tr style=\"text-align: right;\">\n",
       "      <th></th>\n",
       "      <th>ano</th>\n",
       "      <th>classificacao_time</th>\n",
       "      <th>idade</th>\n",
       "      <th>altura_jogador</th>\n",
       "      <th>peso_jogador</th>\n",
       "    </tr>\n",
       "  </thead>\n",
       "  <tbody>\n",
       "    <tr>\n",
       "      <th>0</th>\n",
       "      <td>2003</td>\n",
       "      <td>1</td>\n",
       "      <td>40.515152</td>\n",
       "      <td>1.831212</td>\n",
       "      <td>74.848485</td>\n",
       "    </tr>\n",
       "    <tr>\n",
       "      <th>1</th>\n",
       "      <td>2003</td>\n",
       "      <td>2</td>\n",
       "      <td>43.129032</td>\n",
       "      <td>1.815806</td>\n",
       "      <td>76.709677</td>\n",
       "    </tr>\n",
       "    <tr>\n",
       "      <th>2</th>\n",
       "      <td>2003</td>\n",
       "      <td>3</td>\n",
       "      <td>40.000000</td>\n",
       "      <td>1.813590</td>\n",
       "      <td>78.256410</td>\n",
       "    </tr>\n",
       "    <tr>\n",
       "      <th>3</th>\n",
       "      <td>2003</td>\n",
       "      <td>4</td>\n",
       "      <td>40.605263</td>\n",
       "      <td>1.828684</td>\n",
       "      <td>75.540541</td>\n",
       "    </tr>\n",
       "    <tr>\n",
       "      <th>4</th>\n",
       "      <td>2003</td>\n",
       "      <td>5</td>\n",
       "      <td>41.000000</td>\n",
       "      <td>1.799615</td>\n",
       "      <td>74.000000</td>\n",
       "    </tr>\n",
       "  </tbody>\n",
       "</table>\n",
       "</div>"
      ],
      "text/plain": [
       "    ano  classificacao_time      idade  altura_jogador  peso_jogador\n",
       "0  2003                   1  40.515152        1.831212     74.848485\n",
       "1  2003                   2  43.129032        1.815806     76.709677\n",
       "2  2003                   3  40.000000        1.813590     78.256410\n",
       "3  2003                   4  40.605263        1.828684     75.540541\n",
       "4  2003                   5  41.000000        1.799615     74.000000"
      ]
     },
     "execution_count": 112,
     "metadata": {},
     "output_type": "execute_result"
    }
   ],
   "source": [
    "#Calculando media por ano e classificacao do time\n",
    "\n",
    "media_classificacao_time=dados_elenco_merge.groupby(['ano','classificacao_time']).agg({'idade':'mean','altura_jogador':'mean', 'peso_jogador':'mean'}).reset_index()\n",
    "\n",
    "media_classificacao_time.head()"
   ]
  },
  {
   "cell_type": "markdown",
   "metadata": {},
   "source": [
    "# Exploração de Dados"
   ]
  },
  {
   "cell_type": "code",
   "execution_count": 113,
   "metadata": {},
   "outputs": [
    {
     "data": {
      "text/html": [
       "<div>\n",
       "<style scoped>\n",
       "    .dataframe tbody tr th:only-of-type {\n",
       "        vertical-align: middle;\n",
       "    }\n",
       "\n",
       "    .dataframe tbody tr th {\n",
       "        vertical-align: top;\n",
       "    }\n",
       "\n",
       "    .dataframe thead th {\n",
       "        text-align: right;\n",
       "    }\n",
       "</style>\n",
       "<table border=\"1\" class=\"dataframe\">\n",
       "  <thead>\n",
       "    <tr style=\"text-align: right;\">\n",
       "      <th></th>\n",
       "      <th>ano</th>\n",
       "      <th>classificacao_time</th>\n",
       "      <th>idade</th>\n",
       "      <th>altura_jogador</th>\n",
       "      <th>peso_jogador</th>\n",
       "    </tr>\n",
       "  </thead>\n",
       "  <tbody>\n",
       "    <tr>\n",
       "      <th>375</th>\n",
       "      <td>2021</td>\n",
       "      <td>16</td>\n",
       "      <td>26.032258</td>\n",
       "      <td>1.841600</td>\n",
       "      <td>77.280000</td>\n",
       "    </tr>\n",
       "    <tr>\n",
       "      <th>376</th>\n",
       "      <td>2021</td>\n",
       "      <td>17</td>\n",
       "      <td>26.892857</td>\n",
       "      <td>1.821154</td>\n",
       "      <td>76.884615</td>\n",
       "    </tr>\n",
       "    <tr>\n",
       "      <th>377</th>\n",
       "      <td>2021</td>\n",
       "      <td>18</td>\n",
       "      <td>27.285714</td>\n",
       "      <td>1.830000</td>\n",
       "      <td>74.960000</td>\n",
       "    </tr>\n",
       "    <tr>\n",
       "      <th>378</th>\n",
       "      <td>2021</td>\n",
       "      <td>19</td>\n",
       "      <td>28.370370</td>\n",
       "      <td>1.826667</td>\n",
       "      <td>74.826087</td>\n",
       "    </tr>\n",
       "    <tr>\n",
       "      <th>379</th>\n",
       "      <td>2021</td>\n",
       "      <td>20</td>\n",
       "      <td>25.074074</td>\n",
       "      <td>1.821250</td>\n",
       "      <td>74.086957</td>\n",
       "    </tr>\n",
       "  </tbody>\n",
       "</table>\n",
       "</div>"
      ],
      "text/plain": [
       "      ano  classificacao_time      idade  altura_jogador  peso_jogador\n",
       "375  2021                  16  26.032258        1.841600     77.280000\n",
       "376  2021                  17  26.892857        1.821154     76.884615\n",
       "377  2021                  18  27.285714        1.830000     74.960000\n",
       "378  2021                  19  28.370370        1.826667     74.826087\n",
       "379  2021                  20  25.074074        1.821250     74.086957"
      ]
     },
     "execution_count": 113,
     "metadata": {},
     "output_type": "execute_result"
    }
   ],
   "source": [
    "media_classificacao_time.tail()"
   ]
  },
  {
   "cell_type": "code",
   "execution_count": 114,
   "metadata": {},
   "outputs": [
    {
     "data": {
      "text/plain": [
       "ano                   0\n",
       "classificacao_time    0\n",
       "idade                 0\n",
       "altura_jogador        0\n",
       "peso_jogador          0\n",
       "dtype: int64"
      ]
     },
     "execution_count": 114,
     "metadata": {},
     "output_type": "execute_result"
    }
   ],
   "source": [
    "#verificar valores nulos nos dados\n",
    "media_classificacao_time.isnull().sum()"
   ]
  },
  {
   "cell_type": "code",
   "execution_count": 115,
   "metadata": {},
   "outputs": [
    {
     "data": {
      "text/plain": [
       "<Axes: title={'center': 'peso_jogador'}, xlabel='classificacao_time2', ylabel='peso_jogador'>"
      ]
     },
     "execution_count": 115,
     "metadata": {},
     "output_type": "execute_result"
    }
   ],
   "source": [
    "#Mostrar garficamente os dados\n",
    "media_classificacao_time.drop(columns=['classificacao_time','ano']).boxplot(figsize=(16,5))"
   ]
  },
  {
   "cell_type": "code",
   "execution_count": 116,
   "metadata": {},
   "outputs": [],
   "source": [
    "fig, axs = plt.subplots(3, 1, figsize=(20, 10), sharey=False)\n",
    "fig.subplots_adjust(hspace=.7, wspace=0.2)\n",
    "i=0\n",
    "for j,c in enumerate(media_classificacao_time.columns):\n",
    "    if c not in ['classificacao_time','ano']:\n",
    "        sns.boxplot(x='classificacao_time', y=c,data=media_classificacao_time, ax=axs[i])\n",
    "        axs[i].set_title(c)\n",
    "        i+=1"
   ]
  },
  {
   "cell_type": "code",
   "execution_count": 117,
   "metadata": {},
   "outputs": [
    {
     "data": {
      "text/plain": [
       "<Axes: title={'center': 'peso_jogador'}>"
      ]
     },
     "execution_count": 117,
     "metadata": {},
     "output_type": "execute_result"
    }
   ],
   "source": [
    "#Matriz correlação\n",
    "correlacao = media_classificacao_time.corr()\n",
    "sns.heatmap(correlacao, annot=True, cmap='coolwarm')\n",
    "\n"
   ]
  },
  {
   "cell_type": "markdown",
   "metadata": {},
   "source": [
    "# Modelagem"
   ]
  },
  {
   "cell_type": "code",
   "execution_count": 118,
   "metadata": {},
   "outputs": [],
   "source": [
    "#Dividindo em dados de tyreino e teste\n",
    "X = media_classificacao_time.drop(columns=['ano','classificacao_time'])\n",
    "y = media_classificacao_time.classificacao_time\n",
    "\n",
    "X_train, X_test, y_train, y_test = train_test_split(X, y, test_size=0.3, random_state=42)"
   ]
  },
  {
   "cell_type": "code",
   "execution_count": 119,
   "metadata": {},
   "outputs": [
    {
     "name": "stdout",
     "output_type": "stream",
     "text": [
      "         idade  altura_jogador  peso_jogador\n",
      "266  30.666667        1.819615     75.384615\n",
      "261  27.935484        1.818667     76.700000\n",
      "265  28.969697        1.832188     74.750000\n",
      "39   41.029412        1.829143     76.228571\n",
      "33   41.346154        1.796154     74.769231\n",
      "..         ...             ...           ...\n",
      "137  33.103448        1.817037     74.769231\n",
      "332  26.939394        1.819286     77.629630\n",
      "351  27.433333        1.811786     76.444444\n",
      "310  30.076923        1.846923     78.076923\n",
      "167  34.258065        1.824516     76.193548\n",
      "\n",
      "[114 rows x 3 columns]\n"
     ]
    }
   ],
   "source": [
    "print(X_test)"
   ]
  },
  {
   "cell_type": "code",
   "execution_count": 120,
   "metadata": {},
   "outputs": [
    {
     "name": "stdout",
     "output_type": "stream",
     "text": [
      "         idade  altura_jogador  peso_jogador\n",
      "334  25.860465        1.818571     76.129032\n",
      "341  25.468750        1.824688     74.928571\n",
      "375  26.032258        1.841600     77.280000\n",
      "289  29.708333        1.828750     79.125000\n",
      "223  32.208333        1.829167     74.708333\n",
      "..         ...             ...           ...\n",
      "71   37.027027        1.830278     76.500000\n",
      "106  39.000000        1.834688     77.937500\n",
      "270  29.636364        1.831290     76.677419\n",
      "348  25.000000        1.799259     72.238095\n",
      "102  36.775000        1.827500     76.875000\n",
      "\n",
      "[266 rows x 3 columns]\n"
     ]
    }
   ],
   "source": [
    "print(X_train)"
   ]
  },
  {
   "cell_type": "code",
   "execution_count": 121,
   "metadata": {},
   "outputs": [
    {
     "name": "stdout",
     "output_type": "stream",
     "text": [
      "266     7\n",
      "261     2\n",
      "265     6\n",
      "39     20\n",
      "33     14\n",
      "       ..\n",
      "137    18\n",
      "332    13\n",
      "351    12\n",
      "310    11\n",
      "167     8\n",
      "Name: classificacao_time, Length: 114, dtype: int64\n"
     ]
    }
   ],
   "source": [
    "print(y_test)"
   ]
  },
  {
   "cell_type": "code",
   "execution_count": 122,
   "metadata": {},
   "outputs": [
    {
     "name": "stdout",
     "output_type": "stream",
     "text": [
      "334    15\n",
      "341     2\n",
      "375    16\n",
      "289    10\n",
      "223     4\n",
      "       ..\n",
      "71     12\n",
      "106     7\n",
      "270    11\n",
      "348     9\n",
      "102     3\n",
      "Name: classificacao_time, Length: 266, dtype: int64\n"
     ]
    }
   ],
   "source": [
    "print(y_train)"
   ]
  },
  {
   "cell_type": "markdown",
   "metadata": {},
   "source": [
    "### Normalização"
   ]
  },
  {
   "cell_type": "code",
   "execution_count": 123,
   "metadata": {},
   "outputs": [],
   "source": [
    "scaler = MinMaxScaler()\n",
    "X_train_scaler = scaler.fit_transform(X_train)\n",
    "X_test_scaler = scaler.transform(X_test)\n",
    "X_train_scaler = pd.DataFrame(X_train_scaler, columns=X_train.columns)\n",
    "X_test_scaler = pd.DataFrame(X_test_scaler, columns=X_test.columns)"
   ]
  },
  {
   "cell_type": "code",
   "execution_count": 124,
   "metadata": {},
   "outputs": [
    {
     "data": {
      "text/html": [
       "<div>\n",
       "<style scoped>\n",
       "    .dataframe tbody tr th:only-of-type {\n",
       "        vertical-align: middle;\n",
       "    }\n",
       "\n",
       "    .dataframe tbody tr th {\n",
       "        vertical-align: top;\n",
       "    }\n",
       "\n",
       "    .dataframe thead th {\n",
       "        text-align: right;\n",
       "    }\n",
       "</style>\n",
       "<table border=\"1\" class=\"dataframe\">\n",
       "  <thead>\n",
       "    <tr style=\"text-align: right;\">\n",
       "      <th></th>\n",
       "      <th>idade</th>\n",
       "      <th>altura_jogador</th>\n",
       "      <th>peso_jogador</th>\n",
       "    </tr>\n",
       "  </thead>\n",
       "  <tbody>\n",
       "    <tr>\n",
       "      <th>0</th>\n",
       "      <td>0.350679</td>\n",
       "      <td>0.590259</td>\n",
       "      <td>0.297912</td>\n",
       "    </tr>\n",
       "    <tr>\n",
       "      <th>1</th>\n",
       "      <td>0.220917</td>\n",
       "      <td>0.581892</td>\n",
       "      <td>0.422453</td>\n",
       "    </tr>\n",
       "    <tr>\n",
       "      <th>2</th>\n",
       "      <td>0.270053</td>\n",
       "      <td>0.701145</td>\n",
       "      <td>0.237827</td>\n",
       "    </tr>\n",
       "    <tr>\n",
       "      <th>3</th>\n",
       "      <td>0.843026</td>\n",
       "      <td>0.674291</td>\n",
       "      <td>0.377818</td>\n",
       "    </tr>\n",
       "    <tr>\n",
       "      <th>4</th>\n",
       "      <td>0.858075</td>\n",
       "      <td>0.383329</td>\n",
       "      <td>0.239648</td>\n",
       "    </tr>\n",
       "  </tbody>\n",
       "</table>\n",
       "</div>"
      ],
      "text/plain": [
       "      idade  altura_jogador  peso_jogador\n",
       "0  0.350679        0.590259      0.297912\n",
       "1  0.220917        0.581892      0.422453\n",
       "2  0.270053        0.701145      0.237827\n",
       "3  0.843026        0.674291      0.377818\n",
       "4  0.858075        0.383329      0.239648"
      ]
     },
     "execution_count": 124,
     "metadata": {},
     "output_type": "execute_result"
    }
   ],
   "source": [
    "X_test_scaler.head()\n"
   ]
  },
  {
   "cell_type": "code",
   "execution_count": 125,
   "metadata": {},
   "outputs": [
    {
     "name": "stdout",
     "output_type": "stream",
     "text": [
      "         idade  altura_jogador  peso_jogador\n",
      "266  30.666667        1.819615     75.384615\n",
      "261  27.935484        1.818667     76.700000\n",
      "265  28.969697        1.832188     74.750000\n",
      "39   41.029412        1.829143     76.228571\n",
      "33   41.346154        1.796154     74.769231\n",
      "..         ...             ...           ...\n",
      "137  33.103448        1.817037     74.769231\n",
      "332  26.939394        1.819286     77.629630\n",
      "351  27.433333        1.811786     76.444444\n",
      "310  30.076923        1.846923     78.076923\n",
      "167  34.258065        1.824516     76.193548\n",
      "\n",
      "[114 rows x 3 columns]\n"
     ]
    }
   ],
   "source": [
    "print(X_test)"
   ]
  },
  {
   "cell_type": "markdown",
   "metadata": {},
   "source": [
    "Modelo de Regressão Lógistica"
   ]
  },
  {
   "cell_type": "code",
   "execution_count": 126,
   "metadata": {},
   "outputs": [
    {
     "data": {
      "text/html": [
       "<style>#sk-container-id-5 {color: black;}#sk-container-id-5 pre{padding: 0;}#sk-container-id-5 div.sk-toggleable {background-color: white;}#sk-container-id-5 label.sk-toggleable__label {cursor: pointer;display: block;width: 100%;margin-bottom: 0;padding: 0.3em;box-sizing: border-box;text-align: center;}#sk-container-id-5 label.sk-toggleable__label-arrow:before {content: \"▸\";float: left;margin-right: 0.25em;color: #696969;}#sk-container-id-5 label.sk-toggleable__label-arrow:hover:before {color: black;}#sk-container-id-5 div.sk-estimator:hover label.sk-toggleable__label-arrow:before {color: black;}#sk-container-id-5 div.sk-toggleable__content {max-height: 0;max-width: 0;overflow: hidden;text-align: left;background-color: #f0f8ff;}#sk-container-id-5 div.sk-toggleable__content pre {margin: 0.2em;color: black;border-radius: 0.25em;background-color: #f0f8ff;}#sk-container-id-5 input.sk-toggleable__control:checked~div.sk-toggleable__content {max-height: 200px;max-width: 100%;overflow: auto;}#sk-container-id-5 input.sk-toggleable__control:checked~label.sk-toggleable__label-arrow:before {content: \"▾\";}#sk-container-id-5 div.sk-estimator input.sk-toggleable__control:checked~label.sk-toggleable__label {background-color: #d4ebff;}#sk-container-id-5 div.sk-label input.sk-toggleable__control:checked~label.sk-toggleable__label {background-color: #d4ebff;}#sk-container-id-5 input.sk-hidden--visually {border: 0;clip: rect(1px 1px 1px 1px);clip: rect(1px, 1px, 1px, 1px);height: 1px;margin: -1px;overflow: hidden;padding: 0;position: absolute;width: 1px;}#sk-container-id-5 div.sk-estimator {font-family: monospace;background-color: #f0f8ff;border: 1px dotted black;border-radius: 0.25em;box-sizing: border-box;margin-bottom: 0.5em;}#sk-container-id-5 div.sk-estimator:hover {background-color: #d4ebff;}#sk-container-id-5 div.sk-parallel-item::after {content: \"\";width: 100%;border-bottom: 1px solid gray;flex-grow: 1;}#sk-container-id-5 div.sk-label:hover label.sk-toggleable__label {background-color: #d4ebff;}#sk-container-id-5 div.sk-serial::before {content: \"\";position: absolute;border-left: 1px solid gray;box-sizing: border-box;top: 0;bottom: 0;left: 50%;z-index: 0;}#sk-container-id-5 div.sk-serial {display: flex;flex-direction: column;align-items: center;background-color: white;padding-right: 0.2em;padding-left: 0.2em;position: relative;}#sk-container-id-5 div.sk-item {position: relative;z-index: 1;}#sk-container-id-5 div.sk-parallel {display: flex;align-items: stretch;justify-content: center;background-color: white;position: relative;}#sk-container-id-5 div.sk-item::before, #sk-container-id-5 div.sk-parallel-item::before {content: \"\";position: absolute;border-left: 1px solid gray;box-sizing: border-box;top: 0;bottom: 0;left: 50%;z-index: -1;}#sk-container-id-5 div.sk-parallel-item {display: flex;flex-direction: column;z-index: 1;position: relative;background-color: white;}#sk-container-id-5 div.sk-parallel-item:first-child::after {align-self: flex-end;width: 50%;}#sk-container-id-5 div.sk-parallel-item:last-child::after {align-self: flex-start;width: 50%;}#sk-container-id-5 div.sk-parallel-item:only-child::after {width: 0;}#sk-container-id-5 div.sk-dashed-wrapped {border: 1px dashed gray;margin: 0 0.4em 0.5em 0.4em;box-sizing: border-box;padding-bottom: 0.4em;background-color: white;}#sk-container-id-5 div.sk-label label {font-family: monospace;font-weight: bold;display: inline-block;line-height: 1.2em;}#sk-container-id-5 div.sk-label-container {text-align: center;}#sk-container-id-5 div.sk-container {/* jupyter's `normalize.less` sets `[hidden] { display: none; }` but bootstrap.min.css set `[hidden] { display: none !important; }` so we also need the `!important` here to be able to override the default hidden behavior on the sphinx rendered scikit-learn.org. See: https://github.com/scikit-learn/scikit-learn/issues/21755 */display: inline-block !important;position: relative;}#sk-container-id-5 div.sk-text-repr-fallback {display: none;}</style><div id=\"sk-container-id-5\" class=\"sk-top-container\"><div class=\"sk-text-repr-fallback\"><pre>LogisticRegression(random_state=0)</pre><b>In a Jupyter environment, please rerun this cell to show the HTML representation or trust the notebook. <br />On GitHub, the HTML representation is unable to render, please try loading this page with nbviewer.org.</b></div><div class=\"sk-container\" hidden><div class=\"sk-item\"><div class=\"sk-estimator sk-toggleable\"><input class=\"sk-toggleable__control sk-hidden--visually\" id=\"sk-estimator-id-5\" type=\"checkbox\" checked><label for=\"sk-estimator-id-5\" class=\"sk-toggleable__label sk-toggleable__label-arrow\">LogisticRegression</label><div class=\"sk-toggleable__content\"><pre>LogisticRegression(random_state=0)</pre></div></div></div></div></div>"
      ],
      "text/plain": [
       "LogisticRegression(random_state=0)"
      ]
     },
     "execution_count": 126,
     "metadata": {},
     "output_type": "execute_result"
    }
   ],
   "source": [
    "#Regresão Logistica\n",
    "modelo_LR = LogisticRegression(random_state=0)\n",
    "modelo_LR.fit(X_train_scaler, y_train)"
   ]
  },
  {
   "cell_type": "markdown",
   "metadata": {},
   "source": [
    "##### Avaliando o modelo"
   ]
  },
  {
   "cell_type": "code",
   "execution_count": 127,
   "metadata": {},
   "outputs": [
    {
     "data": {
      "text/plain": [
       "0.02631578947368421"
      ]
     },
     "execution_count": 127,
     "metadata": {},
     "output_type": "execute_result"
    }
   ],
   "source": [
    "modelo_LR.score(X_test_scaler, y_test)"
   ]
  },
  {
   "cell_type": "code",
   "execution_count": 128,
   "metadata": {},
   "outputs": [
    {
     "data": {
      "text/html": [
       "<style>#sk-container-id-6 {color: black;}#sk-container-id-6 pre{padding: 0;}#sk-container-id-6 div.sk-toggleable {background-color: white;}#sk-container-id-6 label.sk-toggleable__label {cursor: pointer;display: block;width: 100%;margin-bottom: 0;padding: 0.3em;box-sizing: border-box;text-align: center;}#sk-container-id-6 label.sk-toggleable__label-arrow:before {content: \"▸\";float: left;margin-right: 0.25em;color: #696969;}#sk-container-id-6 label.sk-toggleable__label-arrow:hover:before {color: black;}#sk-container-id-6 div.sk-estimator:hover label.sk-toggleable__label-arrow:before {color: black;}#sk-container-id-6 div.sk-toggleable__content {max-height: 0;max-width: 0;overflow: hidden;text-align: left;background-color: #f0f8ff;}#sk-container-id-6 div.sk-toggleable__content pre {margin: 0.2em;color: black;border-radius: 0.25em;background-color: #f0f8ff;}#sk-container-id-6 input.sk-toggleable__control:checked~div.sk-toggleable__content {max-height: 200px;max-width: 100%;overflow: auto;}#sk-container-id-6 input.sk-toggleable__control:checked~label.sk-toggleable__label-arrow:before {content: \"▾\";}#sk-container-id-6 div.sk-estimator input.sk-toggleable__control:checked~label.sk-toggleable__label {background-color: #d4ebff;}#sk-container-id-6 div.sk-label input.sk-toggleable__control:checked~label.sk-toggleable__label {background-color: #d4ebff;}#sk-container-id-6 input.sk-hidden--visually {border: 0;clip: rect(1px 1px 1px 1px);clip: rect(1px, 1px, 1px, 1px);height: 1px;margin: -1px;overflow: hidden;padding: 0;position: absolute;width: 1px;}#sk-container-id-6 div.sk-estimator {font-family: monospace;background-color: #f0f8ff;border: 1px dotted black;border-radius: 0.25em;box-sizing: border-box;margin-bottom: 0.5em;}#sk-container-id-6 div.sk-estimator:hover {background-color: #d4ebff;}#sk-container-id-6 div.sk-parallel-item::after {content: \"\";width: 100%;border-bottom: 1px solid gray;flex-grow: 1;}#sk-container-id-6 div.sk-label:hover label.sk-toggleable__label {background-color: #d4ebff;}#sk-container-id-6 div.sk-serial::before {content: \"\";position: absolute;border-left: 1px solid gray;box-sizing: border-box;top: 0;bottom: 0;left: 50%;z-index: 0;}#sk-container-id-6 div.sk-serial {display: flex;flex-direction: column;align-items: center;background-color: white;padding-right: 0.2em;padding-left: 0.2em;position: relative;}#sk-container-id-6 div.sk-item {position: relative;z-index: 1;}#sk-container-id-6 div.sk-parallel {display: flex;align-items: stretch;justify-content: center;background-color: white;position: relative;}#sk-container-id-6 div.sk-item::before, #sk-container-id-6 div.sk-parallel-item::before {content: \"\";position: absolute;border-left: 1px solid gray;box-sizing: border-box;top: 0;bottom: 0;left: 50%;z-index: -1;}#sk-container-id-6 div.sk-parallel-item {display: flex;flex-direction: column;z-index: 1;position: relative;background-color: white;}#sk-container-id-6 div.sk-parallel-item:first-child::after {align-self: flex-end;width: 50%;}#sk-container-id-6 div.sk-parallel-item:last-child::after {align-self: flex-start;width: 50%;}#sk-container-id-6 div.sk-parallel-item:only-child::after {width: 0;}#sk-container-id-6 div.sk-dashed-wrapped {border: 1px dashed gray;margin: 0 0.4em 0.5em 0.4em;box-sizing: border-box;padding-bottom: 0.4em;background-color: white;}#sk-container-id-6 div.sk-label label {font-family: monospace;font-weight: bold;display: inline-block;line-height: 1.2em;}#sk-container-id-6 div.sk-label-container {text-align: center;}#sk-container-id-6 div.sk-container {/* jupyter's `normalize.less` sets `[hidden] { display: none; }` but bootstrap.min.css set `[hidden] { display: none !important; }` so we also need the `!important` here to be able to override the default hidden behavior on the sphinx rendered scikit-learn.org. See: https://github.com/scikit-learn/scikit-learn/issues/21755 */display: inline-block !important;position: relative;}#sk-container-id-6 div.sk-text-repr-fallback {display: none;}</style><div id=\"sk-container-id-6\" class=\"sk-top-container\"><div class=\"sk-text-repr-fallback\"><pre>DecisionTreeClassifier(random_state=0)</pre><b>In a Jupyter environment, please rerun this cell to show the HTML representation or trust the notebook. <br />On GitHub, the HTML representation is unable to render, please try loading this page with nbviewer.org.</b></div><div class=\"sk-container\" hidden><div class=\"sk-item\"><div class=\"sk-estimator sk-toggleable\"><input class=\"sk-toggleable__control sk-hidden--visually\" id=\"sk-estimator-id-6\" type=\"checkbox\" checked><label for=\"sk-estimator-id-6\" class=\"sk-toggleable__label sk-toggleable__label-arrow\">DecisionTreeClassifier</label><div class=\"sk-toggleable__content\"><pre>DecisionTreeClassifier(random_state=0)</pre></div></div></div></div></div>"
      ],
      "text/plain": [
       "DecisionTreeClassifier(random_state=0)"
      ]
     },
     "execution_count": 128,
     "metadata": {},
     "output_type": "execute_result"
    }
   ],
   "source": [
    "modelo_DT = DecisionTreeClassifier(random_state=0)\n",
    "modelo_DT.fit(X_train_scaler, y_train)"
   ]
  },
  {
   "cell_type": "code",
   "execution_count": 129,
   "metadata": {},
   "outputs": [
    {
     "data": {
      "text/plain": [
       "0.07017543859649122"
      ]
     },
     "execution_count": 129,
     "metadata": {},
     "output_type": "execute_result"
    }
   ],
   "source": [
    "#Avaliando o modelo\n",
    "modelo_DT.score(X_test_scaler, y_test)"
   ]
  },
  {
   "cell_type": "markdown",
   "metadata": {},
   "source": [
    "#Aplicar o modelo"
   ]
  },
  {
   "cell_type": "code",
   "execution_count": 130,
   "metadata": {},
   "outputs": [
    {
     "data": {
      "text/html": [
       "<style>#sk-container-id-7 {color: black;}#sk-container-id-7 pre{padding: 0;}#sk-container-id-7 div.sk-toggleable {background-color: white;}#sk-container-id-7 label.sk-toggleable__label {cursor: pointer;display: block;width: 100%;margin-bottom: 0;padding: 0.3em;box-sizing: border-box;text-align: center;}#sk-container-id-7 label.sk-toggleable__label-arrow:before {content: \"▸\";float: left;margin-right: 0.25em;color: #696969;}#sk-container-id-7 label.sk-toggleable__label-arrow:hover:before {color: black;}#sk-container-id-7 div.sk-estimator:hover label.sk-toggleable__label-arrow:before {color: black;}#sk-container-id-7 div.sk-toggleable__content {max-height: 0;max-width: 0;overflow: hidden;text-align: left;background-color: #f0f8ff;}#sk-container-id-7 div.sk-toggleable__content pre {margin: 0.2em;color: black;border-radius: 0.25em;background-color: #f0f8ff;}#sk-container-id-7 input.sk-toggleable__control:checked~div.sk-toggleable__content {max-height: 200px;max-width: 100%;overflow: auto;}#sk-container-id-7 input.sk-toggleable__control:checked~label.sk-toggleable__label-arrow:before {content: \"▾\";}#sk-container-id-7 div.sk-estimator input.sk-toggleable__control:checked~label.sk-toggleable__label {background-color: #d4ebff;}#sk-container-id-7 div.sk-label input.sk-toggleable__control:checked~label.sk-toggleable__label {background-color: #d4ebff;}#sk-container-id-7 input.sk-hidden--visually {border: 0;clip: rect(1px 1px 1px 1px);clip: rect(1px, 1px, 1px, 1px);height: 1px;margin: -1px;overflow: hidden;padding: 0;position: absolute;width: 1px;}#sk-container-id-7 div.sk-estimator {font-family: monospace;background-color: #f0f8ff;border: 1px dotted black;border-radius: 0.25em;box-sizing: border-box;margin-bottom: 0.5em;}#sk-container-id-7 div.sk-estimator:hover {background-color: #d4ebff;}#sk-container-id-7 div.sk-parallel-item::after {content: \"\";width: 100%;border-bottom: 1px solid gray;flex-grow: 1;}#sk-container-id-7 div.sk-label:hover label.sk-toggleable__label {background-color: #d4ebff;}#sk-container-id-7 div.sk-serial::before {content: \"\";position: absolute;border-left: 1px solid gray;box-sizing: border-box;top: 0;bottom: 0;left: 50%;z-index: 0;}#sk-container-id-7 div.sk-serial {display: flex;flex-direction: column;align-items: center;background-color: white;padding-right: 0.2em;padding-left: 0.2em;position: relative;}#sk-container-id-7 div.sk-item {position: relative;z-index: 1;}#sk-container-id-7 div.sk-parallel {display: flex;align-items: stretch;justify-content: center;background-color: white;position: relative;}#sk-container-id-7 div.sk-item::before, #sk-container-id-7 div.sk-parallel-item::before {content: \"\";position: absolute;border-left: 1px solid gray;box-sizing: border-box;top: 0;bottom: 0;left: 50%;z-index: -1;}#sk-container-id-7 div.sk-parallel-item {display: flex;flex-direction: column;z-index: 1;position: relative;background-color: white;}#sk-container-id-7 div.sk-parallel-item:first-child::after {align-self: flex-end;width: 50%;}#sk-container-id-7 div.sk-parallel-item:last-child::after {align-self: flex-start;width: 50%;}#sk-container-id-7 div.sk-parallel-item:only-child::after {width: 0;}#sk-container-id-7 div.sk-dashed-wrapped {border: 1px dashed gray;margin: 0 0.4em 0.5em 0.4em;box-sizing: border-box;padding-bottom: 0.4em;background-color: white;}#sk-container-id-7 div.sk-label label {font-family: monospace;font-weight: bold;display: inline-block;line-height: 1.2em;}#sk-container-id-7 div.sk-label-container {text-align: center;}#sk-container-id-7 div.sk-container {/* jupyter's `normalize.less` sets `[hidden] { display: none; }` but bootstrap.min.css set `[hidden] { display: none !important; }` so we also need the `!important` here to be able to override the default hidden behavior on the sphinx rendered scikit-learn.org. See: https://github.com/scikit-learn/scikit-learn/issues/21755 */display: inline-block !important;position: relative;}#sk-container-id-7 div.sk-text-repr-fallback {display: none;}</style><div id=\"sk-container-id-7\" class=\"sk-top-container\"><div class=\"sk-text-repr-fallback\"><pre>RandomForestClassifier(random_state=0)</pre><b>In a Jupyter environment, please rerun this cell to show the HTML representation or trust the notebook. <br />On GitHub, the HTML representation is unable to render, please try loading this page with nbviewer.org.</b></div><div class=\"sk-container\" hidden><div class=\"sk-item\"><div class=\"sk-estimator sk-toggleable\"><input class=\"sk-toggleable__control sk-hidden--visually\" id=\"sk-estimator-id-7\" type=\"checkbox\" checked><label for=\"sk-estimator-id-7\" class=\"sk-toggleable__label sk-toggleable__label-arrow\">RandomForestClassifier</label><div class=\"sk-toggleable__content\"><pre>RandomForestClassifier(random_state=0)</pre></div></div></div></div></div>"
      ],
      "text/plain": [
       "RandomForestClassifier(random_state=0)"
      ]
     },
     "execution_count": 130,
     "metadata": {},
     "output_type": "execute_result"
    }
   ],
   "source": [
    "modeloRF= RandomForestClassifier(n_estimators=100, random_state=0)\n",
    "modeloRF.fit(X_train_scaler, y_train)\n",
    "\n"
   ]
  },
  {
   "cell_type": "code",
   "execution_count": 131,
   "metadata": {},
   "outputs": [
    {
     "data": {
      "text/plain": [
       "0.07017543859649122"
      ]
     },
     "execution_count": 131,
     "metadata": {},
     "output_type": "execute_result"
    }
   ],
   "source": [
    "modeloRF.score(X_test_scaler, y_test)"
   ]
  },
  {
   "cell_type": "code",
   "execution_count": 132,
   "metadata": {},
   "outputs": [
    {
     "name": "stdout",
     "output_type": "stream",
     "text": [
      "Random Forest Accuracy: 0.07\n"
     ]
    }
   ],
   "source": [
    "#Testar o modelo\n",
    "from sklearn.metrics import accuracy_score\n",
    "teste_RF = modeloRF.predict(X_test_scaler)\n",
    "print(f\"Random Forest Accuracy: {accuracy_score(y_test, teste_RF):.2f}\")"
   ]
  },
  {
   "cell_type": "code",
   "execution_count": 133,
   "metadata": {},
   "outputs": [
    {
     "data": {
      "text/html": [
       "<style>#sk-container-id-8 {color: black;}#sk-container-id-8 pre{padding: 0;}#sk-container-id-8 div.sk-toggleable {background-color: white;}#sk-container-id-8 label.sk-toggleable__label {cursor: pointer;display: block;width: 100%;margin-bottom: 0;padding: 0.3em;box-sizing: border-box;text-align: center;}#sk-container-id-8 label.sk-toggleable__label-arrow:before {content: \"▸\";float: left;margin-right: 0.25em;color: #696969;}#sk-container-id-8 label.sk-toggleable__label-arrow:hover:before {color: black;}#sk-container-id-8 div.sk-estimator:hover label.sk-toggleable__label-arrow:before {color: black;}#sk-container-id-8 div.sk-toggleable__content {max-height: 0;max-width: 0;overflow: hidden;text-align: left;background-color: #f0f8ff;}#sk-container-id-8 div.sk-toggleable__content pre {margin: 0.2em;color: black;border-radius: 0.25em;background-color: #f0f8ff;}#sk-container-id-8 input.sk-toggleable__control:checked~div.sk-toggleable__content {max-height: 200px;max-width: 100%;overflow: auto;}#sk-container-id-8 input.sk-toggleable__control:checked~label.sk-toggleable__label-arrow:before {content: \"▾\";}#sk-container-id-8 div.sk-estimator input.sk-toggleable__control:checked~label.sk-toggleable__label {background-color: #d4ebff;}#sk-container-id-8 div.sk-label input.sk-toggleable__control:checked~label.sk-toggleable__label {background-color: #d4ebff;}#sk-container-id-8 input.sk-hidden--visually {border: 0;clip: rect(1px 1px 1px 1px);clip: rect(1px, 1px, 1px, 1px);height: 1px;margin: -1px;overflow: hidden;padding: 0;position: absolute;width: 1px;}#sk-container-id-8 div.sk-estimator {font-family: monospace;background-color: #f0f8ff;border: 1px dotted black;border-radius: 0.25em;box-sizing: border-box;margin-bottom: 0.5em;}#sk-container-id-8 div.sk-estimator:hover {background-color: #d4ebff;}#sk-container-id-8 div.sk-parallel-item::after {content: \"\";width: 100%;border-bottom: 1px solid gray;flex-grow: 1;}#sk-container-id-8 div.sk-label:hover label.sk-toggleable__label {background-color: #d4ebff;}#sk-container-id-8 div.sk-serial::before {content: \"\";position: absolute;border-left: 1px solid gray;box-sizing: border-box;top: 0;bottom: 0;left: 50%;z-index: 0;}#sk-container-id-8 div.sk-serial {display: flex;flex-direction: column;align-items: center;background-color: white;padding-right: 0.2em;padding-left: 0.2em;position: relative;}#sk-container-id-8 div.sk-item {position: relative;z-index: 1;}#sk-container-id-8 div.sk-parallel {display: flex;align-items: stretch;justify-content: center;background-color: white;position: relative;}#sk-container-id-8 div.sk-item::before, #sk-container-id-8 div.sk-parallel-item::before {content: \"\";position: absolute;border-left: 1px solid gray;box-sizing: border-box;top: 0;bottom: 0;left: 50%;z-index: -1;}#sk-container-id-8 div.sk-parallel-item {display: flex;flex-direction: column;z-index: 1;position: relative;background-color: white;}#sk-container-id-8 div.sk-parallel-item:first-child::after {align-self: flex-end;width: 50%;}#sk-container-id-8 div.sk-parallel-item:last-child::after {align-self: flex-start;width: 50%;}#sk-container-id-8 div.sk-parallel-item:only-child::after {width: 0;}#sk-container-id-8 div.sk-dashed-wrapped {border: 1px dashed gray;margin: 0 0.4em 0.5em 0.4em;box-sizing: border-box;padding-bottom: 0.4em;background-color: white;}#sk-container-id-8 div.sk-label label {font-family: monospace;font-weight: bold;display: inline-block;line-height: 1.2em;}#sk-container-id-8 div.sk-label-container {text-align: center;}#sk-container-id-8 div.sk-container {/* jupyter's `normalize.less` sets `[hidden] { display: none; }` but bootstrap.min.css set `[hidden] { display: none !important; }` so we also need the `!important` here to be able to override the default hidden behavior on the sphinx rendered scikit-learn.org. See: https://github.com/scikit-learn/scikit-learn/issues/21755 */display: inline-block !important;position: relative;}#sk-container-id-8 div.sk-text-repr-fallback {display: none;}</style><div id=\"sk-container-id-8\" class=\"sk-top-container\"><div class=\"sk-text-repr-fallback\"><pre>GradientBoostingClassifier(random_state=0)</pre><b>In a Jupyter environment, please rerun this cell to show the HTML representation or trust the notebook. <br />On GitHub, the HTML representation is unable to render, please try loading this page with nbviewer.org.</b></div><div class=\"sk-container\" hidden><div class=\"sk-item\"><div class=\"sk-estimator sk-toggleable\"><input class=\"sk-toggleable__control sk-hidden--visually\" id=\"sk-estimator-id-8\" type=\"checkbox\" checked><label for=\"sk-estimator-id-8\" class=\"sk-toggleable__label sk-toggleable__label-arrow\">GradientBoostingClassifier</label><div class=\"sk-toggleable__content\"><pre>GradientBoostingClassifier(random_state=0)</pre></div></div></div></div></div>"
      ],
      "text/plain": [
       "GradientBoostingClassifier(random_state=0)"
      ]
     },
     "execution_count": 133,
     "metadata": {},
     "output_type": "execute_result"
    }
   ],
   "source": [
    "# Gradient Boosting\n",
    "modeloGB = GradientBoostingClassifier(random_state=0)\n",
    "modeloGB.fit(X_train_scaler, y_train)"
   ]
  },
  {
   "cell_type": "code",
   "execution_count": 134,
   "metadata": {},
   "outputs": [
    {
     "data": {
      "text/plain": [
       "0.043859649122807015"
      ]
     },
     "execution_count": 134,
     "metadata": {},
     "output_type": "execute_result"
    }
   ],
   "source": [
    "modeloGB.score(X_test_scaler, y_test)"
   ]
  },
  {
   "cell_type": "markdown",
   "metadata": {},
   "source": [
    "Como o modelo não está a a+resentar os melhores desempenhos, vamos recomeçar o processo de Feature Enginier"
   ]
  },
  {
   "cell_type": "code",
   "execution_count": 135,
   "metadata": {},
   "outputs": [
    {
     "data": {
      "text/html": [
       "<div>\n",
       "<style scoped>\n",
       "    .dataframe tbody tr th:only-of-type {\n",
       "        vertical-align: middle;\n",
       "    }\n",
       "\n",
       "    .dataframe tbody tr th {\n",
       "        vertical-align: top;\n",
       "    }\n",
       "\n",
       "    .dataframe thead th {\n",
       "        text-align: right;\n",
       "    }\n",
       "</style>\n",
       "<table border=\"1\" class=\"dataframe\">\n",
       "  <thead>\n",
       "    <tr style=\"text-align: right;\">\n",
       "      <th></th>\n",
       "      <th>nome</th>\n",
       "      <th>posicao_jogador</th>\n",
       "      <th>idade</th>\n",
       "      <th>altura_jogador</th>\n",
       "      <th>peso_jogador</th>\n",
       "      <th>nacionalidade</th>\n",
       "      <th>time</th>\n",
       "      <th>ano</th>\n",
       "      <th>classificacao_time</th>\n",
       "    </tr>\n",
       "  </thead>\n",
       "  <tbody>\n",
       "    <tr>\n",
       "      <th>0</th>\n",
       "      <td>Manuel Almunia</td>\n",
       "      <td>G</td>\n",
       "      <td>44.0</td>\n",
       "      <td>1.91</td>\n",
       "      <td>86.0</td>\n",
       "      <td>Espanha</td>\n",
       "      <td>arsenal</td>\n",
       "      <td>2003</td>\n",
       "      <td>1</td>\n",
       "    </tr>\n",
       "    <tr>\n",
       "      <th>1</th>\n",
       "      <td>Mark Howard</td>\n",
       "      <td>G</td>\n",
       "      <td>35.0</td>\n",
       "      <td>1.83</td>\n",
       "      <td>76.0</td>\n",
       "      <td>Inglaterra</td>\n",
       "      <td>arsenal</td>\n",
       "      <td>2003</td>\n",
       "      <td>1</td>\n",
       "    </tr>\n",
       "    <tr>\n",
       "      <th>2</th>\n",
       "      <td>Jens Lehmann1</td>\n",
       "      <td>G</td>\n",
       "      <td>51.0</td>\n",
       "      <td>1.91</td>\n",
       "      <td>87.0</td>\n",
       "      <td>Alemanha</td>\n",
       "      <td>arsenal</td>\n",
       "      <td>2003</td>\n",
       "      <td>1</td>\n",
       "    </tr>\n",
       "    <tr>\n",
       "      <th>3</th>\n",
       "      <td>Stuart Taylor13</td>\n",
       "      <td>G</td>\n",
       "      <td>40.0</td>\n",
       "      <td>1.96</td>\n",
       "      <td>79.0</td>\n",
       "      <td>Inglaterra</td>\n",
       "      <td>arsenal</td>\n",
       "      <td>2003</td>\n",
       "      <td>1</td>\n",
       "    </tr>\n",
       "    <tr>\n",
       "      <th>4</th>\n",
       "      <td>Ryan Garry</td>\n",
       "      <td>D</td>\n",
       "      <td>38.0</td>\n",
       "      <td>1.88</td>\n",
       "      <td>82.0</td>\n",
       "      <td>Inglaterra</td>\n",
       "      <td>arsenal</td>\n",
       "      <td>2003</td>\n",
       "      <td>1</td>\n",
       "    </tr>\n",
       "  </tbody>\n",
       "</table>\n",
       "</div>"
      ],
      "text/plain": [
       "              nome posicao_jogador  idade  altura_jogador  peso_jogador  \\\n",
       "0   Manuel Almunia               G   44.0            1.91          86.0   \n",
       "1      Mark Howard               G   35.0            1.83          76.0   \n",
       "2    Jens Lehmann1               G   51.0            1.91          87.0   \n",
       "3  Stuart Taylor13               G   40.0            1.96          79.0   \n",
       "4       Ryan Garry               D   38.0            1.88          82.0   \n",
       "\n",
       "  nacionalidade     time   ano  classificacao_time  \n",
       "0       Espanha  arsenal  2003                   1  \n",
       "1    Inglaterra  arsenal  2003                   1  \n",
       "2      Alemanha  arsenal  2003                   1  \n",
       "3    Inglaterra  arsenal  2003                   1  \n",
       "4    Inglaterra  arsenal  2003                   1  "
      ]
     },
     "execution_count": 135,
     "metadata": {},
     "output_type": "execute_result"
    }
   ],
   "source": [
    "#Aplicar o modelo \n",
    "dados_elenco_merge.head()"
   ]
  },
  {
   "cell_type": "markdown",
   "metadata": {},
   "source": [
    "Criando uma nova classe para agrupar"
   ]
  },
  {
   "cell_type": "code",
   "execution_count": 136,
   "metadata": {},
   "outputs": [],
   "source": [
    "dados_elenco_merge['classificacao_time2']= pd.cut(dados_elenco_merge.classificacao_time,[1,5,17,20], include_lowest=True, labels=False)"
   ]
  },
  {
   "cell_type": "code",
   "execution_count": 137,
   "metadata": {},
   "outputs": [
    {
     "data": {
      "text/html": [
       "<div>\n",
       "<style scoped>\n",
       "    .dataframe tbody tr th:only-of-type {\n",
       "        vertical-align: middle;\n",
       "    }\n",
       "\n",
       "    .dataframe tbody tr th {\n",
       "        vertical-align: top;\n",
       "    }\n",
       "\n",
       "    .dataframe thead th {\n",
       "        text-align: right;\n",
       "    }\n",
       "</style>\n",
       "<table border=\"1\" class=\"dataframe\">\n",
       "  <thead>\n",
       "    <tr style=\"text-align: right;\">\n",
       "      <th></th>\n",
       "      <th>nome</th>\n",
       "      <th>posicao_jogador</th>\n",
       "      <th>idade</th>\n",
       "      <th>altura_jogador</th>\n",
       "      <th>peso_jogador</th>\n",
       "      <th>nacionalidade</th>\n",
       "      <th>time</th>\n",
       "      <th>ano</th>\n",
       "      <th>classificacao_time</th>\n",
       "      <th>classificacao_time2</th>\n",
       "    </tr>\n",
       "  </thead>\n",
       "  <tbody>\n",
       "    <tr>\n",
       "      <th>12042</th>\n",
       "      <td>Kenny McLean23</td>\n",
       "      <td>M</td>\n",
       "      <td>29.0</td>\n",
       "      <td>1.83</td>\n",
       "      <td>68.0</td>\n",
       "      <td>Escócia</td>\n",
       "      <td>norwich city</td>\n",
       "      <td>2021</td>\n",
       "      <td>20</td>\n",
       "      <td>2</td>\n",
       "    </tr>\n",
       "    <tr>\n",
       "      <th>12043</th>\n",
       "      <td>Christos Tzolis18</td>\n",
       "      <td>A</td>\n",
       "      <td>19.0</td>\n",
       "      <td>NaN</td>\n",
       "      <td>NaN</td>\n",
       "      <td>Grécia</td>\n",
       "      <td>norwich city</td>\n",
       "      <td>2021</td>\n",
       "      <td>20</td>\n",
       "      <td>2</td>\n",
       "    </tr>\n",
       "    <tr>\n",
       "      <th>12044</th>\n",
       "      <td>Teemu Pukki22</td>\n",
       "      <td>A</td>\n",
       "      <td>31.0</td>\n",
       "      <td>1.80</td>\n",
       "      <td>73.0</td>\n",
       "      <td>Finlândia</td>\n",
       "      <td>norwich city</td>\n",
       "      <td>2021</td>\n",
       "      <td>20</td>\n",
       "      <td>2</td>\n",
       "    </tr>\n",
       "    <tr>\n",
       "      <th>12045</th>\n",
       "      <td>Joshua Sargent24</td>\n",
       "      <td>A</td>\n",
       "      <td>21.0</td>\n",
       "      <td>1.85</td>\n",
       "      <td>78.0</td>\n",
       "      <td>Estados Unidos</td>\n",
       "      <td>norwich city</td>\n",
       "      <td>2021</td>\n",
       "      <td>20</td>\n",
       "      <td>2</td>\n",
       "    </tr>\n",
       "    <tr>\n",
       "      <th>12046</th>\n",
       "      <td>Adam Idah35</td>\n",
       "      <td>A</td>\n",
       "      <td>20.0</td>\n",
       "      <td>1.91</td>\n",
       "      <td>83.0</td>\n",
       "      <td>Irlanda</td>\n",
       "      <td>norwich city</td>\n",
       "      <td>2021</td>\n",
       "      <td>20</td>\n",
       "      <td>2</td>\n",
       "    </tr>\n",
       "  </tbody>\n",
       "</table>\n",
       "</div>"
      ],
      "text/plain": [
       "                    nome posicao_jogador  idade  altura_jogador  peso_jogador  \\\n",
       "12042     Kenny McLean23               M   29.0            1.83          68.0   \n",
       "12043  Christos Tzolis18               A   19.0             NaN           NaN   \n",
       "12044      Teemu Pukki22               A   31.0            1.80          73.0   \n",
       "12045   Joshua Sargent24               A   21.0            1.85          78.0   \n",
       "12046        Adam Idah35               A   20.0            1.91          83.0   \n",
       "\n",
       "        nacionalidade          time   ano  classificacao_time  \\\n",
       "12042         Escócia  norwich city  2021                  20   \n",
       "12043          Grécia  norwich city  2021                  20   \n",
       "12044       Finlândia  norwich city  2021                  20   \n",
       "12045  Estados Unidos  norwich city  2021                  20   \n",
       "12046         Irlanda  norwich city  2021                  20   \n",
       "\n",
       "       classificacao_time2  \n",
       "12042                    2  \n",
       "12043                    2  \n",
       "12044                    2  \n",
       "12045                    2  \n",
       "12046                    2  "
      ]
     },
     "execution_count": 137,
     "metadata": {},
     "output_type": "execute_result"
    }
   ],
   "source": [
    "dados_elenco_merge.tail()"
   ]
  },
  {
   "cell_type": "code",
   "execution_count": 138,
   "metadata": {},
   "outputs": [
    {
     "data": {
      "text/plain": [
       "<bound method NDFrame.tail of                     nome posicao_jogador  idade  altura_jogador  peso_jogador  \\\n",
       "0         Manuel Almunia               G   44.0            1.91          86.0   \n",
       "1            Mark Howard               G   35.0            1.83          76.0   \n",
       "2          Jens Lehmann1               G   51.0            1.91          87.0   \n",
       "3        Stuart Taylor13               G   40.0            1.96          79.0   \n",
       "4             Ryan Garry               D   38.0            1.88          82.0   \n",
       "...                  ...             ...    ...             ...           ...   \n",
       "12042     Kenny McLean23               M   29.0            1.83          68.0   \n",
       "12043  Christos Tzolis18               A   19.0             NaN           NaN   \n",
       "12044      Teemu Pukki22               A   31.0            1.80          73.0   \n",
       "12045   Joshua Sargent24               A   21.0            1.85          78.0   \n",
       "12046        Adam Idah35               A   20.0            1.91          83.0   \n",
       "\n",
       "        nacionalidade          time   ano  classificacao_time  \\\n",
       "0             Espanha       arsenal  2003                   1   \n",
       "1          Inglaterra       arsenal  2003                   1   \n",
       "2            Alemanha       arsenal  2003                   1   \n",
       "3          Inglaterra       arsenal  2003                   1   \n",
       "4          Inglaterra       arsenal  2003                   1   \n",
       "...               ...           ...   ...                 ...   \n",
       "12042         Escócia  norwich city  2021                  20   \n",
       "12043          Grécia  norwich city  2021                  20   \n",
       "12044       Finlândia  norwich city  2021                  20   \n",
       "12045  Estados Unidos  norwich city  2021                  20   \n",
       "12046         Irlanda  norwich city  2021                  20   \n",
       "\n",
       "       classificacao_time2  estrangeiro  \n",
       "0                        0            1  \n",
       "1                        0            0  \n",
       "2                        0            1  \n",
       "3                        0            0  \n",
       "4                        0            0  \n",
       "...                    ...          ...  \n",
       "12042                    2            1  \n",
       "12043                    2            1  \n",
       "12044                    2            1  \n",
       "12045                    2            1  \n",
       "12046                    2            1  \n",
       "\n",
       "[12047 rows x 11 columns]>"
      ]
     },
     "execution_count": 138,
     "metadata": {},
     "output_type": "execute_result"
    }
   ],
   "source": [
    "#Validando se a nova variavel de classificação está certa\n",
    "dados_elenco_merge.loc[:,'estrangeiro']=dados_elenco_merge.nacionalidade.apply(lambda x:1 if x!= 'Inglaterra' else 0)\n",
    "dados_elenco_merge.tail"
   ]
  },
  {
   "cell_type": "code",
   "execution_count": 139,
   "metadata": {},
   "outputs": [
    {
     "data": {
      "text/html": [
       "<div>\n",
       "<style scoped>\n",
       "    .dataframe tbody tr th:only-of-type {\n",
       "        vertical-align: middle;\n",
       "    }\n",
       "\n",
       "    .dataframe tbody tr th {\n",
       "        vertical-align: top;\n",
       "    }\n",
       "\n",
       "    .dataframe thead th {\n",
       "        text-align: right;\n",
       "    }\n",
       "</style>\n",
       "<table border=\"1\" class=\"dataframe\">\n",
       "  <thead>\n",
       "    <tr style=\"text-align: right;\">\n",
       "      <th></th>\n",
       "      <th>nome</th>\n",
       "      <th>posicao_jogador</th>\n",
       "      <th>idade</th>\n",
       "      <th>altura_jogador</th>\n",
       "      <th>peso_jogador</th>\n",
       "      <th>nacionalidade</th>\n",
       "      <th>time</th>\n",
       "      <th>ano</th>\n",
       "      <th>classificacao_time</th>\n",
       "      <th>classificacao_time2</th>\n",
       "      <th>estrangeiro</th>\n",
       "    </tr>\n",
       "  </thead>\n",
       "  <tbody>\n",
       "    <tr>\n",
       "      <th>0</th>\n",
       "      <td>Manuel Almunia</td>\n",
       "      <td>G</td>\n",
       "      <td>44.0</td>\n",
       "      <td>1.91</td>\n",
       "      <td>86.0</td>\n",
       "      <td>Espanha</td>\n",
       "      <td>arsenal</td>\n",
       "      <td>2003</td>\n",
       "      <td>1</td>\n",
       "      <td>0</td>\n",
       "      <td>1</td>\n",
       "    </tr>\n",
       "    <tr>\n",
       "      <th>1</th>\n",
       "      <td>Mark Howard</td>\n",
       "      <td>G</td>\n",
       "      <td>35.0</td>\n",
       "      <td>1.83</td>\n",
       "      <td>76.0</td>\n",
       "      <td>Inglaterra</td>\n",
       "      <td>arsenal</td>\n",
       "      <td>2003</td>\n",
       "      <td>1</td>\n",
       "      <td>0</td>\n",
       "      <td>0</td>\n",
       "    </tr>\n",
       "    <tr>\n",
       "      <th>2</th>\n",
       "      <td>Jens Lehmann1</td>\n",
       "      <td>G</td>\n",
       "      <td>51.0</td>\n",
       "      <td>1.91</td>\n",
       "      <td>87.0</td>\n",
       "      <td>Alemanha</td>\n",
       "      <td>arsenal</td>\n",
       "      <td>2003</td>\n",
       "      <td>1</td>\n",
       "      <td>0</td>\n",
       "      <td>1</td>\n",
       "    </tr>\n",
       "    <tr>\n",
       "      <th>3</th>\n",
       "      <td>Stuart Taylor13</td>\n",
       "      <td>G</td>\n",
       "      <td>40.0</td>\n",
       "      <td>1.96</td>\n",
       "      <td>79.0</td>\n",
       "      <td>Inglaterra</td>\n",
       "      <td>arsenal</td>\n",
       "      <td>2003</td>\n",
       "      <td>1</td>\n",
       "      <td>0</td>\n",
       "      <td>0</td>\n",
       "    </tr>\n",
       "    <tr>\n",
       "      <th>4</th>\n",
       "      <td>Ryan Garry</td>\n",
       "      <td>D</td>\n",
       "      <td>38.0</td>\n",
       "      <td>1.88</td>\n",
       "      <td>82.0</td>\n",
       "      <td>Inglaterra</td>\n",
       "      <td>arsenal</td>\n",
       "      <td>2003</td>\n",
       "      <td>1</td>\n",
       "      <td>0</td>\n",
       "      <td>0</td>\n",
       "    </tr>\n",
       "  </tbody>\n",
       "</table>\n",
       "</div>"
      ],
      "text/plain": [
       "              nome posicao_jogador  idade  altura_jogador  peso_jogador  \\\n",
       "0   Manuel Almunia               G   44.0            1.91          86.0   \n",
       "1      Mark Howard               G   35.0            1.83          76.0   \n",
       "2    Jens Lehmann1               G   51.0            1.91          87.0   \n",
       "3  Stuart Taylor13               G   40.0            1.96          79.0   \n",
       "4       Ryan Garry               D   38.0            1.88          82.0   \n",
       "\n",
       "  nacionalidade     time   ano  classificacao_time  classificacao_time2  \\\n",
       "0       Espanha  arsenal  2003                   1                    0   \n",
       "1    Inglaterra  arsenal  2003                   1                    0   \n",
       "2      Alemanha  arsenal  2003                   1                    0   \n",
       "3    Inglaterra  arsenal  2003                   1                    0   \n",
       "4    Inglaterra  arsenal  2003                   1                    0   \n",
       "\n",
       "   estrangeiro  \n",
       "0            1  \n",
       "1            0  \n",
       "2            1  \n",
       "3            0  \n",
       "4            0  "
      ]
     },
     "execution_count": 139,
     "metadata": {},
     "output_type": "execute_result"
    }
   ],
   "source": [
    " #Criando uma coluna com flag para indicar se o jogador é estrangeiro ou não, usando o loc\n",
    "dados_elenco_merge.loc[:,'estrangeiro']=dados_elenco_merge.nacionalidade.apply(lambda x:1 if x!= 'Inglaterra' else 0)\n",
    "dados_elenco_merge.head()"
   ]
  },
  {
   "cell_type": "code",
   "execution_count": 140,
   "metadata": {},
   "outputs": [],
   "source": [
    "#Calcular a media dos atributos com base na nova classificação\n",
    "media_classificacao_time2=dados_elenco_merge.groupby(['ano','classificacao_time2']).agg({'idade':'mean','altura_jogador':'mean', 'peso_jogador':'mean'}).reset_index()"
   ]
  },
  {
   "cell_type": "code",
   "execution_count": 141,
   "metadata": {},
   "outputs": [
    {
     "data": {
      "text/html": [
       "<div>\n",
       "<style scoped>\n",
       "    .dataframe tbody tr th:only-of-type {\n",
       "        vertical-align: middle;\n",
       "    }\n",
       "\n",
       "    .dataframe tbody tr th {\n",
       "        vertical-align: top;\n",
       "    }\n",
       "\n",
       "    .dataframe thead th {\n",
       "        text-align: right;\n",
       "    }\n",
       "</style>\n",
       "<table border=\"1\" class=\"dataframe\">\n",
       "  <thead>\n",
       "    <tr style=\"text-align: right;\">\n",
       "      <th></th>\n",
       "      <th>ano</th>\n",
       "      <th>classificacao_time2</th>\n",
       "      <th>idade</th>\n",
       "      <th>altura_jogador</th>\n",
       "      <th>peso_jogador</th>\n",
       "    </tr>\n",
       "  </thead>\n",
       "  <tbody>\n",
       "    <tr>\n",
       "      <th>0</th>\n",
       "      <td>2003</td>\n",
       "      <td>0</td>\n",
       "      <td>40.976190</td>\n",
       "      <td>1.818743</td>\n",
       "      <td>76.018072</td>\n",
       "    </tr>\n",
       "    <tr>\n",
       "      <th>1</th>\n",
       "      <td>2003</td>\n",
       "      <td>1</td>\n",
       "      <td>42.373178</td>\n",
       "      <td>1.821686</td>\n",
       "      <td>77.077151</td>\n",
       "    </tr>\n",
       "    <tr>\n",
       "      <th>2</th>\n",
       "      <td>2003</td>\n",
       "      <td>2</td>\n",
       "      <td>42.301370</td>\n",
       "      <td>1.812329</td>\n",
       "      <td>76.712329</td>\n",
       "    </tr>\n",
       "    <tr>\n",
       "      <th>3</th>\n",
       "      <td>2004</td>\n",
       "      <td>0</td>\n",
       "      <td>40.067485</td>\n",
       "      <td>1.828354</td>\n",
       "      <td>77.558282</td>\n",
       "    </tr>\n",
       "    <tr>\n",
       "      <th>4</th>\n",
       "      <td>2004</td>\n",
       "      <td>1</td>\n",
       "      <td>41.632836</td>\n",
       "      <td>1.822275</td>\n",
       "      <td>77.241791</td>\n",
       "    </tr>\n",
       "  </tbody>\n",
       "</table>\n",
       "</div>"
      ],
      "text/plain": [
       "    ano  classificacao_time2      idade  altura_jogador  peso_jogador\n",
       "0  2003                    0  40.976190        1.818743     76.018072\n",
       "1  2003                    1  42.373178        1.821686     77.077151\n",
       "2  2003                    2  42.301370        1.812329     76.712329\n",
       "3  2004                    0  40.067485        1.828354     77.558282\n",
       "4  2004                    1  41.632836        1.822275     77.241791"
      ]
     },
     "execution_count": 141,
     "metadata": {},
     "output_type": "execute_result"
    }
   ],
   "source": [
    "media_classificacao_time2.head()"
   ]
  },
  {
   "cell_type": "code",
   "execution_count": 145,
   "metadata": {},
   "outputs": [
    {
     "data": {
      "image/png": "[encoded data removed]",
      "text/plain": [
       "<Figure size 800x600 with 2 Axes>"
      ]
     },
     "metadata": {},
     "output_type": "display_data"
    }
   ],
   "source": [
    "#Mostrar a correlação dos dados\n",
    "correlacao2 = media_classificacao_time2.corr()\n",
    "\n",
    "#Mostrar visualmente \n",
    "plt.figure(figsize=(8, 6))\n",
    "sns.heatmap(correlacao2, annot=True, cmap='coolwarm')\n",
    "plt.title('Heatmap de Correlação')\n",
    "plt.show()"
   ]
  },
  {
   "cell_type": "code",
   "execution_count": 146,
   "metadata": {},
   "outputs": [
    {
     "data": {
      "image/png": "[encoded data removed]",
      "text/plain": [
       "<Figure size 800x600 with 1 Axes>"
      ]
     },
     "metadata": {},
     "output_type": "display_data"
    }
   ],
   "source": [
    "#Faça um grafico de dispersão\n",
    "plt.figure(figsize=(8, 6))\n",
    "sns.scatterplot(data=media_classificacao_time2, x='idade', y='altura_jogador', hue='classificacao_time2')\n",
    "plt.title('Dispersão da Idade e Altura dos Jogadores')\n",
    "plt.show()\n",
    "\n"
   ]
  }
 ],
 "metadata": {
  "kernelspec": {
   "display_name": "Python 3",
   "language": "python",
   "name": "python3"
  },
  "language_info": {
   "codemirror_mode": {
    "name": "ipython",
    "version": 3
   },
   "file_extension": ".py",
   "mimetype": "text/x-python",
   "name": "python",
   "nbconvert_exporter": "python",
   "pygments_lexer": "ipython3",
   "version": "3.12.0"
  }
 },
 "nbformat": 4,
 "nbformat_minor": 2
}
